{
 "cells": [
  {
   "cell_type": "code",
   "execution_count": 5,
   "id": "d2eae074",
   "metadata": {},
   "outputs": [
    {
     "data": {
      "application/vnd.plotly.v1+json": {
       "config": {
        "plotlyServerURL": "https://plot.ly"
       },
       "data": [
        {
         "hovertemplate": "Location=%{x}<br>field_of_study=%{y}<extra></extra>",
         "legendgroup": "",
         "marker": {
          "color": "#636efa",
          "symbol": "circle"
         },
         "mode": "markers",
         "name": "",
         "orientation": "v",
         "showlegend": false,
         "type": "scatter",
         "x": [
          "Pakistan",
          "Pakistan",
          "Pakistan",
          "Pakistan",
          "Pakistan",
          "Pakistan",
          "Pakistan",
          "West",
          "Pakistan",
          "West",
          "East",
          "Pakistan",
          "West",
          "Pakistan",
          "Pakistan",
          "East",
          "Pakistan",
          "Pakistan",
          "East",
          "Pakistan",
          "Pakistan",
          "Pakistan",
          "Pakistan",
          "West",
          "East",
          "Pakistan",
          "Pakistan",
          "Pakistan",
          "Pakistan",
          "East",
          "East",
          "Pakistan",
          "Pakistan",
          "West",
          "Pakistan",
          "Pakistan",
          "Pakistan",
          "Pakistan",
          "West",
          "Pakistan",
          "Pakistan",
          "Pakistan",
          "Pakistan",
          "Pakistan",
          "Pakistan",
          "West",
          "Pakistan",
          "West",
          "Pakistan",
          "Pakistan",
          "Pakistan",
          "Pakistan",
          "East",
          "Pakistan",
          "Pakistan",
          "Pakistan",
          "Pakistan",
          "West",
          "Pakistan",
          "Pakistan",
          "Pakistan",
          "Pakistan",
          "Pakistan",
          "Pakistan",
          "Pakistan",
          "Pakistan",
          "Pakistan",
          "Pakistan",
          "Pakistan",
          "Pakistan",
          "Pakistan",
          "Pakistan",
          "Pakistan",
          "Pakistan",
          "Pakistan",
          "Pakistan",
          "Pakistan",
          "Pakistan",
          "Pakistan",
          "Pakistan",
          "Pakistan",
          "Pakistan",
          "Pakistan",
          "Pakistan",
          "Pakistan",
          "Pakistan",
          "Pakistan",
          "Pakistan",
          "Pakistan",
          "Pakistan",
          "Pakistan",
          "Pakistan",
          "Pakistan",
          "Pakistan",
          "West",
          "Pakistan",
          "Pakistan",
          "Pakistan",
          "Pakistan",
          "Pakistan",
          "West",
          "Pakistan",
          "Pakistan",
          "Pakistan",
          "Pakistan",
          "Pakistan",
          "Pakistan",
          "Pakistan",
          "Pakistan",
          "Pakistan",
          "Pakistan",
          "Pakistan",
          "Pakistan",
          "East",
          "Pakistan",
          "Pakistan",
          "Pakistan",
          "Pakistan",
          "Pakistan",
          "Pakistan",
          "Pakistan",
          "Pakistan",
          "Pakistan",
          "Pakistan",
          "West",
          "Pakistan",
          "Pakistan",
          "Pakistan",
          "Pakistan",
          "Pakistan",
          "Pakistan",
          "Pakistan",
          "Pakistan",
          "Pakistan",
          "Pakistan",
          "Pakistan",
          "West",
          "East",
          "Pakistan",
          "Pakistan",
          "Pakistan",
          "West",
          "Pakistan",
          "Pakistan",
          "Pakistan",
          "Pakistan",
          "Pakistan",
          "Pakistan",
          "Pakistan",
          "Pakistan",
          "Pakistan",
          "West",
          "West",
          "Pakistan",
          "Pakistan",
          "Pakistan",
          "Pakistan",
          "Pakistan",
          "Pakistan",
          "Pakistan",
          "Pakistan",
          "Pakistan",
          "Pakistan",
          "Pakistan",
          "Pakistan",
          "Pakistan",
          "West",
          "Pakistan",
          "India",
          "Pakistan",
          "Pakistan",
          "West",
          "Pakistan",
          "Pakistan",
          "Pakistan",
          "Pakistan",
          "Pakistan",
          "Pakistan",
          "Pakistan",
          "Pakistan",
          "Pakistan",
          "Pakistan",
          "East",
          "Pakistan",
          "Pakistan",
          "West",
          "Pakistan",
          "Pakistan",
          "Pakistan",
          "Pakistan",
          "West",
          "West",
          "Pakistan",
          "Pakistan",
          "Pakistan",
          "Pakistan",
          "Pakistan",
          "Pakistan",
          "Pakistan",
          "Pakistan",
          "Pakistan",
          "Pakistan",
          "Pakistan",
          "Pakistan",
          "Pakistan",
          "Pakistan",
          "Pakistan",
          "West",
          "East",
          "Pakistan",
          "West",
          "Pakistan",
          "Pakistan",
          "Pakistan",
          "Pakistan",
          "Pakistan",
          "Pakistan",
          "Pakistan",
          "Pakistan",
          "Pakistan",
          "Pakistan",
          "Pakistan",
          "Pakistan",
          "Pakistan",
          "Pakistan",
          "Pakistan",
          "Pakistan",
          "Pakistan",
          "Pakistan",
          "Pakistan",
          "Pakistan",
          "Pakistan",
          "Pakistan",
          "Pakistan",
          "Pakistan",
          "Pakistan",
          "Pakistan",
          "Pakistan",
          "Pakistan",
          "Pakistan",
          "West",
          "Pakistan",
          "Pakistan",
          "Pakistan",
          "Pakistan",
          "Pakistan",
          "Pakistan",
          "West",
          "Pakistan",
          "Pakistan",
          "Pakistan",
          "Pakistan",
          "Pakistan",
          "Pakistan",
          "West",
          "Pakistan",
          "Pakistan",
          "Pakistan",
          "Pakistan",
          "Pakistan",
          "Pakistan",
          "Pakistan",
          "Pakistan",
          "Pakistan",
          "Pakistan",
          "Pakistan",
          "Pakistan",
          "Pakistan",
          "Pakistan",
          "Pakistan",
          "Pakistan",
          "Pakistan",
          "Pakistan",
          "Pakistan",
          "Pakistan",
          "Pakistan",
          "West",
          "Pakistan",
          "Pakistan",
          "West",
          "Pakistan",
          "East",
          "Pakistan",
          "Pakistan",
          "Pakistan",
          "Pakistan",
          "Pakistan",
          "West",
          "Pakistan",
          "Pakistan",
          "Pakistan",
          "Pakistan",
          "Pakistan",
          "Pakistan",
          "Pakistan",
          "Pakistan",
          "Pakistan",
          "Pakistan",
          "Pakistan",
          "Pakistan",
          "Pakistan",
          "West",
          "Pakistan",
          "Pakistan",
          "India",
          "Pakistan",
          "Pakistan",
          "Pakistan",
          "Pakistan",
          "Pakistan",
          "Pakistan",
          "Pakistan",
          "Pakistan",
          "Pakistan",
          "Pakistan",
          "Pakistan",
          "West",
          "Pakistan",
          "Pakistan",
          "Pakistan",
          "Pakistan",
          "Pakistan",
          "West",
          "Pakistan",
          "Pakistan",
          "Pakistan",
          "West",
          "West",
          "Pakistan",
          "Pakistan",
          "Pakistan",
          "East",
          "Pakistan",
          "Pakistan",
          "Pakistan",
          "Pakistan",
          "Pakistan",
          "Pakistan",
          "Pakistan",
          "Pakistan",
          "Pakistan",
          "Pakistan",
          "Pakistan",
          "Pakistan",
          "Pakistan",
          "Pakistan",
          "Pakistan",
          "Pakistan",
          "Pakistan",
          "Pakistan",
          "Pakistan",
          "West",
          "Pakistan",
          "Pakistan",
          "Pakistan",
          "Pakistan",
          "Pakistan",
          "Pakistan",
          "Pakistan",
          "Pakistan",
          "Pakistan",
          "Pakistan",
          "Pakistan",
          "Pakistan",
          "East",
          "West",
          "Pakistan",
          "Pakistan",
          "Pakistan",
          "Pakistan",
          "Pakistan",
          "Pakistan",
          "Pakistan",
          "Pakistan",
          "Pakistan"
         ],
         "xaxis": "x",
         "y": [
          "Natural Sciences",
          "CS/IT",
          "Enginnering",
          "CS/IT",
          "Enginnering",
          "Others",
          "Enginnering",
          "CS/IT",
          "CS/IT",
          "Natural Sciences",
          "Natural Sciences",
          "CS/IT",
          "Others",
          "Enginnering",
          "CS/IT",
          "Biology",
          "CS/IT",
          "Enginnering",
          "Enginnering",
          "Enginnering",
          "Enginnering",
          "Enginnering",
          "Enginnering",
          "Biology",
          "Others",
          "Enginnering",
          "Biology",
          "Enginnering",
          "CS/IT",
          "Biology",
          "Enginnering",
          "Business/Economics",
          "Natural Sciences",
          "Enginnering",
          "Enginnering",
          "CS/IT",
          "Mathematics",
          "Enginnering",
          "Biology",
          "Software Eng.",
          "Enginnering",
          "CS/IT",
          "Enginnering",
          "CS/IT",
          "Enginnering",
          "Mathematics",
          "Software Eng.",
          "Enginnering",
          "Software Eng.",
          "Enginnering",
          "Others",
          "CS/IT",
          "Software Eng.",
          "Enginnering",
          "Natural Sciences",
          "Business/Economics",
          "Natural Sciences",
          "Enginnering",
          "CS/IT",
          "Enginnering",
          "CS/IT",
          "Enginnering",
          "Enginnering",
          "Enginnering",
          "Enginnering",
          "CS/IT",
          "Software Eng.",
          "CS/IT",
          "Enginnering",
          "CS/IT",
          "Others",
          "Natural Sciences",
          "CS/IT",
          "Biology",
          "Enginnering",
          "Natural Sciences",
          "Enginnering",
          "Software Eng.",
          "Enginnering",
          "Natural Sciences",
          "Natural Sciences",
          "CS/IT",
          "Biology",
          "Software Eng.",
          "CS/IT",
          "Enginnering",
          "Others",
          "CS/IT",
          "CS/IT",
          "Natural Sciences",
          "Enginnering",
          "Enginnering",
          "CS/IT",
          "Biology",
          "Natural Sciences",
          "Enginnering",
          "CS/IT",
          "Enginnering",
          "Natural Sciences",
          "Natural Sciences",
          "Natural Sciences",
          "CS/IT",
          "Enginnering",
          "Software Eng.",
          "Enginnering",
          "Enginnering",
          "CS/IT",
          "Biology",
          "Enginnering",
          "Enginnering",
          "Enginnering",
          "Enginnering",
          "Enginnering",
          "Business/Economics",
          "Enginnering",
          "Enginnering",
          "Biology",
          "Natural Sciences",
          "Enginnering",
          "Mathematics",
          "Enginnering",
          "Enginnering",
          "Others",
          "Natural Sciences",
          "CS/IT",
          "CS/IT",
          "Others",
          "CS/IT",
          "Software Eng.",
          "Enginnering",
          "Enginnering",
          "Enginnering",
          "Enginnering",
          "CS/IT",
          "Natural Sciences",
          "CS/IT",
          "Mathematics",
          "Business/Economics",
          "CS/IT",
          "Biology",
          "Mathematics",
          "Enginnering",
          "CS/IT",
          "Mathematics",
          "Biology",
          "Enginnering",
          "Enginnering",
          "Enginnering",
          "Others",
          "CS/IT",
          "Enginnering",
          "Business/Economics",
          "Others",
          "Enginnering",
          "CS/IT",
          "Enginnering",
          "Biology",
          "Natural Sciences",
          "Biology",
          "Enginnering",
          "Software Eng.",
          "CS/IT",
          "Software Eng.",
          "Natural Sciences",
          "Enginnering",
          "Natural Sciences",
          "Enginnering",
          "Natural Sciences",
          "CS/IT",
          "Enginnering",
          "CS/IT",
          "Enginnering",
          "Biology",
          "Natural Sciences",
          "CS/IT",
          "Biology",
          "Enginnering",
          "Software Eng.",
          "CS/IT",
          "Software Eng.",
          "Enginnering",
          "CS/IT",
          "Natural Sciences",
          "CS/IT",
          "Enginnering",
          "CS/IT",
          "Enginnering",
          "Natural Sciences",
          "CS/IT",
          "Natural Sciences",
          "Natural Sciences",
          "Enginnering",
          "CS/IT",
          "CS/IT",
          "Enginnering",
          "Enginnering",
          "CS/IT",
          "Business/Economics",
          "Natural Sciences",
          "Enginnering",
          "CS/IT",
          "CS/IT",
          "Natural Sciences",
          "Others",
          "Enginnering",
          "Enginnering",
          "CS/IT",
          "Enginnering",
          "Software Eng.",
          "CS/IT",
          "Natural Sciences",
          "Natural Sciences",
          "Mathematics",
          "Biology",
          "Biology",
          "Enginnering",
          "Biology",
          "CS/IT",
          "Software Eng.",
          "Business/Economics",
          "Enginnering",
          "Others",
          "Natural Sciences",
          "Software Eng.",
          "CS/IT",
          "Biology",
          "Natural Sciences",
          "Enginnering",
          "Enginnering",
          "Natural Sciences",
          "CS/IT",
          "CS/IT",
          "Software Eng.",
          "Biology",
          "Biology",
          "Enginnering",
          "CS/IT",
          "Natural Sciences",
          "Enginnering",
          "CS/IT",
          "Enginnering",
          "Business/Economics",
          "Enginnering",
          "Software Eng.",
          "CS/IT",
          "Natural Sciences",
          "Natural Sciences",
          "CS/IT",
          "Business/Economics",
          "Enginnering",
          "CS/IT",
          "CS/IT",
          "Others",
          "CS/IT",
          "Others",
          "Business/Economics",
          "Biology",
          "CS/IT",
          "Software Eng.",
          "Enginnering",
          "Biology",
          "CS/IT",
          "Natural Sciences",
          "CS/IT",
          "Natural Sciences",
          "Others",
          "CS/IT",
          "CS/IT",
          "CS/IT",
          "Others",
          "Enginnering",
          "CS/IT",
          "Others",
          "Biology",
          "Statistics",
          "Enginnering",
          "CS/IT",
          "CS/IT",
          "Enginnering",
          "Enginnering",
          "CS/IT",
          "Enginnering",
          "Natural Sciences",
          "Business/Economics",
          "CS/IT",
          "Enginnering",
          "Others",
          "CS/IT",
          "Biology",
          "CS/IT",
          "CS/IT",
          "Enginnering",
          "CS/IT",
          "Enginnering",
          "Natural Sciences",
          "CS/IT",
          "Biology",
          "Mathematics",
          "Others",
          "Statistics",
          "Business/Economics",
          "Natural Sciences",
          "CS/IT",
          "Business/Economics",
          "Natural Sciences",
          "CS/IT",
          "CS/IT",
          "Biology",
          "Natural Sciences",
          "CS/IT",
          "Natural Sciences",
          "CS/IT",
          "Natural Sciences",
          "Natural Sciences",
          "Enginnering",
          "CS/IT",
          "CS/IT",
          "CS/IT",
          "Natural Sciences",
          "Natural Sciences",
          "Business/Economics",
          "Others",
          "Enginnering",
          "Natural Sciences",
          "Biology",
          "Enginnering",
          "Natural Sciences",
          "CS/IT",
          "CS/IT",
          "Software Eng.",
          "Enginnering",
          "Business/Economics",
          "CS/IT",
          "CS/IT",
          "Natural Sciences",
          "Mathematics",
          "CS/IT",
          "Enginnering",
          "Business/Economics",
          "Enginnering",
          "Business/Economics",
          "Enginnering",
          "CS/IT",
          "Biology",
          "Business/Economics",
          "Biology",
          "Enginnering",
          "CS/IT",
          "Enginnering",
          "CS/IT",
          "CS/IT",
          "Natural Sciences",
          "Enginnering",
          "Enginnering",
          "CS/IT",
          "CS/IT",
          "Natural Sciences",
          "CS/IT",
          "Natural Sciences",
          "Business/Economics",
          "Business/Economics",
          "CS/IT",
          "Enginnering",
          "CS/IT",
          "Software Eng.",
          "Enginnering",
          "Others",
          "Enginnering",
          "Mathematics",
          "CS/IT",
          "Enginnering",
          "Enginnering",
          "CS/IT",
          "Enginnering",
          "Mathematics"
         ],
         "yaxis": "y"
        }
       ],
       "layout": {
        "legend": {
         "tracegroupgap": 0
        },
        "margin": {
         "t": 60
        },
        "template": {
         "data": {
          "bar": [
           {
            "error_x": {
             "color": "#2a3f5f"
            },
            "error_y": {
             "color": "#2a3f5f"
            },
            "marker": {
             "line": {
              "color": "#E5ECF6",
              "width": 0.5
             },
             "pattern": {
              "fillmode": "overlay",
              "size": 10,
              "solidity": 0.2
             }
            },
            "type": "bar"
           }
          ],
          "barpolar": [
           {
            "marker": {
             "line": {
              "color": "#E5ECF6",
              "width": 0.5
             },
             "pattern": {
              "fillmode": "overlay",
              "size": 10,
              "solidity": 0.2
             }
            },
            "type": "barpolar"
           }
          ],
          "carpet": [
           {
            "aaxis": {
             "endlinecolor": "#2a3f5f",
             "gridcolor": "white",
             "linecolor": "white",
             "minorgridcolor": "white",
             "startlinecolor": "#2a3f5f"
            },
            "baxis": {
             "endlinecolor": "#2a3f5f",
             "gridcolor": "white",
             "linecolor": "white",
             "minorgridcolor": "white",
             "startlinecolor": "#2a3f5f"
            },
            "type": "carpet"
           }
          ],
          "choropleth": [
           {
            "colorbar": {
             "outlinewidth": 0,
             "ticks": ""
            },
            "type": "choropleth"
           }
          ],
          "contour": [
           {
            "colorbar": {
             "outlinewidth": 0,
             "ticks": ""
            },
            "colorscale": [
             [
              0,
              "#0d0887"
             ],
             [
              0.1111111111111111,
              "#46039f"
             ],
             [
              0.2222222222222222,
              "#7201a8"
             ],
             [
              0.3333333333333333,
              "#9c179e"
             ],
             [
              0.4444444444444444,
              "#bd3786"
             ],
             [
              0.5555555555555556,
              "#d8576b"
             ],
             [
              0.6666666666666666,
              "#ed7953"
             ],
             [
              0.7777777777777778,
              "#fb9f3a"
             ],
             [
              0.8888888888888888,
              "#fdca26"
             ],
             [
              1,
              "#f0f921"
             ]
            ],
            "type": "contour"
           }
          ],
          "contourcarpet": [
           {
            "colorbar": {
             "outlinewidth": 0,
             "ticks": ""
            },
            "type": "contourcarpet"
           }
          ],
          "heatmap": [
           {
            "colorbar": {
             "outlinewidth": 0,
             "ticks": ""
            },
            "colorscale": [
             [
              0,
              "#0d0887"
             ],
             [
              0.1111111111111111,
              "#46039f"
             ],
             [
              0.2222222222222222,
              "#7201a8"
             ],
             [
              0.3333333333333333,
              "#9c179e"
             ],
             [
              0.4444444444444444,
              "#bd3786"
             ],
             [
              0.5555555555555556,
              "#d8576b"
             ],
             [
              0.6666666666666666,
              "#ed7953"
             ],
             [
              0.7777777777777778,
              "#fb9f3a"
             ],
             [
              0.8888888888888888,
              "#fdca26"
             ],
             [
              1,
              "#f0f921"
             ]
            ],
            "type": "heatmap"
           }
          ],
          "heatmapgl": [
           {
            "colorbar": {
             "outlinewidth": 0,
             "ticks": ""
            },
            "colorscale": [
             [
              0,
              "#0d0887"
             ],
             [
              0.1111111111111111,
              "#46039f"
             ],
             [
              0.2222222222222222,
              "#7201a8"
             ],
             [
              0.3333333333333333,
              "#9c179e"
             ],
             [
              0.4444444444444444,
              "#bd3786"
             ],
             [
              0.5555555555555556,
              "#d8576b"
             ],
             [
              0.6666666666666666,
              "#ed7953"
             ],
             [
              0.7777777777777778,
              "#fb9f3a"
             ],
             [
              0.8888888888888888,
              "#fdca26"
             ],
             [
              1,
              "#f0f921"
             ]
            ],
            "type": "heatmapgl"
           }
          ],
          "histogram": [
           {
            "marker": {
             "pattern": {
              "fillmode": "overlay",
              "size": 10,
              "solidity": 0.2
             }
            },
            "type": "histogram"
           }
          ],
          "histogram2d": [
           {
            "colorbar": {
             "outlinewidth": 0,
             "ticks": ""
            },
            "colorscale": [
             [
              0,
              "#0d0887"
             ],
             [
              0.1111111111111111,
              "#46039f"
             ],
             [
              0.2222222222222222,
              "#7201a8"
             ],
             [
              0.3333333333333333,
              "#9c179e"
             ],
             [
              0.4444444444444444,
              "#bd3786"
             ],
             [
              0.5555555555555556,
              "#d8576b"
             ],
             [
              0.6666666666666666,
              "#ed7953"
             ],
             [
              0.7777777777777778,
              "#fb9f3a"
             ],
             [
              0.8888888888888888,
              "#fdca26"
             ],
             [
              1,
              "#f0f921"
             ]
            ],
            "type": "histogram2d"
           }
          ],
          "histogram2dcontour": [
           {
            "colorbar": {
             "outlinewidth": 0,
             "ticks": ""
            },
            "colorscale": [
             [
              0,
              "#0d0887"
             ],
             [
              0.1111111111111111,
              "#46039f"
             ],
             [
              0.2222222222222222,
              "#7201a8"
             ],
             [
              0.3333333333333333,
              "#9c179e"
             ],
             [
              0.4444444444444444,
              "#bd3786"
             ],
             [
              0.5555555555555556,
              "#d8576b"
             ],
             [
              0.6666666666666666,
              "#ed7953"
             ],
             [
              0.7777777777777778,
              "#fb9f3a"
             ],
             [
              0.8888888888888888,
              "#fdca26"
             ],
             [
              1,
              "#f0f921"
             ]
            ],
            "type": "histogram2dcontour"
           }
          ],
          "mesh3d": [
           {
            "colorbar": {
             "outlinewidth": 0,
             "ticks": ""
            },
            "type": "mesh3d"
           }
          ],
          "parcoords": [
           {
            "line": {
             "colorbar": {
              "outlinewidth": 0,
              "ticks": ""
             }
            },
            "type": "parcoords"
           }
          ],
          "pie": [
           {
            "automargin": true,
            "type": "pie"
           }
          ],
          "scatter": [
           {
            "marker": {
             "colorbar": {
              "outlinewidth": 0,
              "ticks": ""
             }
            },
            "type": "scatter"
           }
          ],
          "scatter3d": [
           {
            "line": {
             "colorbar": {
              "outlinewidth": 0,
              "ticks": ""
             }
            },
            "marker": {
             "colorbar": {
              "outlinewidth": 0,
              "ticks": ""
             }
            },
            "type": "scatter3d"
           }
          ],
          "scattercarpet": [
           {
            "marker": {
             "colorbar": {
              "outlinewidth": 0,
              "ticks": ""
             }
            },
            "type": "scattercarpet"
           }
          ],
          "scattergeo": [
           {
            "marker": {
             "colorbar": {
              "outlinewidth": 0,
              "ticks": ""
             }
            },
            "type": "scattergeo"
           }
          ],
          "scattergl": [
           {
            "marker": {
             "colorbar": {
              "outlinewidth": 0,
              "ticks": ""
             }
            },
            "type": "scattergl"
           }
          ],
          "scattermapbox": [
           {
            "marker": {
             "colorbar": {
              "outlinewidth": 0,
              "ticks": ""
             }
            },
            "type": "scattermapbox"
           }
          ],
          "scatterpolar": [
           {
            "marker": {
             "colorbar": {
              "outlinewidth": 0,
              "ticks": ""
             }
            },
            "type": "scatterpolar"
           }
          ],
          "scatterpolargl": [
           {
            "marker": {
             "colorbar": {
              "outlinewidth": 0,
              "ticks": ""
             }
            },
            "type": "scatterpolargl"
           }
          ],
          "scatterternary": [
           {
            "marker": {
             "colorbar": {
              "outlinewidth": 0,
              "ticks": ""
             }
            },
            "type": "scatterternary"
           }
          ],
          "surface": [
           {
            "colorbar": {
             "outlinewidth": 0,
             "ticks": ""
            },
            "colorscale": [
             [
              0,
              "#0d0887"
             ],
             [
              0.1111111111111111,
              "#46039f"
             ],
             [
              0.2222222222222222,
              "#7201a8"
             ],
             [
              0.3333333333333333,
              "#9c179e"
             ],
             [
              0.4444444444444444,
              "#bd3786"
             ],
             [
              0.5555555555555556,
              "#d8576b"
             ],
             [
              0.6666666666666666,
              "#ed7953"
             ],
             [
              0.7777777777777778,
              "#fb9f3a"
             ],
             [
              0.8888888888888888,
              "#fdca26"
             ],
             [
              1,
              "#f0f921"
             ]
            ],
            "type": "surface"
           }
          ],
          "table": [
           {
            "cells": {
             "fill": {
              "color": "#EBF0F8"
             },
             "line": {
              "color": "white"
             }
            },
            "header": {
             "fill": {
              "color": "#C8D4E3"
             },
             "line": {
              "color": "white"
             }
            },
            "type": "table"
           }
          ]
         },
         "layout": {
          "annotationdefaults": {
           "arrowcolor": "#2a3f5f",
           "arrowhead": 0,
           "arrowwidth": 1
          },
          "autotypenumbers": "strict",
          "coloraxis": {
           "colorbar": {
            "outlinewidth": 0,
            "ticks": ""
           }
          },
          "colorscale": {
           "diverging": [
            [
             0,
             "#8e0152"
            ],
            [
             0.1,
             "#c51b7d"
            ],
            [
             0.2,
             "#de77ae"
            ],
            [
             0.3,
             "#f1b6da"
            ],
            [
             0.4,
             "#fde0ef"
            ],
            [
             0.5,
             "#f7f7f7"
            ],
            [
             0.6,
             "#e6f5d0"
            ],
            [
             0.7,
             "#b8e186"
            ],
            [
             0.8,
             "#7fbc41"
            ],
            [
             0.9,
             "#4d9221"
            ],
            [
             1,
             "#276419"
            ]
           ],
           "sequential": [
            [
             0,
             "#0d0887"
            ],
            [
             0.1111111111111111,
             "#46039f"
            ],
            [
             0.2222222222222222,
             "#7201a8"
            ],
            [
             0.3333333333333333,
             "#9c179e"
            ],
            [
             0.4444444444444444,
             "#bd3786"
            ],
            [
             0.5555555555555556,
             "#d8576b"
            ],
            [
             0.6666666666666666,
             "#ed7953"
            ],
            [
             0.7777777777777778,
             "#fb9f3a"
            ],
            [
             0.8888888888888888,
             "#fdca26"
            ],
            [
             1,
             "#f0f921"
            ]
           ],
           "sequentialminus": [
            [
             0,
             "#0d0887"
            ],
            [
             0.1111111111111111,
             "#46039f"
            ],
            [
             0.2222222222222222,
             "#7201a8"
            ],
            [
             0.3333333333333333,
             "#9c179e"
            ],
            [
             0.4444444444444444,
             "#bd3786"
            ],
            [
             0.5555555555555556,
             "#d8576b"
            ],
            [
             0.6666666666666666,
             "#ed7953"
            ],
            [
             0.7777777777777778,
             "#fb9f3a"
            ],
            [
             0.8888888888888888,
             "#fdca26"
            ],
            [
             1,
             "#f0f921"
            ]
           ]
          },
          "colorway": [
           "#636efa",
           "#EF553B",
           "#00cc96",
           "#ab63fa",
           "#FFA15A",
           "#19d3f3",
           "#FF6692",
           "#B6E880",
           "#FF97FF",
           "#FECB52"
          ],
          "font": {
           "color": "#2a3f5f"
          },
          "geo": {
           "bgcolor": "white",
           "lakecolor": "white",
           "landcolor": "#E5ECF6",
           "showlakes": true,
           "showland": true,
           "subunitcolor": "white"
          },
          "hoverlabel": {
           "align": "left"
          },
          "hovermode": "closest",
          "mapbox": {
           "style": "light"
          },
          "paper_bgcolor": "white",
          "plot_bgcolor": "#E5ECF6",
          "polar": {
           "angularaxis": {
            "gridcolor": "white",
            "linecolor": "white",
            "ticks": ""
           },
           "bgcolor": "#E5ECF6",
           "radialaxis": {
            "gridcolor": "white",
            "linecolor": "white",
            "ticks": ""
           }
          },
          "scene": {
           "xaxis": {
            "backgroundcolor": "#E5ECF6",
            "gridcolor": "white",
            "gridwidth": 2,
            "linecolor": "white",
            "showbackground": true,
            "ticks": "",
            "zerolinecolor": "white"
           },
           "yaxis": {
            "backgroundcolor": "#E5ECF6",
            "gridcolor": "white",
            "gridwidth": 2,
            "linecolor": "white",
            "showbackground": true,
            "ticks": "",
            "zerolinecolor": "white"
           },
           "zaxis": {
            "backgroundcolor": "#E5ECF6",
            "gridcolor": "white",
            "gridwidth": 2,
            "linecolor": "white",
            "showbackground": true,
            "ticks": "",
            "zerolinecolor": "white"
           }
          },
          "shapedefaults": {
           "line": {
            "color": "#2a3f5f"
           }
          },
          "ternary": {
           "aaxis": {
            "gridcolor": "white",
            "linecolor": "white",
            "ticks": ""
           },
           "baxis": {
            "gridcolor": "white",
            "linecolor": "white",
            "ticks": ""
           },
           "bgcolor": "#E5ECF6",
           "caxis": {
            "gridcolor": "white",
            "linecolor": "white",
            "ticks": ""
           }
          },
          "title": {
           "x": 0.05
          },
          "xaxis": {
           "automargin": true,
           "gridcolor": "white",
           "linecolor": "white",
           "ticks": "",
           "title": {
            "standoff": 15
           },
           "zerolinecolor": "white",
           "zerolinewidth": 2
          },
          "yaxis": {
           "automargin": true,
           "gridcolor": "white",
           "linecolor": "white",
           "ticks": "",
           "title": {
            "standoff": 15
           },
           "zerolinecolor": "white",
           "zerolinewidth": 2
          }
         }
        },
        "xaxis": {
         "anchor": "y",
         "domain": [
          0,
          1
         ],
         "title": {
          "text": "Location"
         }
        },
        "yaxis": {
         "anchor": "x",
         "domain": [
          0,
          1
         ],
         "title": {
          "text": "field_of_study"
         }
        }
       }
      },
      "text/html": [
       "<div>                            <div id=\"db506cbd-4309-478e-9695-9029d83fc36d\" class=\"plotly-graph-div\" style=\"height:525px; width:100%;\"></div>            <script type=\"text/javascript\">                require([\"plotly\"], function(Plotly) {                    window.PLOTLYENV=window.PLOTLYENV || {};                                    if (document.getElementById(\"db506cbd-4309-478e-9695-9029d83fc36d\")) {                    Plotly.newPlot(                        \"db506cbd-4309-478e-9695-9029d83fc36d\",                        [{\"hovertemplate\":\"Location=%{x}<br>field_of_study=%{y}<extra></extra>\",\"legendgroup\":\"\",\"marker\":{\"color\":\"#636efa\",\"symbol\":\"circle\"},\"mode\":\"markers\",\"name\":\"\",\"orientation\":\"v\",\"showlegend\":false,\"x\":[\"Pakistan\",\"Pakistan\",\"Pakistan\",\"Pakistan\",\"Pakistan\",\"Pakistan\",\"Pakistan\",\"West\",\"Pakistan\",\"West\",\"East\",\"Pakistan\",\"West\",\"Pakistan\",\"Pakistan\",\"East\",\"Pakistan\",\"Pakistan\",\"East\",\"Pakistan\",\"Pakistan\",\"Pakistan\",\"Pakistan\",\"West\",\"East\",\"Pakistan\",\"Pakistan\",\"Pakistan\",\"Pakistan\",\"East\",\"East\",\"Pakistan\",\"Pakistan\",\"West\",\"Pakistan\",\"Pakistan\",\"Pakistan\",\"Pakistan\",\"West\",\"Pakistan\",\"Pakistan\",\"Pakistan\",\"Pakistan\",\"Pakistan\",\"Pakistan\",\"West\",\"Pakistan\",\"West\",\"Pakistan\",\"Pakistan\",\"Pakistan\",\"Pakistan\",\"East\",\"Pakistan\",\"Pakistan\",\"Pakistan\",\"Pakistan\",\"West\",\"Pakistan\",\"Pakistan\",\"Pakistan\",\"Pakistan\",\"Pakistan\",\"Pakistan\",\"Pakistan\",\"Pakistan\",\"Pakistan\",\"Pakistan\",\"Pakistan\",\"Pakistan\",\"Pakistan\",\"Pakistan\",\"Pakistan\",\"Pakistan\",\"Pakistan\",\"Pakistan\",\"Pakistan\",\"Pakistan\",\"Pakistan\",\"Pakistan\",\"Pakistan\",\"Pakistan\",\"Pakistan\",\"Pakistan\",\"Pakistan\",\"Pakistan\",\"Pakistan\",\"Pakistan\",\"Pakistan\",\"Pakistan\",\"Pakistan\",\"Pakistan\",\"Pakistan\",\"Pakistan\",\"West\",\"Pakistan\",\"Pakistan\",\"Pakistan\",\"Pakistan\",\"Pakistan\",\"West\",\"Pakistan\",\"Pakistan\",\"Pakistan\",\"Pakistan\",\"Pakistan\",\"Pakistan\",\"Pakistan\",\"Pakistan\",\"Pakistan\",\"Pakistan\",\"Pakistan\",\"Pakistan\",\"East\",\"Pakistan\",\"Pakistan\",\"Pakistan\",\"Pakistan\",\"Pakistan\",\"Pakistan\",\"Pakistan\",\"Pakistan\",\"Pakistan\",\"Pakistan\",\"West\",\"Pakistan\",\"Pakistan\",\"Pakistan\",\"Pakistan\",\"Pakistan\",\"Pakistan\",\"Pakistan\",\"Pakistan\",\"Pakistan\",\"Pakistan\",\"Pakistan\",\"West\",\"East\",\"Pakistan\",\"Pakistan\",\"Pakistan\",\"West\",\"Pakistan\",\"Pakistan\",\"Pakistan\",\"Pakistan\",\"Pakistan\",\"Pakistan\",\"Pakistan\",\"Pakistan\",\"Pakistan\",\"West\",\"West\",\"Pakistan\",\"Pakistan\",\"Pakistan\",\"Pakistan\",\"Pakistan\",\"Pakistan\",\"Pakistan\",\"Pakistan\",\"Pakistan\",\"Pakistan\",\"Pakistan\",\"Pakistan\",\"Pakistan\",\"West\",\"Pakistan\",\"India\",\"Pakistan\",\"Pakistan\",\"West\",\"Pakistan\",\"Pakistan\",\"Pakistan\",\"Pakistan\",\"Pakistan\",\"Pakistan\",\"Pakistan\",\"Pakistan\",\"Pakistan\",\"Pakistan\",\"East\",\"Pakistan\",\"Pakistan\",\"West\",\"Pakistan\",\"Pakistan\",\"Pakistan\",\"Pakistan\",\"West\",\"West\",\"Pakistan\",\"Pakistan\",\"Pakistan\",\"Pakistan\",\"Pakistan\",\"Pakistan\",\"Pakistan\",\"Pakistan\",\"Pakistan\",\"Pakistan\",\"Pakistan\",\"Pakistan\",\"Pakistan\",\"Pakistan\",\"Pakistan\",\"West\",\"East\",\"Pakistan\",\"West\",\"Pakistan\",\"Pakistan\",\"Pakistan\",\"Pakistan\",\"Pakistan\",\"Pakistan\",\"Pakistan\",\"Pakistan\",\"Pakistan\",\"Pakistan\",\"Pakistan\",\"Pakistan\",\"Pakistan\",\"Pakistan\",\"Pakistan\",\"Pakistan\",\"Pakistan\",\"Pakistan\",\"Pakistan\",\"Pakistan\",\"Pakistan\",\"Pakistan\",\"Pakistan\",\"Pakistan\",\"Pakistan\",\"Pakistan\",\"Pakistan\",\"Pakistan\",\"Pakistan\",\"West\",\"Pakistan\",\"Pakistan\",\"Pakistan\",\"Pakistan\",\"Pakistan\",\"Pakistan\",\"West\",\"Pakistan\",\"Pakistan\",\"Pakistan\",\"Pakistan\",\"Pakistan\",\"Pakistan\",\"West\",\"Pakistan\",\"Pakistan\",\"Pakistan\",\"Pakistan\",\"Pakistan\",\"Pakistan\",\"Pakistan\",\"Pakistan\",\"Pakistan\",\"Pakistan\",\"Pakistan\",\"Pakistan\",\"Pakistan\",\"Pakistan\",\"Pakistan\",\"Pakistan\",\"Pakistan\",\"Pakistan\",\"Pakistan\",\"Pakistan\",\"Pakistan\",\"West\",\"Pakistan\",\"Pakistan\",\"West\",\"Pakistan\",\"East\",\"Pakistan\",\"Pakistan\",\"Pakistan\",\"Pakistan\",\"Pakistan\",\"West\",\"Pakistan\",\"Pakistan\",\"Pakistan\",\"Pakistan\",\"Pakistan\",\"Pakistan\",\"Pakistan\",\"Pakistan\",\"Pakistan\",\"Pakistan\",\"Pakistan\",\"Pakistan\",\"Pakistan\",\"West\",\"Pakistan\",\"Pakistan\",\"India\",\"Pakistan\",\"Pakistan\",\"Pakistan\",\"Pakistan\",\"Pakistan\",\"Pakistan\",\"Pakistan\",\"Pakistan\",\"Pakistan\",\"Pakistan\",\"Pakistan\",\"West\",\"Pakistan\",\"Pakistan\",\"Pakistan\",\"Pakistan\",\"Pakistan\",\"West\",\"Pakistan\",\"Pakistan\",\"Pakistan\",\"West\",\"West\",\"Pakistan\",\"Pakistan\",\"Pakistan\",\"East\",\"Pakistan\",\"Pakistan\",\"Pakistan\",\"Pakistan\",\"Pakistan\",\"Pakistan\",\"Pakistan\",\"Pakistan\",\"Pakistan\",\"Pakistan\",\"Pakistan\",\"Pakistan\",\"Pakistan\",\"Pakistan\",\"Pakistan\",\"Pakistan\",\"Pakistan\",\"Pakistan\",\"Pakistan\",\"West\",\"Pakistan\",\"Pakistan\",\"Pakistan\",\"Pakistan\",\"Pakistan\",\"Pakistan\",\"Pakistan\",\"Pakistan\",\"Pakistan\",\"Pakistan\",\"Pakistan\",\"Pakistan\",\"East\",\"West\",\"Pakistan\",\"Pakistan\",\"Pakistan\",\"Pakistan\",\"Pakistan\",\"Pakistan\",\"Pakistan\",\"Pakistan\",\"Pakistan\"],\"xaxis\":\"x\",\"y\":[\"Natural Sciences\",\"CS/IT\",\"Enginnering\",\"CS/IT\",\"Enginnering\",\"Others\",\"Enginnering\",\"CS/IT\",\"CS/IT\",\"Natural Sciences\",\"Natural Sciences\",\"CS/IT\",\"Others\",\"Enginnering\",\"CS/IT\",\"Biology\",\"CS/IT\",\"Enginnering\",\"Enginnering\",\"Enginnering\",\"Enginnering\",\"Enginnering\",\"Enginnering\",\"Biology\",\"Others\",\"Enginnering\",\"Biology\",\"Enginnering\",\"CS/IT\",\"Biology\",\"Enginnering\",\"Business/Economics\",\"Natural Sciences\",\"Enginnering\",\"Enginnering\",\"CS/IT\",\"Mathematics\",\"Enginnering\",\"Biology\",\"Software Eng.\",\"Enginnering\",\"CS/IT\",\"Enginnering\",\"CS/IT\",\"Enginnering\",\"Mathematics\",\"Software Eng.\",\"Enginnering\",\"Software Eng.\",\"Enginnering\",\"Others\",\"CS/IT\",\"Software Eng.\",\"Enginnering\",\"Natural Sciences\",\"Business/Economics\",\"Natural Sciences\",\"Enginnering\",\"CS/IT\",\"Enginnering\",\"CS/IT\",\"Enginnering\",\"Enginnering\",\"Enginnering\",\"Enginnering\",\"CS/IT\",\"Software Eng.\",\"CS/IT\",\"Enginnering\",\"CS/IT\",\"Others\",\"Natural Sciences\",\"CS/IT\",\"Biology\",\"Enginnering\",\"Natural Sciences\",\"Enginnering\",\"Software Eng.\",\"Enginnering\",\"Natural Sciences\",\"Natural Sciences\",\"CS/IT\",\"Biology\",\"Software Eng.\",\"CS/IT\",\"Enginnering\",\"Others\",\"CS/IT\",\"CS/IT\",\"Natural Sciences\",\"Enginnering\",\"Enginnering\",\"CS/IT\",\"Biology\",\"Natural Sciences\",\"Enginnering\",\"CS/IT\",\"Enginnering\",\"Natural Sciences\",\"Natural Sciences\",\"Natural Sciences\",\"CS/IT\",\"Enginnering\",\"Software Eng.\",\"Enginnering\",\"Enginnering\",\"CS/IT\",\"Biology\",\"Enginnering\",\"Enginnering\",\"Enginnering\",\"Enginnering\",\"Enginnering\",\"Business/Economics\",\"Enginnering\",\"Enginnering\",\"Biology\",\"Natural Sciences\",\"Enginnering\",\"Mathematics\",\"Enginnering\",\"Enginnering\",\"Others\",\"Natural Sciences\",\"CS/IT\",\"CS/IT\",\"Others\",\"CS/IT\",\"Software Eng.\",\"Enginnering\",\"Enginnering\",\"Enginnering\",\"Enginnering\",\"CS/IT\",\"Natural Sciences\",\"CS/IT\",\"Mathematics\",\"Business/Economics\",\"CS/IT\",\"Biology\",\"Mathematics\",\"Enginnering\",\"CS/IT\",\"Mathematics\",\"Biology\",\"Enginnering\",\"Enginnering\",\"Enginnering\",\"Others\",\"CS/IT\",\"Enginnering\",\"Business/Economics\",\"Others\",\"Enginnering\",\"CS/IT\",\"Enginnering\",\"Biology\",\"Natural Sciences\",\"Biology\",\"Enginnering\",\"Software Eng.\",\"CS/IT\",\"Software Eng.\",\"Natural Sciences\",\"Enginnering\",\"Natural Sciences\",\"Enginnering\",\"Natural Sciences\",\"CS/IT\",\"Enginnering\",\"CS/IT\",\"Enginnering\",\"Biology\",\"Natural Sciences\",\"CS/IT\",\"Biology\",\"Enginnering\",\"Software Eng.\",\"CS/IT\",\"Software Eng.\",\"Enginnering\",\"CS/IT\",\"Natural Sciences\",\"CS/IT\",\"Enginnering\",\"CS/IT\",\"Enginnering\",\"Natural Sciences\",\"CS/IT\",\"Natural Sciences\",\"Natural Sciences\",\"Enginnering\",\"CS/IT\",\"CS/IT\",\"Enginnering\",\"Enginnering\",\"CS/IT\",\"Business/Economics\",\"Natural Sciences\",\"Enginnering\",\"CS/IT\",\"CS/IT\",\"Natural Sciences\",\"Others\",\"Enginnering\",\"Enginnering\",\"CS/IT\",\"Enginnering\",\"Software Eng.\",\"CS/IT\",\"Natural Sciences\",\"Natural Sciences\",\"Mathematics\",\"Biology\",\"Biology\",\"Enginnering\",\"Biology\",\"CS/IT\",\"Software Eng.\",\"Business/Economics\",\"Enginnering\",\"Others\",\"Natural Sciences\",\"Software Eng.\",\"CS/IT\",\"Biology\",\"Natural Sciences\",\"Enginnering\",\"Enginnering\",\"Natural Sciences\",\"CS/IT\",\"CS/IT\",\"Software Eng.\",\"Biology\",\"Biology\",\"Enginnering\",\"CS/IT\",\"Natural Sciences\",\"Enginnering\",\"CS/IT\",\"Enginnering\",\"Business/Economics\",\"Enginnering\",\"Software Eng.\",\"CS/IT\",\"Natural Sciences\",\"Natural Sciences\",\"CS/IT\",\"Business/Economics\",\"Enginnering\",\"CS/IT\",\"CS/IT\",\"Others\",\"CS/IT\",\"Others\",\"Business/Economics\",\"Biology\",\"CS/IT\",\"Software Eng.\",\"Enginnering\",\"Biology\",\"CS/IT\",\"Natural Sciences\",\"CS/IT\",\"Natural Sciences\",\"Others\",\"CS/IT\",\"CS/IT\",\"CS/IT\",\"Others\",\"Enginnering\",\"CS/IT\",\"Others\",\"Biology\",\"Statistics\",\"Enginnering\",\"CS/IT\",\"CS/IT\",\"Enginnering\",\"Enginnering\",\"CS/IT\",\"Enginnering\",\"Natural Sciences\",\"Business/Economics\",\"CS/IT\",\"Enginnering\",\"Others\",\"CS/IT\",\"Biology\",\"CS/IT\",\"CS/IT\",\"Enginnering\",\"CS/IT\",\"Enginnering\",\"Natural Sciences\",\"CS/IT\",\"Biology\",\"Mathematics\",\"Others\",\"Statistics\",\"Business/Economics\",\"Natural Sciences\",\"CS/IT\",\"Business/Economics\",\"Natural Sciences\",\"CS/IT\",\"CS/IT\",\"Biology\",\"Natural Sciences\",\"CS/IT\",\"Natural Sciences\",\"CS/IT\",\"Natural Sciences\",\"Natural Sciences\",\"Enginnering\",\"CS/IT\",\"CS/IT\",\"CS/IT\",\"Natural Sciences\",\"Natural Sciences\",\"Business/Economics\",\"Others\",\"Enginnering\",\"Natural Sciences\",\"Biology\",\"Enginnering\",\"Natural Sciences\",\"CS/IT\",\"CS/IT\",\"Software Eng.\",\"Enginnering\",\"Business/Economics\",\"CS/IT\",\"CS/IT\",\"Natural Sciences\",\"Mathematics\",\"CS/IT\",\"Enginnering\",\"Business/Economics\",\"Enginnering\",\"Business/Economics\",\"Enginnering\",\"CS/IT\",\"Biology\",\"Business/Economics\",\"Biology\",\"Enginnering\",\"CS/IT\",\"Enginnering\",\"CS/IT\",\"CS/IT\",\"Natural Sciences\",\"Enginnering\",\"Enginnering\",\"CS/IT\",\"CS/IT\",\"Natural Sciences\",\"CS/IT\",\"Natural Sciences\",\"Business/Economics\",\"Business/Economics\",\"CS/IT\",\"Enginnering\",\"CS/IT\",\"Software Eng.\",\"Enginnering\",\"Others\",\"Enginnering\",\"Mathematics\",\"CS/IT\",\"Enginnering\",\"Enginnering\",\"CS/IT\",\"Enginnering\",\"Mathematics\"],\"yaxis\":\"y\",\"type\":\"scatter\"}],                        {\"template\":{\"data\":{\"bar\":[{\"error_x\":{\"color\":\"#2a3f5f\"},\"error_y\":{\"color\":\"#2a3f5f\"},\"marker\":{\"line\":{\"color\":\"#E5ECF6\",\"width\":0.5},\"pattern\":{\"fillmode\":\"overlay\",\"size\":10,\"solidity\":0.2}},\"type\":\"bar\"}],\"barpolar\":[{\"marker\":{\"line\":{\"color\":\"#E5ECF6\",\"width\":0.5},\"pattern\":{\"fillmode\":\"overlay\",\"size\":10,\"solidity\":0.2}},\"type\":\"barpolar\"}],\"carpet\":[{\"aaxis\":{\"endlinecolor\":\"#2a3f5f\",\"gridcolor\":\"white\",\"linecolor\":\"white\",\"minorgridcolor\":\"white\",\"startlinecolor\":\"#2a3f5f\"},\"baxis\":{\"endlinecolor\":\"#2a3f5f\",\"gridcolor\":\"white\",\"linecolor\":\"white\",\"minorgridcolor\":\"white\",\"startlinecolor\":\"#2a3f5f\"},\"type\":\"carpet\"}],\"choropleth\":[{\"colorbar\":{\"outlinewidth\":0,\"ticks\":\"\"},\"type\":\"choropleth\"}],\"contour\":[{\"colorbar\":{\"outlinewidth\":0,\"ticks\":\"\"},\"colorscale\":[[0.0,\"#0d0887\"],[0.1111111111111111,\"#46039f\"],[0.2222222222222222,\"#7201a8\"],[0.3333333333333333,\"#9c179e\"],[0.4444444444444444,\"#bd3786\"],[0.5555555555555556,\"#d8576b\"],[0.6666666666666666,\"#ed7953\"],[0.7777777777777778,\"#fb9f3a\"],[0.8888888888888888,\"#fdca26\"],[1.0,\"#f0f921\"]],\"type\":\"contour\"}],\"contourcarpet\":[{\"colorbar\":{\"outlinewidth\":0,\"ticks\":\"\"},\"type\":\"contourcarpet\"}],\"heatmap\":[{\"colorbar\":{\"outlinewidth\":0,\"ticks\":\"\"},\"colorscale\":[[0.0,\"#0d0887\"],[0.1111111111111111,\"#46039f\"],[0.2222222222222222,\"#7201a8\"],[0.3333333333333333,\"#9c179e\"],[0.4444444444444444,\"#bd3786\"],[0.5555555555555556,\"#d8576b\"],[0.6666666666666666,\"#ed7953\"],[0.7777777777777778,\"#fb9f3a\"],[0.8888888888888888,\"#fdca26\"],[1.0,\"#f0f921\"]],\"type\":\"heatmap\"}],\"heatmapgl\":[{\"colorbar\":{\"outlinewidth\":0,\"ticks\":\"\"},\"colorscale\":[[0.0,\"#0d0887\"],[0.1111111111111111,\"#46039f\"],[0.2222222222222222,\"#7201a8\"],[0.3333333333333333,\"#9c179e\"],[0.4444444444444444,\"#bd3786\"],[0.5555555555555556,\"#d8576b\"],[0.6666666666666666,\"#ed7953\"],[0.7777777777777778,\"#fb9f3a\"],[0.8888888888888888,\"#fdca26\"],[1.0,\"#f0f921\"]],\"type\":\"heatmapgl\"}],\"histogram\":[{\"marker\":{\"pattern\":{\"fillmode\":\"overlay\",\"size\":10,\"solidity\":0.2}},\"type\":\"histogram\"}],\"histogram2d\":[{\"colorbar\":{\"outlinewidth\":0,\"ticks\":\"\"},\"colorscale\":[[0.0,\"#0d0887\"],[0.1111111111111111,\"#46039f\"],[0.2222222222222222,\"#7201a8\"],[0.3333333333333333,\"#9c179e\"],[0.4444444444444444,\"#bd3786\"],[0.5555555555555556,\"#d8576b\"],[0.6666666666666666,\"#ed7953\"],[0.7777777777777778,\"#fb9f3a\"],[0.8888888888888888,\"#fdca26\"],[1.0,\"#f0f921\"]],\"type\":\"histogram2d\"}],\"histogram2dcontour\":[{\"colorbar\":{\"outlinewidth\":0,\"ticks\":\"\"},\"colorscale\":[[0.0,\"#0d0887\"],[0.1111111111111111,\"#46039f\"],[0.2222222222222222,\"#7201a8\"],[0.3333333333333333,\"#9c179e\"],[0.4444444444444444,\"#bd3786\"],[0.5555555555555556,\"#d8576b\"],[0.6666666666666666,\"#ed7953\"],[0.7777777777777778,\"#fb9f3a\"],[0.8888888888888888,\"#fdca26\"],[1.0,\"#f0f921\"]],\"type\":\"histogram2dcontour\"}],\"mesh3d\":[{\"colorbar\":{\"outlinewidth\":0,\"ticks\":\"\"},\"type\":\"mesh3d\"}],\"parcoords\":[{\"line\":{\"colorbar\":{\"outlinewidth\":0,\"ticks\":\"\"}},\"type\":\"parcoords\"}],\"pie\":[{\"automargin\":true,\"type\":\"pie\"}],\"scatter\":[{\"marker\":{\"colorbar\":{\"outlinewidth\":0,\"ticks\":\"\"}},\"type\":\"scatter\"}],\"scatter3d\":[{\"line\":{\"colorbar\":{\"outlinewidth\":0,\"ticks\":\"\"}},\"marker\":{\"colorbar\":{\"outlinewidth\":0,\"ticks\":\"\"}},\"type\":\"scatter3d\"}],\"scattercarpet\":[{\"marker\":{\"colorbar\":{\"outlinewidth\":0,\"ticks\":\"\"}},\"type\":\"scattercarpet\"}],\"scattergeo\":[{\"marker\":{\"colorbar\":{\"outlinewidth\":0,\"ticks\":\"\"}},\"type\":\"scattergeo\"}],\"scattergl\":[{\"marker\":{\"colorbar\":{\"outlinewidth\":0,\"ticks\":\"\"}},\"type\":\"scattergl\"}],\"scattermapbox\":[{\"marker\":{\"colorbar\":{\"outlinewidth\":0,\"ticks\":\"\"}},\"type\":\"scattermapbox\"}],\"scatterpolar\":[{\"marker\":{\"colorbar\":{\"outlinewidth\":0,\"ticks\":\"\"}},\"type\":\"scatterpolar\"}],\"scatterpolargl\":[{\"marker\":{\"colorbar\":{\"outlinewidth\":0,\"ticks\":\"\"}},\"type\":\"scatterpolargl\"}],\"scatterternary\":[{\"marker\":{\"colorbar\":{\"outlinewidth\":0,\"ticks\":\"\"}},\"type\":\"scatterternary\"}],\"surface\":[{\"colorbar\":{\"outlinewidth\":0,\"ticks\":\"\"},\"colorscale\":[[0.0,\"#0d0887\"],[0.1111111111111111,\"#46039f\"],[0.2222222222222222,\"#7201a8\"],[0.3333333333333333,\"#9c179e\"],[0.4444444444444444,\"#bd3786\"],[0.5555555555555556,\"#d8576b\"],[0.6666666666666666,\"#ed7953\"],[0.7777777777777778,\"#fb9f3a\"],[0.8888888888888888,\"#fdca26\"],[1.0,\"#f0f921\"]],\"type\":\"surface\"}],\"table\":[{\"cells\":{\"fill\":{\"color\":\"#EBF0F8\"},\"line\":{\"color\":\"white\"}},\"header\":{\"fill\":{\"color\":\"#C8D4E3\"},\"line\":{\"color\":\"white\"}},\"type\":\"table\"}]},\"layout\":{\"annotationdefaults\":{\"arrowcolor\":\"#2a3f5f\",\"arrowhead\":0,\"arrowwidth\":1},\"autotypenumbers\":\"strict\",\"coloraxis\":{\"colorbar\":{\"outlinewidth\":0,\"ticks\":\"\"}},\"colorscale\":{\"diverging\":[[0,\"#8e0152\"],[0.1,\"#c51b7d\"],[0.2,\"#de77ae\"],[0.3,\"#f1b6da\"],[0.4,\"#fde0ef\"],[0.5,\"#f7f7f7\"],[0.6,\"#e6f5d0\"],[0.7,\"#b8e186\"],[0.8,\"#7fbc41\"],[0.9,\"#4d9221\"],[1,\"#276419\"]],\"sequential\":[[0.0,\"#0d0887\"],[0.1111111111111111,\"#46039f\"],[0.2222222222222222,\"#7201a8\"],[0.3333333333333333,\"#9c179e\"],[0.4444444444444444,\"#bd3786\"],[0.5555555555555556,\"#d8576b\"],[0.6666666666666666,\"#ed7953\"],[0.7777777777777778,\"#fb9f3a\"],[0.8888888888888888,\"#fdca26\"],[1.0,\"#f0f921\"]],\"sequentialminus\":[[0.0,\"#0d0887\"],[0.1111111111111111,\"#46039f\"],[0.2222222222222222,\"#7201a8\"],[0.3333333333333333,\"#9c179e\"],[0.4444444444444444,\"#bd3786\"],[0.5555555555555556,\"#d8576b\"],[0.6666666666666666,\"#ed7953\"],[0.7777777777777778,\"#fb9f3a\"],[0.8888888888888888,\"#fdca26\"],[1.0,\"#f0f921\"]]},\"colorway\":[\"#636efa\",\"#EF553B\",\"#00cc96\",\"#ab63fa\",\"#FFA15A\",\"#19d3f3\",\"#FF6692\",\"#B6E880\",\"#FF97FF\",\"#FECB52\"],\"font\":{\"color\":\"#2a3f5f\"},\"geo\":{\"bgcolor\":\"white\",\"lakecolor\":\"white\",\"landcolor\":\"#E5ECF6\",\"showlakes\":true,\"showland\":true,\"subunitcolor\":\"white\"},\"hoverlabel\":{\"align\":\"left\"},\"hovermode\":\"closest\",\"mapbox\":{\"style\":\"light\"},\"paper_bgcolor\":\"white\",\"plot_bgcolor\":\"#E5ECF6\",\"polar\":{\"angularaxis\":{\"gridcolor\":\"white\",\"linecolor\":\"white\",\"ticks\":\"\"},\"bgcolor\":\"#E5ECF6\",\"radialaxis\":{\"gridcolor\":\"white\",\"linecolor\":\"white\",\"ticks\":\"\"}},\"scene\":{\"xaxis\":{\"backgroundcolor\":\"#E5ECF6\",\"gridcolor\":\"white\",\"gridwidth\":2,\"linecolor\":\"white\",\"showbackground\":true,\"ticks\":\"\",\"zerolinecolor\":\"white\"},\"yaxis\":{\"backgroundcolor\":\"#E5ECF6\",\"gridcolor\":\"white\",\"gridwidth\":2,\"linecolor\":\"white\",\"showbackground\":true,\"ticks\":\"\",\"zerolinecolor\":\"white\"},\"zaxis\":{\"backgroundcolor\":\"#E5ECF6\",\"gridcolor\":\"white\",\"gridwidth\":2,\"linecolor\":\"white\",\"showbackground\":true,\"ticks\":\"\",\"zerolinecolor\":\"white\"}},\"shapedefaults\":{\"line\":{\"color\":\"#2a3f5f\"}},\"ternary\":{\"aaxis\":{\"gridcolor\":\"white\",\"linecolor\":\"white\",\"ticks\":\"\"},\"baxis\":{\"gridcolor\":\"white\",\"linecolor\":\"white\",\"ticks\":\"\"},\"bgcolor\":\"#E5ECF6\",\"caxis\":{\"gridcolor\":\"white\",\"linecolor\":\"white\",\"ticks\":\"\"}},\"title\":{\"x\":0.05},\"xaxis\":{\"automargin\":true,\"gridcolor\":\"white\",\"linecolor\":\"white\",\"ticks\":\"\",\"title\":{\"standoff\":15},\"zerolinecolor\":\"white\",\"zerolinewidth\":2},\"yaxis\":{\"automargin\":true,\"gridcolor\":\"white\",\"linecolor\":\"white\",\"ticks\":\"\",\"title\":{\"standoff\":15},\"zerolinecolor\":\"white\",\"zerolinewidth\":2}}},\"xaxis\":{\"anchor\":\"y\",\"domain\":[0.0,1.0],\"title\":{\"text\":\"Location\"}},\"yaxis\":{\"anchor\":\"x\",\"domain\":[0.0,1.0],\"title\":{\"text\":\"field_of_study\"}},\"legend\":{\"tracegroupgap\":0},\"margin\":{\"t\":60}},                        {\"responsive\": true}                    ).then(function(){\n",
       "                            \n",
       "var gd = document.getElementById('db506cbd-4309-478e-9695-9029d83fc36d');\n",
       "var x = new MutationObserver(function (mutations, observer) {{\n",
       "        var display = window.getComputedStyle(gd).display;\n",
       "        if (!display || display === 'none') {{\n",
       "            console.log([gd, 'removed!']);\n",
       "            Plotly.purge(gd);\n",
       "            observer.disconnect();\n",
       "        }}\n",
       "}});\n",
       "\n",
       "// Listen for the removal of the full notebook cells\n",
       "var notebookContainer = gd.closest('#notebook-container');\n",
       "if (notebookContainer) {{\n",
       "    x.observe(notebookContainer, {childList: true});\n",
       "}}\n",
       "\n",
       "// Listen for the clearing of the current output cell\n",
       "var outputEl = gd.closest('.output');\n",
       "if (outputEl) {{\n",
       "    x.observe(outputEl, {childList: true});\n",
       "}}\n",
       "\n",
       "                        })                };                });            </script>        </div>"
      ]
     },
     "metadata": {},
     "output_type": "display_data"
    }
   ],
   "source": [
    "import plotly.express as px\n",
    "import pandas as pd\n",
    "d = pd.read_excel('G:\\python_ka_chilla\\data_generation_and_handling\\Chilla_data2_for_plots_excel.xlsx')\n",
    "fig = px.scatter(d, x=\"Location\", y=\"field_of_study\")\n",
    "fig.show()"
   ]
  },
  {
   "cell_type": "code",
   "execution_count": 8,
   "id": "8a89c7cf",
   "metadata": {},
   "outputs": [
    {
     "data": {
      "application/vnd.plotly.v1+json": {
       "config": {
        "plotlyServerURL": "https://plot.ly"
       },
       "data": [
        {
         "alignmentgroup": "True",
         "hovertemplate": "Do you wear glasses?=No<br>Gender=%{x}<br>Age=%{y}<extra></extra>",
         "legendgroup": "No",
         "marker": {
          "color": "#636efa",
          "pattern": {
           "shape": ""
          }
         },
         "name": "No",
         "offsetgroup": "No",
         "orientation": "v",
         "showlegend": true,
         "textposition": "auto",
         "type": "bar",
         "x": [
          "Male",
          "Male",
          "Female",
          "Male",
          "Male",
          "Male",
          "Male",
          "Male",
          "Female",
          "Male",
          "Male",
          "Male",
          "Male",
          "Male",
          "Male",
          "Male",
          "Male",
          "Male",
          "Male",
          "Male",
          "Male",
          "Male",
          "Male",
          "Male",
          "Male",
          "Male",
          "Male",
          "Male",
          "Male",
          "Male",
          "Male",
          "Male",
          "Male",
          "Male",
          "Male",
          "Female",
          "Male",
          "Male",
          "Male",
          "Female",
          "Male",
          "Male",
          "Male",
          "Male",
          "Male",
          "Male",
          "Male",
          "Male",
          "Female",
          "Male",
          "Male",
          "Male",
          "Female",
          "Male",
          "Male",
          "Male",
          "Male",
          "Male",
          "Male",
          "Male",
          "Male",
          "Female",
          "Male",
          "Male",
          "Male",
          "Male",
          "Male",
          "Male",
          "Male",
          "Male",
          "Male",
          "Male",
          "Male",
          "Male",
          "Male",
          "Male",
          "Male",
          "Male",
          "Male",
          "Male",
          "Male",
          "Female",
          "Male",
          "Female",
          "Male",
          "Male",
          "Male",
          "Male",
          "Male",
          "Male",
          "Male",
          "Female",
          "Male",
          "Male",
          "Male",
          "Male",
          "Male",
          "Male",
          "Male",
          "Female",
          "Male",
          "Female",
          "Female",
          "Male",
          "Male",
          "Male",
          "Male",
          "Male",
          "Male",
          "Male",
          "Male",
          "Female",
          "Male",
          "Male",
          "Male",
          "Male",
          "Male",
          "Male",
          "Male",
          "Male",
          "Male",
          "Male",
          "Male",
          "Male",
          "Male",
          "Female",
          "Male",
          "Male",
          "Female",
          "Male",
          "Male",
          "Male",
          "Male",
          "Female",
          "Male",
          "Male",
          "Male",
          "Male",
          "Male",
          "Male",
          "Male",
          "Male",
          "Male",
          "Female",
          "Male",
          "Male",
          "Male",
          "Male",
          "Male",
          "Male",
          "Male",
          "Female",
          "Male",
          "Male",
          "Male",
          "Male",
          "Male",
          "Male",
          "Male",
          "Male",
          "Female",
          "Male",
          "Male",
          "Female",
          "Male",
          "Male",
          "Female",
          "Female",
          "Male",
          "Male",
          "Male",
          "Female",
          "Male",
          "Male",
          "Male",
          "Male",
          "Male",
          "Female",
          "Female",
          "Female",
          "Female",
          "Male",
          "Male",
          "Male",
          "Male",
          "Male",
          "Male",
          "Male",
          "Female",
          "Female",
          "Female",
          "Female",
          "Female",
          "Female",
          "Male",
          "Male",
          "Female",
          "Female",
          "Male",
          "Female",
          "Female",
          "Male",
          "Male",
          "Male",
          "Male",
          "Male",
          "Male",
          "Male",
          "Male",
          "Male",
          "Male",
          "Male",
          "Male",
          "Male",
          "Male",
          "Male",
          "Male",
          "Male",
          "Male",
          "Female",
          "Male",
          "Male",
          "Male",
          "Male",
          "Male",
          "Male",
          "Male",
          "Male",
          "Male",
          "Female",
          "Male",
          "Male",
          "Male",
          "Male",
          "Male",
          "Male",
          "Male",
          "Female",
          "Male",
          "Male",
          "Male",
          "Male"
         ],
         "xaxis": "x",
         "y": [
          "36-40",
          "26-30",
          "31-35",
          "26-30",
          "21-25",
          "21-25",
          "21-25",
          "26-30",
          "26-30",
          "21-25",
          "21-25",
          "31-35",
          "26-30",
          "31-35",
          "31-35",
          "21-25",
          "26-30",
          "21-25",
          "26-30",
          "21-25",
          "31-35",
          "31-35",
          "26-30",
          "26-30",
          "26-30",
          "21-25",
          "21-25",
          "21-25",
          "26-30",
          "26-30",
          "31-35",
          "31-35",
          "31-35",
          "21-25",
          "31-35",
          "26-30",
          "31-35",
          "26-30",
          "26-30",
          "26-30",
          "26-30",
          "21-25",
          "36-40",
          "36-40",
          "31-35",
          "31-35",
          "26-30",
          "21-25",
          "26-30",
          "26-30",
          "16-20",
          "21-25",
          "31-35",
          "31-35",
          "26-30",
          "31-35",
          "21-25",
          "16-20",
          "21-25",
          "26-30",
          "16-20",
          "21-25",
          "26-30",
          "31-35",
          "31-35",
          "26-30",
          "26-30",
          "26-30",
          "41-45",
          "26-30",
          "21-25",
          "16-20",
          "26-30",
          "21-25",
          "26-30",
          "21-25",
          "26-30",
          "41-45",
          "26-30",
          "26-30",
          "26-30",
          "26-30",
          "21-25",
          "21-25",
          "21-25",
          "26-30",
          "26-30",
          "31-35",
          "31-35",
          "16-20",
          "26-30",
          "26-30",
          "21-25",
          "31-35",
          "21-25",
          "26-30",
          "31-35",
          "46-60",
          "31-35",
          "26-30",
          "21-25",
          "31-35",
          "21-25",
          "26-30",
          "26-30",
          "21-25",
          "31-35",
          "31-35",
          "21-25",
          "26-30",
          "26-30",
          "21-25",
          "26-30",
          "26-30",
          "21-25",
          "26-30",
          "26-30",
          "26-30",
          "31-35",
          "31-35",
          "16-20",
          "31-35",
          "31-35",
          "16-20",
          "21-25",
          "21-25",
          "26-30",
          "31-35",
          "21-25",
          "36-40",
          "21-25",
          "26-30",
          "26-30",
          "26-30",
          "26-30",
          "31-35",
          "36-40",
          "26-30",
          "31-35",
          "21-25",
          "26-30",
          "21-25",
          "26-30",
          "26-30",
          "21-25",
          "26-30",
          "26-30",
          "31-35",
          "26-30",
          "21-25",
          "21-25",
          "26-30",
          "21-25",
          "26-30",
          "26-30",
          "21-25",
          "26-30",
          "21-25",
          "21-25",
          "16-20",
          "21-25",
          "21-25",
          "21-25",
          "26-30",
          "26-30",
          "21-25",
          "31-35",
          "31-35",
          "31-35",
          "36-40",
          "21-25",
          "21-25",
          "21-25",
          "21-25",
          "21-25",
          "31-35",
          "21-25",
          "26-30",
          "21-25",
          "26-30",
          "21-25",
          "21-25",
          "31-35",
          "41-45",
          "21-25",
          "21-25",
          "31-35",
          "21-25",
          "31-35",
          "26-30",
          "26-30",
          "21-25",
          "31-35",
          "26-30",
          "26-30",
          "31-35",
          "26-30",
          "26-30",
          "31-35",
          "26-30",
          "26-30",
          "36-40",
          "26-30",
          "26-30",
          "21-25",
          "21-25",
          "31-35",
          "31-35",
          "26-30",
          "26-30",
          "26-30",
          "36-40",
          "21-25",
          "16-20",
          "26-30",
          "21-25",
          "21-25",
          "21-25",
          "26-30",
          "16-20",
          "26-30",
          "31-35",
          "26-30",
          "26-30",
          "36-40",
          "31-35",
          "26-30",
          "36-40",
          "26-30",
          "21-25",
          "26-30",
          "31-35",
          "16-20",
          "26-30",
          "26-30",
          "26-30",
          "26-30",
          "21-25",
          "26-30",
          "21-25",
          "21-25",
          "26-30"
         ],
         "yaxis": "y"
        },
        {
         "alignmentgroup": "True",
         "hovertemplate": "Do you wear glasses?=Yes<br>Gender=%{x}<br>Age=%{y}<extra></extra>",
         "legendgroup": "Yes",
         "marker": {
          "color": "#EF553B",
          "pattern": {
           "shape": ""
          }
         },
         "name": "Yes",
         "offsetgroup": "Yes",
         "orientation": "v",
         "showlegend": true,
         "textposition": "auto",
         "type": "bar",
         "x": [
          "Male",
          "Female",
          "Male",
          "Male",
          "Male",
          "Male",
          "Male",
          "Female",
          "Female",
          "Male",
          "Female",
          "Male",
          "Female",
          "Male",
          "Male",
          "Male",
          "Male",
          "Male",
          "Female",
          "Male",
          "Female",
          "Female",
          "Male",
          "Male",
          "Male",
          "Male",
          "Female",
          "Male",
          "Male",
          "Male",
          "Male",
          "Male",
          "Male",
          "Male",
          "Female",
          "Female",
          "Female",
          "Male",
          "Female",
          "Male",
          "Male",
          "Male",
          "Male",
          "Male",
          "Male",
          "Male",
          "Male",
          "Female",
          "Female",
          "Male",
          "Male",
          "Male",
          "Female",
          "Male",
          "Male",
          "Female",
          "Female",
          "Male",
          "Male",
          "Male",
          "Male",
          "Male",
          "Male",
          "Male",
          "Female",
          "Male",
          "Male",
          "Male",
          "Female",
          "Male",
          "Male",
          "Female",
          "Male",
          "Male",
          "Male",
          "Male",
          "Male",
          "Male",
          "Male",
          "Male",
          "Male",
          "Male",
          "Male",
          "Male",
          "Male",
          "Male",
          "Female",
          "Female",
          "Male",
          "Male",
          "Male",
          "Male",
          "Male",
          "Male",
          "Female",
          "Male",
          "Female",
          "Female",
          "Female",
          "Male",
          "Female",
          "Male",
          "Male",
          "Male",
          "Male",
          "Male",
          "Male",
          "Male",
          "Male",
          "Female",
          "Female",
          "Male",
          "Female",
          "Male",
          "Female",
          "Male",
          "Male",
          "Male",
          "Male",
          "Female",
          "Male",
          "Male",
          "Male",
          "Male",
          "Female",
          "Male",
          "Male",
          "Male",
          "Female",
          "Male",
          "Male",
          "Male",
          "Female"
         ],
         "xaxis": "x",
         "y": [
          "31-35",
          "26-30",
          "36-40",
          "21-25",
          "21-25",
          "31-35",
          "21-25",
          "21-25",
          "26-30",
          "31-35",
          "26-30",
          "16-20",
          "31-35",
          "31-35",
          "21-25",
          "26-30",
          "26-30",
          "26-30",
          "36-40",
          "26-30",
          "21-25",
          "21-25",
          "21-25",
          "26-30",
          "21-25",
          "16-20",
          "21-25",
          "31-35",
          "21-25",
          "26-30",
          "41-45",
          "21-25",
          "21-25",
          "21-25",
          "21-25",
          "41-45",
          "21-25",
          "26-30",
          "26-30",
          "26-30",
          "36-40",
          "26-30",
          "36-40",
          "41-45",
          "41-45",
          "26-30",
          "36-40",
          "26-30",
          "26-30",
          "26-30",
          "21-25",
          "21-25",
          "26-30",
          "31-35",
          "26-30",
          "21-25",
          "26-30",
          "21-25",
          "26-30",
          "21-25",
          "26-30",
          "26-30",
          "31-35",
          "21-25",
          "21-25",
          "31-35",
          "16-20",
          "21-25",
          "21-25",
          "26-30",
          "21-25",
          "31-35",
          "16-20",
          "21-25",
          "26-30",
          "26-30",
          "21-25",
          "21-25",
          "21-25",
          "16-20",
          "16-20",
          "21-25",
          "21-25",
          "26-30",
          "26-30",
          "21-25",
          "21-25",
          "26-30",
          "31-35",
          "31-35",
          "31-35",
          "31-35",
          "31-35",
          "26-30",
          "21-25",
          "31-35",
          "46-60",
          "26-30",
          "21-25",
          "31-35",
          "16-20",
          "46-60",
          "36-40",
          "21-25",
          "21-25",
          "31-35",
          "26-30",
          "26-30",
          "41-45",
          "31-35",
          "26-30",
          "31-35",
          "31-35",
          "26-30",
          "21-25",
          "31-35",
          "21-25",
          "41-45",
          "31-35",
          "31-35",
          "26-30",
          "31-35",
          "31-35",
          "26-30",
          "26-30",
          "16-20",
          "31-35",
          "21-25",
          "26-30",
          "21-25",
          "26-30",
          "31-35",
          "31-35"
         ],
         "yaxis": "y"
        }
       ],
       "layout": {
        "barmode": "group",
        "legend": {
         "title": {
          "text": "Do you wear glasses?"
         },
         "tracegroupgap": 0
        },
        "margin": {
         "t": 60
        },
        "template": {
         "data": {
          "bar": [
           {
            "error_x": {
             "color": "#2a3f5f"
            },
            "error_y": {
             "color": "#2a3f5f"
            },
            "marker": {
             "line": {
              "color": "#E5ECF6",
              "width": 0.5
             },
             "pattern": {
              "fillmode": "overlay",
              "size": 10,
              "solidity": 0.2
             }
            },
            "type": "bar"
           }
          ],
          "barpolar": [
           {
            "marker": {
             "line": {
              "color": "#E5ECF6",
              "width": 0.5
             },
             "pattern": {
              "fillmode": "overlay",
              "size": 10,
              "solidity": 0.2
             }
            },
            "type": "barpolar"
           }
          ],
          "carpet": [
           {
            "aaxis": {
             "endlinecolor": "#2a3f5f",
             "gridcolor": "white",
             "linecolor": "white",
             "minorgridcolor": "white",
             "startlinecolor": "#2a3f5f"
            },
            "baxis": {
             "endlinecolor": "#2a3f5f",
             "gridcolor": "white",
             "linecolor": "white",
             "minorgridcolor": "white",
             "startlinecolor": "#2a3f5f"
            },
            "type": "carpet"
           }
          ],
          "choropleth": [
           {
            "colorbar": {
             "outlinewidth": 0,
             "ticks": ""
            },
            "type": "choropleth"
           }
          ],
          "contour": [
           {
            "colorbar": {
             "outlinewidth": 0,
             "ticks": ""
            },
            "colorscale": [
             [
              0,
              "#0d0887"
             ],
             [
              0.1111111111111111,
              "#46039f"
             ],
             [
              0.2222222222222222,
              "#7201a8"
             ],
             [
              0.3333333333333333,
              "#9c179e"
             ],
             [
              0.4444444444444444,
              "#bd3786"
             ],
             [
              0.5555555555555556,
              "#d8576b"
             ],
             [
              0.6666666666666666,
              "#ed7953"
             ],
             [
              0.7777777777777778,
              "#fb9f3a"
             ],
             [
              0.8888888888888888,
              "#fdca26"
             ],
             [
              1,
              "#f0f921"
             ]
            ],
            "type": "contour"
           }
          ],
          "contourcarpet": [
           {
            "colorbar": {
             "outlinewidth": 0,
             "ticks": ""
            },
            "type": "contourcarpet"
           }
          ],
          "heatmap": [
           {
            "colorbar": {
             "outlinewidth": 0,
             "ticks": ""
            },
            "colorscale": [
             [
              0,
              "#0d0887"
             ],
             [
              0.1111111111111111,
              "#46039f"
             ],
             [
              0.2222222222222222,
              "#7201a8"
             ],
             [
              0.3333333333333333,
              "#9c179e"
             ],
             [
              0.4444444444444444,
              "#bd3786"
             ],
             [
              0.5555555555555556,
              "#d8576b"
             ],
             [
              0.6666666666666666,
              "#ed7953"
             ],
             [
              0.7777777777777778,
              "#fb9f3a"
             ],
             [
              0.8888888888888888,
              "#fdca26"
             ],
             [
              1,
              "#f0f921"
             ]
            ],
            "type": "heatmap"
           }
          ],
          "heatmapgl": [
           {
            "colorbar": {
             "outlinewidth": 0,
             "ticks": ""
            },
            "colorscale": [
             [
              0,
              "#0d0887"
             ],
             [
              0.1111111111111111,
              "#46039f"
             ],
             [
              0.2222222222222222,
              "#7201a8"
             ],
             [
              0.3333333333333333,
              "#9c179e"
             ],
             [
              0.4444444444444444,
              "#bd3786"
             ],
             [
              0.5555555555555556,
              "#d8576b"
             ],
             [
              0.6666666666666666,
              "#ed7953"
             ],
             [
              0.7777777777777778,
              "#fb9f3a"
             ],
             [
              0.8888888888888888,
              "#fdca26"
             ],
             [
              1,
              "#f0f921"
             ]
            ],
            "type": "heatmapgl"
           }
          ],
          "histogram": [
           {
            "marker": {
             "pattern": {
              "fillmode": "overlay",
              "size": 10,
              "solidity": 0.2
             }
            },
            "type": "histogram"
           }
          ],
          "histogram2d": [
           {
            "colorbar": {
             "outlinewidth": 0,
             "ticks": ""
            },
            "colorscale": [
             [
              0,
              "#0d0887"
             ],
             [
              0.1111111111111111,
              "#46039f"
             ],
             [
              0.2222222222222222,
              "#7201a8"
             ],
             [
              0.3333333333333333,
              "#9c179e"
             ],
             [
              0.4444444444444444,
              "#bd3786"
             ],
             [
              0.5555555555555556,
              "#d8576b"
             ],
             [
              0.6666666666666666,
              "#ed7953"
             ],
             [
              0.7777777777777778,
              "#fb9f3a"
             ],
             [
              0.8888888888888888,
              "#fdca26"
             ],
             [
              1,
              "#f0f921"
             ]
            ],
            "type": "histogram2d"
           }
          ],
          "histogram2dcontour": [
           {
            "colorbar": {
             "outlinewidth": 0,
             "ticks": ""
            },
            "colorscale": [
             [
              0,
              "#0d0887"
             ],
             [
              0.1111111111111111,
              "#46039f"
             ],
             [
              0.2222222222222222,
              "#7201a8"
             ],
             [
              0.3333333333333333,
              "#9c179e"
             ],
             [
              0.4444444444444444,
              "#bd3786"
             ],
             [
              0.5555555555555556,
              "#d8576b"
             ],
             [
              0.6666666666666666,
              "#ed7953"
             ],
             [
              0.7777777777777778,
              "#fb9f3a"
             ],
             [
              0.8888888888888888,
              "#fdca26"
             ],
             [
              1,
              "#f0f921"
             ]
            ],
            "type": "histogram2dcontour"
           }
          ],
          "mesh3d": [
           {
            "colorbar": {
             "outlinewidth": 0,
             "ticks": ""
            },
            "type": "mesh3d"
           }
          ],
          "parcoords": [
           {
            "line": {
             "colorbar": {
              "outlinewidth": 0,
              "ticks": ""
             }
            },
            "type": "parcoords"
           }
          ],
          "pie": [
           {
            "automargin": true,
            "type": "pie"
           }
          ],
          "scatter": [
           {
            "marker": {
             "colorbar": {
              "outlinewidth": 0,
              "ticks": ""
             }
            },
            "type": "scatter"
           }
          ],
          "scatter3d": [
           {
            "line": {
             "colorbar": {
              "outlinewidth": 0,
              "ticks": ""
             }
            },
            "marker": {
             "colorbar": {
              "outlinewidth": 0,
              "ticks": ""
             }
            },
            "type": "scatter3d"
           }
          ],
          "scattercarpet": [
           {
            "marker": {
             "colorbar": {
              "outlinewidth": 0,
              "ticks": ""
             }
            },
            "type": "scattercarpet"
           }
          ],
          "scattergeo": [
           {
            "marker": {
             "colorbar": {
              "outlinewidth": 0,
              "ticks": ""
             }
            },
            "type": "scattergeo"
           }
          ],
          "scattergl": [
           {
            "marker": {
             "colorbar": {
              "outlinewidth": 0,
              "ticks": ""
             }
            },
            "type": "scattergl"
           }
          ],
          "scattermapbox": [
           {
            "marker": {
             "colorbar": {
              "outlinewidth": 0,
              "ticks": ""
             }
            },
            "type": "scattermapbox"
           }
          ],
          "scatterpolar": [
           {
            "marker": {
             "colorbar": {
              "outlinewidth": 0,
              "ticks": ""
             }
            },
            "type": "scatterpolar"
           }
          ],
          "scatterpolargl": [
           {
            "marker": {
             "colorbar": {
              "outlinewidth": 0,
              "ticks": ""
             }
            },
            "type": "scatterpolargl"
           }
          ],
          "scatterternary": [
           {
            "marker": {
             "colorbar": {
              "outlinewidth": 0,
              "ticks": ""
             }
            },
            "type": "scatterternary"
           }
          ],
          "surface": [
           {
            "colorbar": {
             "outlinewidth": 0,
             "ticks": ""
            },
            "colorscale": [
             [
              0,
              "#0d0887"
             ],
             [
              0.1111111111111111,
              "#46039f"
             ],
             [
              0.2222222222222222,
              "#7201a8"
             ],
             [
              0.3333333333333333,
              "#9c179e"
             ],
             [
              0.4444444444444444,
              "#bd3786"
             ],
             [
              0.5555555555555556,
              "#d8576b"
             ],
             [
              0.6666666666666666,
              "#ed7953"
             ],
             [
              0.7777777777777778,
              "#fb9f3a"
             ],
             [
              0.8888888888888888,
              "#fdca26"
             ],
             [
              1,
              "#f0f921"
             ]
            ],
            "type": "surface"
           }
          ],
          "table": [
           {
            "cells": {
             "fill": {
              "color": "#EBF0F8"
             },
             "line": {
              "color": "white"
             }
            },
            "header": {
             "fill": {
              "color": "#C8D4E3"
             },
             "line": {
              "color": "white"
             }
            },
            "type": "table"
           }
          ]
         },
         "layout": {
          "annotationdefaults": {
           "arrowcolor": "#2a3f5f",
           "arrowhead": 0,
           "arrowwidth": 1
          },
          "autotypenumbers": "strict",
          "coloraxis": {
           "colorbar": {
            "outlinewidth": 0,
            "ticks": ""
           }
          },
          "colorscale": {
           "diverging": [
            [
             0,
             "#8e0152"
            ],
            [
             0.1,
             "#c51b7d"
            ],
            [
             0.2,
             "#de77ae"
            ],
            [
             0.3,
             "#f1b6da"
            ],
            [
             0.4,
             "#fde0ef"
            ],
            [
             0.5,
             "#f7f7f7"
            ],
            [
             0.6,
             "#e6f5d0"
            ],
            [
             0.7,
             "#b8e186"
            ],
            [
             0.8,
             "#7fbc41"
            ],
            [
             0.9,
             "#4d9221"
            ],
            [
             1,
             "#276419"
            ]
           ],
           "sequential": [
            [
             0,
             "#0d0887"
            ],
            [
             0.1111111111111111,
             "#46039f"
            ],
            [
             0.2222222222222222,
             "#7201a8"
            ],
            [
             0.3333333333333333,
             "#9c179e"
            ],
            [
             0.4444444444444444,
             "#bd3786"
            ],
            [
             0.5555555555555556,
             "#d8576b"
            ],
            [
             0.6666666666666666,
             "#ed7953"
            ],
            [
             0.7777777777777778,
             "#fb9f3a"
            ],
            [
             0.8888888888888888,
             "#fdca26"
            ],
            [
             1,
             "#f0f921"
            ]
           ],
           "sequentialminus": [
            [
             0,
             "#0d0887"
            ],
            [
             0.1111111111111111,
             "#46039f"
            ],
            [
             0.2222222222222222,
             "#7201a8"
            ],
            [
             0.3333333333333333,
             "#9c179e"
            ],
            [
             0.4444444444444444,
             "#bd3786"
            ],
            [
             0.5555555555555556,
             "#d8576b"
            ],
            [
             0.6666666666666666,
             "#ed7953"
            ],
            [
             0.7777777777777778,
             "#fb9f3a"
            ],
            [
             0.8888888888888888,
             "#fdca26"
            ],
            [
             1,
             "#f0f921"
            ]
           ]
          },
          "colorway": [
           "#636efa",
           "#EF553B",
           "#00cc96",
           "#ab63fa",
           "#FFA15A",
           "#19d3f3",
           "#FF6692",
           "#B6E880",
           "#FF97FF",
           "#FECB52"
          ],
          "font": {
           "color": "#2a3f5f"
          },
          "geo": {
           "bgcolor": "white",
           "lakecolor": "white",
           "landcolor": "#E5ECF6",
           "showlakes": true,
           "showland": true,
           "subunitcolor": "white"
          },
          "hoverlabel": {
           "align": "left"
          },
          "hovermode": "closest",
          "mapbox": {
           "style": "light"
          },
          "paper_bgcolor": "white",
          "plot_bgcolor": "#E5ECF6",
          "polar": {
           "angularaxis": {
            "gridcolor": "white",
            "linecolor": "white",
            "ticks": ""
           },
           "bgcolor": "#E5ECF6",
           "radialaxis": {
            "gridcolor": "white",
            "linecolor": "white",
            "ticks": ""
           }
          },
          "scene": {
           "xaxis": {
            "backgroundcolor": "#E5ECF6",
            "gridcolor": "white",
            "gridwidth": 2,
            "linecolor": "white",
            "showbackground": true,
            "ticks": "",
            "zerolinecolor": "white"
           },
           "yaxis": {
            "backgroundcolor": "#E5ECF6",
            "gridcolor": "white",
            "gridwidth": 2,
            "linecolor": "white",
            "showbackground": true,
            "ticks": "",
            "zerolinecolor": "white"
           },
           "zaxis": {
            "backgroundcolor": "#E5ECF6",
            "gridcolor": "white",
            "gridwidth": 2,
            "linecolor": "white",
            "showbackground": true,
            "ticks": "",
            "zerolinecolor": "white"
           }
          },
          "shapedefaults": {
           "line": {
            "color": "#2a3f5f"
           }
          },
          "ternary": {
           "aaxis": {
            "gridcolor": "white",
            "linecolor": "white",
            "ticks": ""
           },
           "baxis": {
            "gridcolor": "white",
            "linecolor": "white",
            "ticks": ""
           },
           "bgcolor": "#E5ECF6",
           "caxis": {
            "gridcolor": "white",
            "linecolor": "white",
            "ticks": ""
           }
          },
          "title": {
           "x": 0.05
          },
          "xaxis": {
           "automargin": true,
           "gridcolor": "white",
           "linecolor": "white",
           "ticks": "",
           "title": {
            "standoff": 15
           },
           "zerolinecolor": "white",
           "zerolinewidth": 2
          },
          "yaxis": {
           "automargin": true,
           "gridcolor": "white",
           "linecolor": "white",
           "ticks": "",
           "title": {
            "standoff": 15
           },
           "zerolinecolor": "white",
           "zerolinewidth": 2
          }
         }
        },
        "xaxis": {
         "anchor": "y",
         "domain": [
          0,
          1
         ],
         "title": {
          "text": "Gender"
         }
        },
        "yaxis": {
         "anchor": "x",
         "domain": [
          0,
          1
         ],
         "title": {
          "text": "Age"
         }
        }
       }
      },
      "text/html": [
       "<div>                            <div id=\"d883fa1e-dae7-47a0-a1ff-11da2fb08210\" class=\"plotly-graph-div\" style=\"height:525px; width:100%;\"></div>            <script type=\"text/javascript\">                require([\"plotly\"], function(Plotly) {                    window.PLOTLYENV=window.PLOTLYENV || {};                                    if (document.getElementById(\"d883fa1e-dae7-47a0-a1ff-11da2fb08210\")) {                    Plotly.newPlot(                        \"d883fa1e-dae7-47a0-a1ff-11da2fb08210\",                        [{\"alignmentgroup\":\"True\",\"hovertemplate\":\"Do you wear glasses?=No<br>Gender=%{x}<br>Age=%{y}<extra></extra>\",\"legendgroup\":\"No\",\"marker\":{\"color\":\"#636efa\",\"pattern\":{\"shape\":\"\"}},\"name\":\"No\",\"offsetgroup\":\"No\",\"orientation\":\"v\",\"showlegend\":true,\"textposition\":\"auto\",\"x\":[\"Male\",\"Male\",\"Female\",\"Male\",\"Male\",\"Male\",\"Male\",\"Male\",\"Female\",\"Male\",\"Male\",\"Male\",\"Male\",\"Male\",\"Male\",\"Male\",\"Male\",\"Male\",\"Male\",\"Male\",\"Male\",\"Male\",\"Male\",\"Male\",\"Male\",\"Male\",\"Male\",\"Male\",\"Male\",\"Male\",\"Male\",\"Male\",\"Male\",\"Male\",\"Male\",\"Female\",\"Male\",\"Male\",\"Male\",\"Female\",\"Male\",\"Male\",\"Male\",\"Male\",\"Male\",\"Male\",\"Male\",\"Male\",\"Female\",\"Male\",\"Male\",\"Male\",\"Female\",\"Male\",\"Male\",\"Male\",\"Male\",\"Male\",\"Male\",\"Male\",\"Male\",\"Female\",\"Male\",\"Male\",\"Male\",\"Male\",\"Male\",\"Male\",\"Male\",\"Male\",\"Male\",\"Male\",\"Male\",\"Male\",\"Male\",\"Male\",\"Male\",\"Male\",\"Male\",\"Male\",\"Male\",\"Female\",\"Male\",\"Female\",\"Male\",\"Male\",\"Male\",\"Male\",\"Male\",\"Male\",\"Male\",\"Female\",\"Male\",\"Male\",\"Male\",\"Male\",\"Male\",\"Male\",\"Male\",\"Female\",\"Male\",\"Female\",\"Female\",\"Male\",\"Male\",\"Male\",\"Male\",\"Male\",\"Male\",\"Male\",\"Male\",\"Female\",\"Male\",\"Male\",\"Male\",\"Male\",\"Male\",\"Male\",\"Male\",\"Male\",\"Male\",\"Male\",\"Male\",\"Male\",\"Male\",\"Female\",\"Male\",\"Male\",\"Female\",\"Male\",\"Male\",\"Male\",\"Male\",\"Female\",\"Male\",\"Male\",\"Male\",\"Male\",\"Male\",\"Male\",\"Male\",\"Male\",\"Male\",\"Female\",\"Male\",\"Male\",\"Male\",\"Male\",\"Male\",\"Male\",\"Male\",\"Female\",\"Male\",\"Male\",\"Male\",\"Male\",\"Male\",\"Male\",\"Male\",\"Male\",\"Female\",\"Male\",\"Male\",\"Female\",\"Male\",\"Male\",\"Female\",\"Female\",\"Male\",\"Male\",\"Male\",\"Female\",\"Male\",\"Male\",\"Male\",\"Male\",\"Male\",\"Female\",\"Female\",\"Female\",\"Female\",\"Male\",\"Male\",\"Male\",\"Male\",\"Male\",\"Male\",\"Male\",\"Female\",\"Female\",\"Female\",\"Female\",\"Female\",\"Female\",\"Male\",\"Male\",\"Female\",\"Female\",\"Male\",\"Female\",\"Female\",\"Male\",\"Male\",\"Male\",\"Male\",\"Male\",\"Male\",\"Male\",\"Male\",\"Male\",\"Male\",\"Male\",\"Male\",\"Male\",\"Male\",\"Male\",\"Male\",\"Male\",\"Male\",\"Female\",\"Male\",\"Male\",\"Male\",\"Male\",\"Male\",\"Male\",\"Male\",\"Male\",\"Male\",\"Female\",\"Male\",\"Male\",\"Male\",\"Male\",\"Male\",\"Male\",\"Male\",\"Female\",\"Male\",\"Male\",\"Male\",\"Male\"],\"xaxis\":\"x\",\"y\":[\"36-40\",\"26-30\",\"31-35\",\"26-30\",\"21-25\",\"21-25\",\"21-25\",\"26-30\",\"26-30\",\"21-25\",\"21-25\",\"31-35\",\"26-30\",\"31-35\",\"31-35\",\"21-25\",\"26-30\",\"21-25\",\"26-30\",\"21-25\",\"31-35\",\"31-35\",\"26-30\",\"26-30\",\"26-30\",\"21-25\",\"21-25\",\"21-25\",\"26-30\",\"26-30\",\"31-35\",\"31-35\",\"31-35\",\"21-25\",\"31-35\",\"26-30\",\"31-35\",\"26-30\",\"26-30\",\"26-30\",\"26-30\",\"21-25\",\"36-40\",\"36-40\",\"31-35\",\"31-35\",\"26-30\",\"21-25\",\"26-30\",\"26-30\",\"16-20\",\"21-25\",\"31-35\",\"31-35\",\"26-30\",\"31-35\",\"21-25\",\"16-20\",\"21-25\",\"26-30\",\"16-20\",\"21-25\",\"26-30\",\"31-35\",\"31-35\",\"26-30\",\"26-30\",\"26-30\",\"41-45\",\"26-30\",\"21-25\",\"16-20\",\"26-30\",\"21-25\",\"26-30\",\"21-25\",\"26-30\",\"41-45\",\"26-30\",\"26-30\",\"26-30\",\"26-30\",\"21-25\",\"21-25\",\"21-25\",\"26-30\",\"26-30\",\"31-35\",\"31-35\",\"16-20\",\"26-30\",\"26-30\",\"21-25\",\"31-35\",\"21-25\",\"26-30\",\"31-35\",\"46-60\",\"31-35\",\"26-30\",\"21-25\",\"31-35\",\"21-25\",\"26-30\",\"26-30\",\"21-25\",\"31-35\",\"31-35\",\"21-25\",\"26-30\",\"26-30\",\"21-25\",\"26-30\",\"26-30\",\"21-25\",\"26-30\",\"26-30\",\"26-30\",\"31-35\",\"31-35\",\"16-20\",\"31-35\",\"31-35\",\"16-20\",\"21-25\",\"21-25\",\"26-30\",\"31-35\",\"21-25\",\"36-40\",\"21-25\",\"26-30\",\"26-30\",\"26-30\",\"26-30\",\"31-35\",\"36-40\",\"26-30\",\"31-35\",\"21-25\",\"26-30\",\"21-25\",\"26-30\",\"26-30\",\"21-25\",\"26-30\",\"26-30\",\"31-35\",\"26-30\",\"21-25\",\"21-25\",\"26-30\",\"21-25\",\"26-30\",\"26-30\",\"21-25\",\"26-30\",\"21-25\",\"21-25\",\"16-20\",\"21-25\",\"21-25\",\"21-25\",\"26-30\",\"26-30\",\"21-25\",\"31-35\",\"31-35\",\"31-35\",\"36-40\",\"21-25\",\"21-25\",\"21-25\",\"21-25\",\"21-25\",\"31-35\",\"21-25\",\"26-30\",\"21-25\",\"26-30\",\"21-25\",\"21-25\",\"31-35\",\"41-45\",\"21-25\",\"21-25\",\"31-35\",\"21-25\",\"31-35\",\"26-30\",\"26-30\",\"21-25\",\"31-35\",\"26-30\",\"26-30\",\"31-35\",\"26-30\",\"26-30\",\"31-35\",\"26-30\",\"26-30\",\"36-40\",\"26-30\",\"26-30\",\"21-25\",\"21-25\",\"31-35\",\"31-35\",\"26-30\",\"26-30\",\"26-30\",\"36-40\",\"21-25\",\"16-20\",\"26-30\",\"21-25\",\"21-25\",\"21-25\",\"26-30\",\"16-20\",\"26-30\",\"31-35\",\"26-30\",\"26-30\",\"36-40\",\"31-35\",\"26-30\",\"36-40\",\"26-30\",\"21-25\",\"26-30\",\"31-35\",\"16-20\",\"26-30\",\"26-30\",\"26-30\",\"26-30\",\"21-25\",\"26-30\",\"21-25\",\"21-25\",\"26-30\"],\"yaxis\":\"y\",\"type\":\"bar\"},{\"alignmentgroup\":\"True\",\"hovertemplate\":\"Do you wear glasses?=Yes<br>Gender=%{x}<br>Age=%{y}<extra></extra>\",\"legendgroup\":\"Yes\",\"marker\":{\"color\":\"#EF553B\",\"pattern\":{\"shape\":\"\"}},\"name\":\"Yes\",\"offsetgroup\":\"Yes\",\"orientation\":\"v\",\"showlegend\":true,\"textposition\":\"auto\",\"x\":[\"Male\",\"Female\",\"Male\",\"Male\",\"Male\",\"Male\",\"Male\",\"Female\",\"Female\",\"Male\",\"Female\",\"Male\",\"Female\",\"Male\",\"Male\",\"Male\",\"Male\",\"Male\",\"Female\",\"Male\",\"Female\",\"Female\",\"Male\",\"Male\",\"Male\",\"Male\",\"Female\",\"Male\",\"Male\",\"Male\",\"Male\",\"Male\",\"Male\",\"Male\",\"Female\",\"Female\",\"Female\",\"Male\",\"Female\",\"Male\",\"Male\",\"Male\",\"Male\",\"Male\",\"Male\",\"Male\",\"Male\",\"Female\",\"Female\",\"Male\",\"Male\",\"Male\",\"Female\",\"Male\",\"Male\",\"Female\",\"Female\",\"Male\",\"Male\",\"Male\",\"Male\",\"Male\",\"Male\",\"Male\",\"Female\",\"Male\",\"Male\",\"Male\",\"Female\",\"Male\",\"Male\",\"Female\",\"Male\",\"Male\",\"Male\",\"Male\",\"Male\",\"Male\",\"Male\",\"Male\",\"Male\",\"Male\",\"Male\",\"Male\",\"Male\",\"Male\",\"Female\",\"Female\",\"Male\",\"Male\",\"Male\",\"Male\",\"Male\",\"Male\",\"Female\",\"Male\",\"Female\",\"Female\",\"Female\",\"Male\",\"Female\",\"Male\",\"Male\",\"Male\",\"Male\",\"Male\",\"Male\",\"Male\",\"Male\",\"Female\",\"Female\",\"Male\",\"Female\",\"Male\",\"Female\",\"Male\",\"Male\",\"Male\",\"Male\",\"Female\",\"Male\",\"Male\",\"Male\",\"Male\",\"Female\",\"Male\",\"Male\",\"Male\",\"Female\",\"Male\",\"Male\",\"Male\",\"Female\"],\"xaxis\":\"x\",\"y\":[\"31-35\",\"26-30\",\"36-40\",\"21-25\",\"21-25\",\"31-35\",\"21-25\",\"21-25\",\"26-30\",\"31-35\",\"26-30\",\"16-20\",\"31-35\",\"31-35\",\"21-25\",\"26-30\",\"26-30\",\"26-30\",\"36-40\",\"26-30\",\"21-25\",\"21-25\",\"21-25\",\"26-30\",\"21-25\",\"16-20\",\"21-25\",\"31-35\",\"21-25\",\"26-30\",\"41-45\",\"21-25\",\"21-25\",\"21-25\",\"21-25\",\"41-45\",\"21-25\",\"26-30\",\"26-30\",\"26-30\",\"36-40\",\"26-30\",\"36-40\",\"41-45\",\"41-45\",\"26-30\",\"36-40\",\"26-30\",\"26-30\",\"26-30\",\"21-25\",\"21-25\",\"26-30\",\"31-35\",\"26-30\",\"21-25\",\"26-30\",\"21-25\",\"26-30\",\"21-25\",\"26-30\",\"26-30\",\"31-35\",\"21-25\",\"21-25\",\"31-35\",\"16-20\",\"21-25\",\"21-25\",\"26-30\",\"21-25\",\"31-35\",\"16-20\",\"21-25\",\"26-30\",\"26-30\",\"21-25\",\"21-25\",\"21-25\",\"16-20\",\"16-20\",\"21-25\",\"21-25\",\"26-30\",\"26-30\",\"21-25\",\"21-25\",\"26-30\",\"31-35\",\"31-35\",\"31-35\",\"31-35\",\"31-35\",\"26-30\",\"21-25\",\"31-35\",\"46-60\",\"26-30\",\"21-25\",\"31-35\",\"16-20\",\"46-60\",\"36-40\",\"21-25\",\"21-25\",\"31-35\",\"26-30\",\"26-30\",\"41-45\",\"31-35\",\"26-30\",\"31-35\",\"31-35\",\"26-30\",\"21-25\",\"31-35\",\"21-25\",\"41-45\",\"31-35\",\"31-35\",\"26-30\",\"31-35\",\"31-35\",\"26-30\",\"26-30\",\"16-20\",\"31-35\",\"21-25\",\"26-30\",\"21-25\",\"26-30\",\"31-35\",\"31-35\"],\"yaxis\":\"y\",\"type\":\"bar\"}],                        {\"template\":{\"data\":{\"bar\":[{\"error_x\":{\"color\":\"#2a3f5f\"},\"error_y\":{\"color\":\"#2a3f5f\"},\"marker\":{\"line\":{\"color\":\"#E5ECF6\",\"width\":0.5},\"pattern\":{\"fillmode\":\"overlay\",\"size\":10,\"solidity\":0.2}},\"type\":\"bar\"}],\"barpolar\":[{\"marker\":{\"line\":{\"color\":\"#E5ECF6\",\"width\":0.5},\"pattern\":{\"fillmode\":\"overlay\",\"size\":10,\"solidity\":0.2}},\"type\":\"barpolar\"}],\"carpet\":[{\"aaxis\":{\"endlinecolor\":\"#2a3f5f\",\"gridcolor\":\"white\",\"linecolor\":\"white\",\"minorgridcolor\":\"white\",\"startlinecolor\":\"#2a3f5f\"},\"baxis\":{\"endlinecolor\":\"#2a3f5f\",\"gridcolor\":\"white\",\"linecolor\":\"white\",\"minorgridcolor\":\"white\",\"startlinecolor\":\"#2a3f5f\"},\"type\":\"carpet\"}],\"choropleth\":[{\"colorbar\":{\"outlinewidth\":0,\"ticks\":\"\"},\"type\":\"choropleth\"}],\"contour\":[{\"colorbar\":{\"outlinewidth\":0,\"ticks\":\"\"},\"colorscale\":[[0.0,\"#0d0887\"],[0.1111111111111111,\"#46039f\"],[0.2222222222222222,\"#7201a8\"],[0.3333333333333333,\"#9c179e\"],[0.4444444444444444,\"#bd3786\"],[0.5555555555555556,\"#d8576b\"],[0.6666666666666666,\"#ed7953\"],[0.7777777777777778,\"#fb9f3a\"],[0.8888888888888888,\"#fdca26\"],[1.0,\"#f0f921\"]],\"type\":\"contour\"}],\"contourcarpet\":[{\"colorbar\":{\"outlinewidth\":0,\"ticks\":\"\"},\"type\":\"contourcarpet\"}],\"heatmap\":[{\"colorbar\":{\"outlinewidth\":0,\"ticks\":\"\"},\"colorscale\":[[0.0,\"#0d0887\"],[0.1111111111111111,\"#46039f\"],[0.2222222222222222,\"#7201a8\"],[0.3333333333333333,\"#9c179e\"],[0.4444444444444444,\"#bd3786\"],[0.5555555555555556,\"#d8576b\"],[0.6666666666666666,\"#ed7953\"],[0.7777777777777778,\"#fb9f3a\"],[0.8888888888888888,\"#fdca26\"],[1.0,\"#f0f921\"]],\"type\":\"heatmap\"}],\"heatmapgl\":[{\"colorbar\":{\"outlinewidth\":0,\"ticks\":\"\"},\"colorscale\":[[0.0,\"#0d0887\"],[0.1111111111111111,\"#46039f\"],[0.2222222222222222,\"#7201a8\"],[0.3333333333333333,\"#9c179e\"],[0.4444444444444444,\"#bd3786\"],[0.5555555555555556,\"#d8576b\"],[0.6666666666666666,\"#ed7953\"],[0.7777777777777778,\"#fb9f3a\"],[0.8888888888888888,\"#fdca26\"],[1.0,\"#f0f921\"]],\"type\":\"heatmapgl\"}],\"histogram\":[{\"marker\":{\"pattern\":{\"fillmode\":\"overlay\",\"size\":10,\"solidity\":0.2}},\"type\":\"histogram\"}],\"histogram2d\":[{\"colorbar\":{\"outlinewidth\":0,\"ticks\":\"\"},\"colorscale\":[[0.0,\"#0d0887\"],[0.1111111111111111,\"#46039f\"],[0.2222222222222222,\"#7201a8\"],[0.3333333333333333,\"#9c179e\"],[0.4444444444444444,\"#bd3786\"],[0.5555555555555556,\"#d8576b\"],[0.6666666666666666,\"#ed7953\"],[0.7777777777777778,\"#fb9f3a\"],[0.8888888888888888,\"#fdca26\"],[1.0,\"#f0f921\"]],\"type\":\"histogram2d\"}],\"histogram2dcontour\":[{\"colorbar\":{\"outlinewidth\":0,\"ticks\":\"\"},\"colorscale\":[[0.0,\"#0d0887\"],[0.1111111111111111,\"#46039f\"],[0.2222222222222222,\"#7201a8\"],[0.3333333333333333,\"#9c179e\"],[0.4444444444444444,\"#bd3786\"],[0.5555555555555556,\"#d8576b\"],[0.6666666666666666,\"#ed7953\"],[0.7777777777777778,\"#fb9f3a\"],[0.8888888888888888,\"#fdca26\"],[1.0,\"#f0f921\"]],\"type\":\"histogram2dcontour\"}],\"mesh3d\":[{\"colorbar\":{\"outlinewidth\":0,\"ticks\":\"\"},\"type\":\"mesh3d\"}],\"parcoords\":[{\"line\":{\"colorbar\":{\"outlinewidth\":0,\"ticks\":\"\"}},\"type\":\"parcoords\"}],\"pie\":[{\"automargin\":true,\"type\":\"pie\"}],\"scatter\":[{\"marker\":{\"colorbar\":{\"outlinewidth\":0,\"ticks\":\"\"}},\"type\":\"scatter\"}],\"scatter3d\":[{\"line\":{\"colorbar\":{\"outlinewidth\":0,\"ticks\":\"\"}},\"marker\":{\"colorbar\":{\"outlinewidth\":0,\"ticks\":\"\"}},\"type\":\"scatter3d\"}],\"scattercarpet\":[{\"marker\":{\"colorbar\":{\"outlinewidth\":0,\"ticks\":\"\"}},\"type\":\"scattercarpet\"}],\"scattergeo\":[{\"marker\":{\"colorbar\":{\"outlinewidth\":0,\"ticks\":\"\"}},\"type\":\"scattergeo\"}],\"scattergl\":[{\"marker\":{\"colorbar\":{\"outlinewidth\":0,\"ticks\":\"\"}},\"type\":\"scattergl\"}],\"scattermapbox\":[{\"marker\":{\"colorbar\":{\"outlinewidth\":0,\"ticks\":\"\"}},\"type\":\"scattermapbox\"}],\"scatterpolar\":[{\"marker\":{\"colorbar\":{\"outlinewidth\":0,\"ticks\":\"\"}},\"type\":\"scatterpolar\"}],\"scatterpolargl\":[{\"marker\":{\"colorbar\":{\"outlinewidth\":0,\"ticks\":\"\"}},\"type\":\"scatterpolargl\"}],\"scatterternary\":[{\"marker\":{\"colorbar\":{\"outlinewidth\":0,\"ticks\":\"\"}},\"type\":\"scatterternary\"}],\"surface\":[{\"colorbar\":{\"outlinewidth\":0,\"ticks\":\"\"},\"colorscale\":[[0.0,\"#0d0887\"],[0.1111111111111111,\"#46039f\"],[0.2222222222222222,\"#7201a8\"],[0.3333333333333333,\"#9c179e\"],[0.4444444444444444,\"#bd3786\"],[0.5555555555555556,\"#d8576b\"],[0.6666666666666666,\"#ed7953\"],[0.7777777777777778,\"#fb9f3a\"],[0.8888888888888888,\"#fdca26\"],[1.0,\"#f0f921\"]],\"type\":\"surface\"}],\"table\":[{\"cells\":{\"fill\":{\"color\":\"#EBF0F8\"},\"line\":{\"color\":\"white\"}},\"header\":{\"fill\":{\"color\":\"#C8D4E3\"},\"line\":{\"color\":\"white\"}},\"type\":\"table\"}]},\"layout\":{\"annotationdefaults\":{\"arrowcolor\":\"#2a3f5f\",\"arrowhead\":0,\"arrowwidth\":1},\"autotypenumbers\":\"strict\",\"coloraxis\":{\"colorbar\":{\"outlinewidth\":0,\"ticks\":\"\"}},\"colorscale\":{\"diverging\":[[0,\"#8e0152\"],[0.1,\"#c51b7d\"],[0.2,\"#de77ae\"],[0.3,\"#f1b6da\"],[0.4,\"#fde0ef\"],[0.5,\"#f7f7f7\"],[0.6,\"#e6f5d0\"],[0.7,\"#b8e186\"],[0.8,\"#7fbc41\"],[0.9,\"#4d9221\"],[1,\"#276419\"]],\"sequential\":[[0.0,\"#0d0887\"],[0.1111111111111111,\"#46039f\"],[0.2222222222222222,\"#7201a8\"],[0.3333333333333333,\"#9c179e\"],[0.4444444444444444,\"#bd3786\"],[0.5555555555555556,\"#d8576b\"],[0.6666666666666666,\"#ed7953\"],[0.7777777777777778,\"#fb9f3a\"],[0.8888888888888888,\"#fdca26\"],[1.0,\"#f0f921\"]],\"sequentialminus\":[[0.0,\"#0d0887\"],[0.1111111111111111,\"#46039f\"],[0.2222222222222222,\"#7201a8\"],[0.3333333333333333,\"#9c179e\"],[0.4444444444444444,\"#bd3786\"],[0.5555555555555556,\"#d8576b\"],[0.6666666666666666,\"#ed7953\"],[0.7777777777777778,\"#fb9f3a\"],[0.8888888888888888,\"#fdca26\"],[1.0,\"#f0f921\"]]},\"colorway\":[\"#636efa\",\"#EF553B\",\"#00cc96\",\"#ab63fa\",\"#FFA15A\",\"#19d3f3\",\"#FF6692\",\"#B6E880\",\"#FF97FF\",\"#FECB52\"],\"font\":{\"color\":\"#2a3f5f\"},\"geo\":{\"bgcolor\":\"white\",\"lakecolor\":\"white\",\"landcolor\":\"#E5ECF6\",\"showlakes\":true,\"showland\":true,\"subunitcolor\":\"white\"},\"hoverlabel\":{\"align\":\"left\"},\"hovermode\":\"closest\",\"mapbox\":{\"style\":\"light\"},\"paper_bgcolor\":\"white\",\"plot_bgcolor\":\"#E5ECF6\",\"polar\":{\"angularaxis\":{\"gridcolor\":\"white\",\"linecolor\":\"white\",\"ticks\":\"\"},\"bgcolor\":\"#E5ECF6\",\"radialaxis\":{\"gridcolor\":\"white\",\"linecolor\":\"white\",\"ticks\":\"\"}},\"scene\":{\"xaxis\":{\"backgroundcolor\":\"#E5ECF6\",\"gridcolor\":\"white\",\"gridwidth\":2,\"linecolor\":\"white\",\"showbackground\":true,\"ticks\":\"\",\"zerolinecolor\":\"white\"},\"yaxis\":{\"backgroundcolor\":\"#E5ECF6\",\"gridcolor\":\"white\",\"gridwidth\":2,\"linecolor\":\"white\",\"showbackground\":true,\"ticks\":\"\",\"zerolinecolor\":\"white\"},\"zaxis\":{\"backgroundcolor\":\"#E5ECF6\",\"gridcolor\":\"white\",\"gridwidth\":2,\"linecolor\":\"white\",\"showbackground\":true,\"ticks\":\"\",\"zerolinecolor\":\"white\"}},\"shapedefaults\":{\"line\":{\"color\":\"#2a3f5f\"}},\"ternary\":{\"aaxis\":{\"gridcolor\":\"white\",\"linecolor\":\"white\",\"ticks\":\"\"},\"baxis\":{\"gridcolor\":\"white\",\"linecolor\":\"white\",\"ticks\":\"\"},\"bgcolor\":\"#E5ECF6\",\"caxis\":{\"gridcolor\":\"white\",\"linecolor\":\"white\",\"ticks\":\"\"}},\"title\":{\"x\":0.05},\"xaxis\":{\"automargin\":true,\"gridcolor\":\"white\",\"linecolor\":\"white\",\"ticks\":\"\",\"title\":{\"standoff\":15},\"zerolinecolor\":\"white\",\"zerolinewidth\":2},\"yaxis\":{\"automargin\":true,\"gridcolor\":\"white\",\"linecolor\":\"white\",\"ticks\":\"\",\"title\":{\"standoff\":15},\"zerolinecolor\":\"white\",\"zerolinewidth\":2}}},\"xaxis\":{\"anchor\":\"y\",\"domain\":[0.0,1.0],\"title\":{\"text\":\"Gender\"}},\"yaxis\":{\"anchor\":\"x\",\"domain\":[0.0,1.0],\"title\":{\"text\":\"Age\"}},\"legend\":{\"title\":{\"text\":\"Do you wear glasses?\"},\"tracegroupgap\":0},\"margin\":{\"t\":60},\"barmode\":\"group\"},                        {\"responsive\": true}                    ).then(function(){\n",
       "                            \n",
       "var gd = document.getElementById('d883fa1e-dae7-47a0-a1ff-11da2fb08210');\n",
       "var x = new MutationObserver(function (mutations, observer) {{\n",
       "        var display = window.getComputedStyle(gd).display;\n",
       "        if (!display || display === 'none') {{\n",
       "            console.log([gd, 'removed!']);\n",
       "            Plotly.purge(gd);\n",
       "            observer.disconnect();\n",
       "        }}\n",
       "}});\n",
       "\n",
       "// Listen for the removal of the full notebook cells\n",
       "var notebookContainer = gd.closest('#notebook-container');\n",
       "if (notebookContainer) {{\n",
       "    x.observe(notebookContainer, {childList: true});\n",
       "}}\n",
       "\n",
       "// Listen for the clearing of the current output cell\n",
       "var outputEl = gd.closest('.output');\n",
       "if (outputEl) {{\n",
       "    x.observe(outputEl, {childList: true});\n",
       "}}\n",
       "\n",
       "                        })                };                });            </script>        </div>"
      ]
     },
     "metadata": {},
     "output_type": "display_data"
    }
   ],
   "source": [
    "fig = px.bar(d, x=\"Gender\", y=\"Age\", color=\"Do you wear glasses?\", barmode=\"group\")\n",
    "fig.show()"
   ]
  },
  {
   "cell_type": "code",
   "execution_count": 11,
   "id": "6dc9c95f",
   "metadata": {},
   "outputs": [
    {
     "data": {
      "application/vnd.plotly.v1+json": {
       "config": {
        "plotlyServerURL": "https://plot.ly"
       },
       "data": [
        {
         "alignmentgroup": "True",
         "hovertemplate": "Marital Status?=Yes<br>What are you?=Unemplyed<br>Gender=%{x}<br>Qualification_completed=%{y}<extra></extra>",
         "legendgroup": "Yes, Unemplyed",
         "marker": {
          "color": "#636efa",
          "pattern": {
           "shape": "."
          }
         },
         "name": "Yes, Unemplyed",
         "offsetgroup": "Yes, Unemplyed",
         "orientation": "v",
         "showlegend": true,
         "textposition": "auto",
         "type": "bar",
         "x": [
          "Male",
          "Male",
          "Female",
          "Female",
          "Male",
          "Male",
          "Male",
          "Male",
          "Female",
          "Male",
          "Female",
          "Male",
          "Male",
          "Female",
          "Male",
          "Male",
          "Female",
          "Female",
          "Male",
          "Male",
          "Female",
          "Female",
          "Female"
         ],
         "xaxis": "x",
         "y": [
          "Masters",
          "Masters",
          "Bachelors",
          "Bachelors",
          "PhD",
          "Pre-Bachelors",
          "Masters",
          "Bachelors",
          "Masters",
          "Masters",
          "Bachelors",
          "Masters",
          "Bachelors",
          "Masters",
          "PhD",
          "Masters",
          "Masters",
          "PhD",
          "Masters",
          "PhD",
          "Masters",
          "Bachelors",
          "Masters"
         ],
         "yaxis": "y"
        },
        {
         "alignmentgroup": "True",
         "hovertemplate": "Marital Status?=Yes<br>What are you?=Student<br>Gender=%{x}<br>Qualification_completed=%{y}<extra></extra>",
         "legendgroup": "Yes, Student",
         "marker": {
          "color": "#636efa",
          "pattern": {
           "shape": "x"
          }
         },
         "name": "Yes, Student",
         "offsetgroup": "Yes, Student",
         "orientation": "v",
         "showlegend": true,
         "textposition": "auto",
         "type": "bar",
         "x": [
          "Male",
          "Male",
          "Male",
          "Female",
          "Male",
          "Male",
          "Male",
          "Male",
          "Male",
          "Male",
          "Male",
          "Male",
          "Male",
          "Male",
          "Male",
          "Male",
          "Male",
          "Female",
          "Male",
          "Male",
          "Male",
          "Male",
          "Male",
          "Female",
          "Male",
          "Male",
          "Male",
          "Male"
         ],
         "xaxis": "x",
         "y": [
          "Bachelors",
          "PhD",
          "Pre-Bachelors",
          "Masters",
          "Masters",
          "PhD",
          "Masters",
          "Masters",
          "Bachelors",
          "PhD",
          "Masters",
          "Bachelors",
          "PhD",
          "Masters",
          "Masters",
          "Masters",
          "Masters",
          "Masters",
          "Masters",
          "Bachelors",
          "Masters",
          "Masters",
          "Masters",
          "Pre-Bachelors",
          "Masters",
          "Bachelors",
          "Masters",
          "Masters"
         ],
         "yaxis": "y"
        },
        {
         "alignmentgroup": "True",
         "hovertemplate": "Marital Status?=Yes<br>What are you?=Employed<br>Gender=%{x}<br>Qualification_completed=%{y}<extra></extra>",
         "legendgroup": "Yes, Employed",
         "marker": {
          "color": "#636efa",
          "pattern": {
           "shape": "+"
          }
         },
         "name": "Yes, Employed",
         "offsetgroup": "Yes, Employed",
         "orientation": "v",
         "showlegend": true,
         "textposition": "auto",
         "type": "bar",
         "x": [
          "Male",
          "Female",
          "Male",
          "Male",
          "Male",
          "Male",
          "Male",
          "Male",
          "Male",
          "Male",
          "Male",
          "Male",
          "Male",
          "Male",
          "Male",
          "Male",
          "Male",
          "Female",
          "Male",
          "Male",
          "Male",
          "Male",
          "Male",
          "Male",
          "Male",
          "Male",
          "Male",
          "Female",
          "Male",
          "Male",
          "Male",
          "Male",
          "Male",
          "Male",
          "Male",
          "Male",
          "Male",
          "Male",
          "Male",
          "Male",
          "Male",
          "Male",
          "Male",
          "Male",
          "Male",
          "Male",
          "Male",
          "Female",
          "Male",
          "Male",
          "Male",
          "Female",
          "Male",
          "Male",
          "Male",
          "Male",
          "Male",
          "Male",
          "Male",
          "Male",
          "Male",
          "Male",
          "Male",
          "Male",
          "Male",
          "Male",
          "Male",
          "Male",
          "Male",
          "Male"
         ],
         "xaxis": "x",
         "y": [
          "Masters",
          "Masters",
          "Masters",
          "Masters",
          "Masters",
          "PhD",
          "Bachelors",
          "Bachelors",
          "Masters",
          "Masters",
          "Masters",
          "Bachelors",
          "Masters",
          "Masters",
          "Masters",
          "PhD",
          "Bachelors",
          "PhD",
          "Masters",
          "Masters",
          "Masters",
          "Masters",
          "Bachelors",
          "Bachelors",
          "Masters",
          "Masters",
          "Masters",
          "Masters",
          "Masters",
          "Masters",
          "Masters",
          "Masters",
          "Masters",
          "PhD",
          "Masters",
          "Masters",
          "Masters",
          "Masters",
          "Bachelors",
          "PhD",
          "Masters",
          "Masters",
          "Masters",
          "Bachelors",
          "Masters",
          "Bachelors",
          "PhD",
          "Masters",
          "Masters",
          "Masters",
          "Masters",
          "Masters",
          "PhD",
          "Masters",
          "Masters",
          "Masters",
          "Masters",
          "Masters",
          "Masters",
          "Bachelors",
          "Masters",
          "PhD",
          "Masters",
          "Bachelors",
          "Masters",
          "Bachelors",
          "Masters",
          "Bachelors",
          "Masters",
          "Bachelors"
         ],
         "yaxis": "y"
        },
        {
         "alignmentgroup": "True",
         "hovertemplate": "Marital Status?=No<br>What are you?=Unemplyed<br>Gender=%{x}<br>Qualification_completed=%{y}<extra></extra>",
         "legendgroup": "No, Unemplyed",
         "marker": {
          "color": "#EF553B",
          "pattern": {
           "shape": "."
          }
         },
         "name": "No, Unemplyed",
         "offsetgroup": "No, Unemplyed",
         "orientation": "v",
         "showlegend": true,
         "textposition": "auto",
         "type": "bar",
         "x": [
          "Male",
          "Male",
          "Male",
          "Male",
          "Male",
          "Female",
          "Male",
          "Female",
          "Female",
          "Male",
          "Male",
          "Male",
          "Female",
          "Female",
          "Male",
          "Male",
          "Male",
          "Male",
          "Male",
          "Female",
          "Female",
          "Male",
          "Female",
          "Male",
          "Male",
          "Female",
          "Male",
          "Male",
          "Female",
          "Male",
          "Male",
          "Male",
          "Male",
          "Female",
          "Male",
          "Male",
          "Female",
          "Female",
          "Female",
          "Female",
          "Female",
          "Female",
          "Female",
          "Male",
          "Male",
          "Female",
          "Male",
          "Male",
          "Male",
          "Female",
          "Male"
         ],
         "xaxis": "x",
         "y": [
          "Bachelors",
          "Masters",
          "Bachelors",
          "Bachelors",
          "Bachelors",
          "Masters",
          "Bachelors",
          "Bachelors",
          "Bachelors",
          "Bachelors",
          "Bachelors",
          "Bachelors",
          "Masters",
          "Bachelors",
          "Bachelors",
          "PhD",
          "Masters",
          "Masters",
          "Masters",
          "PhD",
          "Bachelors",
          "Masters",
          "Bachelors",
          "Bachelors",
          "Masters",
          "Masters",
          "Bachelors",
          "Bachelors",
          "Masters",
          "Masters",
          "Masters",
          "Masters",
          "Masters",
          "Bachelors",
          "Bachelors",
          "Masters",
          "Bachelors",
          "Bachelors",
          "Bachelors",
          "Masters",
          "Bachelors",
          "Masters",
          "Bachelors",
          "Bachelors",
          "Bachelors",
          "Bachelors",
          "Bachelors",
          "Bachelors",
          "Bachelors",
          "Masters",
          "Bachelors"
         ],
         "yaxis": "y"
        },
        {
         "alignmentgroup": "True",
         "hovertemplate": "Marital Status?=No<br>What are you?=Student<br>Gender=%{x}<br>Qualification_completed=%{y}<extra></extra>",
         "legendgroup": "No, Student",
         "marker": {
          "color": "#EF553B",
          "pattern": {
           "shape": "x"
          }
         },
         "name": "No, Student",
         "offsetgroup": "No, Student",
         "orientation": "v",
         "showlegend": true,
         "textposition": "auto",
         "type": "bar",
         "x": [
          "Male",
          "Female",
          "Male",
          "Male",
          "Male",
          "Female",
          "Male",
          "Male",
          "Male",
          "Female",
          "Male",
          "Male",
          "Male",
          "Female",
          "Male",
          "Male",
          "Male",
          "Male",
          "Male",
          "Male",
          "Male",
          "Male",
          "Male",
          "Female",
          "Male",
          "Male",
          "Male",
          "Male",
          "Male",
          "Male",
          "Female",
          "Male",
          "Male",
          "Male",
          "Male",
          "Male",
          "Male",
          "Female",
          "Male",
          "Male",
          "Male",
          "Female",
          "Male",
          "Male",
          "Male",
          "Male",
          "Female",
          "Female",
          "Female",
          "Male",
          "Male",
          "Female",
          "Male",
          "Female",
          "Male",
          "Male",
          "Male",
          "Male",
          "Male",
          "Male",
          "Male",
          "Male",
          "Female",
          "Male",
          "Male",
          "Male",
          "Male",
          "Male",
          "Male",
          "Male",
          "Male",
          "Female",
          "Male",
          "Male",
          "Male",
          "Female",
          "Male",
          "Male",
          "Male",
          "Female",
          "Male",
          "Male",
          "Male",
          "Male",
          "Male",
          "Male",
          "Male",
          "Male",
          "Male",
          "Male",
          "Male",
          "Male",
          "Female",
          "Male",
          "Male",
          "Male",
          "Male",
          "Male",
          "Male",
          "Male",
          "Female",
          "Female",
          "Male",
          "Male",
          "Female",
          "Male",
          "Female",
          "Male",
          "Female",
          "Male",
          "Male",
          "Male",
          "Male",
          "Female",
          "Female",
          "Female",
          "Female",
          "Female",
          "Male",
          "Male",
          "Female",
          "Male",
          "Male",
          "Male",
          "Male",
          "Male",
          "Male",
          "Male",
          "Male",
          "Male",
          "Male",
          "Female",
          "Male",
          "Male",
          "Male",
          "Male",
          "Male",
          "Male",
          "Male",
          "Male"
         ],
         "xaxis": "x",
         "y": [
          "Bachelors",
          "Masters",
          "Masters",
          "Bachelors",
          "PhD",
          "Masters",
          "Pre-Bachelors",
          "Masters",
          "Pre-Bachelors",
          "Bachelors",
          "PhD",
          "Bachelors",
          "PhD",
          "Masters",
          "Bachelors",
          "Pre-Bachelors",
          "Masters",
          "Pre-Bachelors",
          "Masters",
          "Pre-Bachelors",
          "Pre-Bachelors",
          "Pre-Bachelors",
          "Masters",
          "Masters",
          "Pre-Bachelors",
          "Masters",
          "Pre-Bachelors",
          "Bachelors",
          "Pre-Bachelors",
          "Bachelors",
          "Bachelors",
          "Masters",
          "Masters",
          "Bachelors",
          "Masters",
          "Pre-Bachelors",
          "Bachelors",
          "Masters",
          "Bachelors",
          "Bachelors",
          "Masters",
          "Masters",
          "Bachelors",
          "Pre-Bachelors",
          "Masters",
          "Pre-Bachelors",
          "Masters",
          "Masters",
          "Masters",
          "Bachelors",
          "Bachelors",
          "Bachelors",
          "Masters",
          "Bachelors",
          "Pre-Bachelors",
          "Pre-Bachelors",
          "Bachelors",
          "Masters",
          "Masters",
          "Masters",
          "Bachelors",
          "Bachelors",
          "Masters",
          "Masters",
          "Bachelors",
          "Bachelors",
          "Masters",
          "Pre-Bachelors",
          "Bachelors",
          "Masters",
          "Bachelors",
          "Bachelors",
          "Bachelors",
          "Pre-Bachelors",
          "Pre-Bachelors",
          "Bachelors",
          "Bachelors",
          "Pre-Bachelors",
          "Bachelors",
          "Bachelors",
          "Bachelors",
          "Bachelors",
          "PhD",
          "Masters",
          "Bachelors",
          "Pre-Bachelors",
          "Pre-Bachelors",
          "Pre-Bachelors",
          "Pre-Bachelors",
          "Masters",
          "Bachelors",
          "Bachelors",
          "Bachelors",
          "Bachelors",
          "Masters",
          "Pre-Bachelors",
          "Pre-Bachelors",
          "Pre-Bachelors",
          "Masters",
          "Pre-Bachelors",
          "Pre-Bachelors",
          "Pre-Bachelors",
          "Bachelors",
          "Bachelors",
          "Pre-Bachelors",
          "Bachelors",
          "Pre-Bachelors",
          "Bachelors",
          "Pre-Bachelors",
          "Pre-Bachelors",
          "Pre-Bachelors",
          "Pre-Bachelors",
          "Bachelors",
          "Masters",
          "Masters",
          "Masters",
          "Masters",
          "Bachelors",
          "Masters",
          "PhD",
          "Masters",
          "Masters",
          "Masters",
          "Bachelors",
          "Bachelors",
          "Masters",
          "Bachelors",
          "Pre-Bachelors",
          "Bachelors",
          "Masters",
          "Pre-Bachelors",
          "Pre-Bachelors",
          "Masters",
          "Masters",
          "Pre-Bachelors",
          "Bachelors",
          "Bachelors",
          "Pre-Bachelors",
          "Masters",
          "Masters"
         ],
         "yaxis": "y"
        },
        {
         "alignmentgroup": "True",
         "hovertemplate": "Marital Status?=No<br>What are you?=Employed<br>Gender=%{x}<br>Qualification_completed=%{y}<extra></extra>",
         "legendgroup": "No, Employed",
         "marker": {
          "color": "#EF553B",
          "pattern": {
           "shape": "+"
          }
         },
         "name": "No, Employed",
         "offsetgroup": "No, Employed",
         "orientation": "v",
         "showlegend": true,
         "textposition": "auto",
         "type": "bar",
         "x": [
          "Male",
          "Male",
          "Male",
          "Male",
          "Male",
          "Male",
          "Male",
          "Male",
          "Female",
          "Male",
          "Male",
          "Male",
          "Male",
          "Male",
          "Female",
          "Male",
          "Male",
          "Male",
          "Male",
          "Male",
          "Male",
          "Male",
          "Male",
          "Female",
          "Male",
          "Male",
          "Male",
          "Male",
          "Female",
          "Male",
          "Male",
          "Male",
          "Male",
          "Male",
          "Male",
          "Male",
          "Male",
          "Male",
          "Male",
          "Male",
          "Female",
          "Male",
          "Male",
          "Male",
          "Female",
          "Female",
          "Female",
          "Male",
          "Male",
          "Male",
          "Male",
          "Male",
          "Female",
          "Male",
          "Male",
          "Male",
          "Male",
          "Male",
          "Male",
          "Male",
          "Male",
          "Male",
          "Male"
         ],
         "xaxis": "x",
         "y": [
          "Bachelors",
          "Bachelors",
          "PhD",
          "Bachelors",
          "PhD",
          "PhD",
          "Masters",
          "Masters",
          "Masters",
          "Masters",
          "Bachelors",
          "Masters",
          "Masters",
          "Masters",
          "Masters",
          "Bachelors",
          "Bachelors",
          "Masters",
          "Bachelors",
          "Masters",
          "Masters",
          "Pre-Bachelors",
          "Bachelors",
          "Bachelors",
          "Masters",
          "Bachelors",
          "Bachelors",
          "Bachelors",
          "Masters",
          "Masters",
          "Masters",
          "Bachelors",
          "Masters",
          "Masters",
          "Masters",
          "Pre-Bachelors",
          "Bachelors",
          "Bachelors",
          "Bachelors",
          "Bachelors",
          "Masters",
          "Bachelors",
          "Bachelors",
          "Masters",
          "Masters",
          "Masters",
          "PhD",
          "Bachelors",
          "Masters",
          "Bachelors",
          "Bachelors",
          "Masters",
          "Masters",
          "Masters",
          "Bachelors",
          "PhD",
          "Bachelors",
          "Bachelors",
          "Masters",
          "Bachelors",
          "Bachelors",
          "Bachelors",
          "Masters"
         ],
         "yaxis": "y"
        }
       ],
       "layout": {
        "barmode": "relative",
        "legend": {
         "title": {
          "text": "Marital Status?, What are you?"
         },
         "tracegroupgap": 0
        },
        "margin": {
         "t": 60
        },
        "template": {
         "data": {
          "bar": [
           {
            "error_x": {
             "color": "#2a3f5f"
            },
            "error_y": {
             "color": "#2a3f5f"
            },
            "marker": {
             "line": {
              "color": "#E5ECF6",
              "width": 0.5
             },
             "pattern": {
              "fillmode": "overlay",
              "size": 10,
              "solidity": 0.2
             }
            },
            "type": "bar"
           }
          ],
          "barpolar": [
           {
            "marker": {
             "line": {
              "color": "#E5ECF6",
              "width": 0.5
             },
             "pattern": {
              "fillmode": "overlay",
              "size": 10,
              "solidity": 0.2
             }
            },
            "type": "barpolar"
           }
          ],
          "carpet": [
           {
            "aaxis": {
             "endlinecolor": "#2a3f5f",
             "gridcolor": "white",
             "linecolor": "white",
             "minorgridcolor": "white",
             "startlinecolor": "#2a3f5f"
            },
            "baxis": {
             "endlinecolor": "#2a3f5f",
             "gridcolor": "white",
             "linecolor": "white",
             "minorgridcolor": "white",
             "startlinecolor": "#2a3f5f"
            },
            "type": "carpet"
           }
          ],
          "choropleth": [
           {
            "colorbar": {
             "outlinewidth": 0,
             "ticks": ""
            },
            "type": "choropleth"
           }
          ],
          "contour": [
           {
            "colorbar": {
             "outlinewidth": 0,
             "ticks": ""
            },
            "colorscale": [
             [
              0,
              "#0d0887"
             ],
             [
              0.1111111111111111,
              "#46039f"
             ],
             [
              0.2222222222222222,
              "#7201a8"
             ],
             [
              0.3333333333333333,
              "#9c179e"
             ],
             [
              0.4444444444444444,
              "#bd3786"
             ],
             [
              0.5555555555555556,
              "#d8576b"
             ],
             [
              0.6666666666666666,
              "#ed7953"
             ],
             [
              0.7777777777777778,
              "#fb9f3a"
             ],
             [
              0.8888888888888888,
              "#fdca26"
             ],
             [
              1,
              "#f0f921"
             ]
            ],
            "type": "contour"
           }
          ],
          "contourcarpet": [
           {
            "colorbar": {
             "outlinewidth": 0,
             "ticks": ""
            },
            "type": "contourcarpet"
           }
          ],
          "heatmap": [
           {
            "colorbar": {
             "outlinewidth": 0,
             "ticks": ""
            },
            "colorscale": [
             [
              0,
              "#0d0887"
             ],
             [
              0.1111111111111111,
              "#46039f"
             ],
             [
              0.2222222222222222,
              "#7201a8"
             ],
             [
              0.3333333333333333,
              "#9c179e"
             ],
             [
              0.4444444444444444,
              "#bd3786"
             ],
             [
              0.5555555555555556,
              "#d8576b"
             ],
             [
              0.6666666666666666,
              "#ed7953"
             ],
             [
              0.7777777777777778,
              "#fb9f3a"
             ],
             [
              0.8888888888888888,
              "#fdca26"
             ],
             [
              1,
              "#f0f921"
             ]
            ],
            "type": "heatmap"
           }
          ],
          "heatmapgl": [
           {
            "colorbar": {
             "outlinewidth": 0,
             "ticks": ""
            },
            "colorscale": [
             [
              0,
              "#0d0887"
             ],
             [
              0.1111111111111111,
              "#46039f"
             ],
             [
              0.2222222222222222,
              "#7201a8"
             ],
             [
              0.3333333333333333,
              "#9c179e"
             ],
             [
              0.4444444444444444,
              "#bd3786"
             ],
             [
              0.5555555555555556,
              "#d8576b"
             ],
             [
              0.6666666666666666,
              "#ed7953"
             ],
             [
              0.7777777777777778,
              "#fb9f3a"
             ],
             [
              0.8888888888888888,
              "#fdca26"
             ],
             [
              1,
              "#f0f921"
             ]
            ],
            "type": "heatmapgl"
           }
          ],
          "histogram": [
           {
            "marker": {
             "pattern": {
              "fillmode": "overlay",
              "size": 10,
              "solidity": 0.2
             }
            },
            "type": "histogram"
           }
          ],
          "histogram2d": [
           {
            "colorbar": {
             "outlinewidth": 0,
             "ticks": ""
            },
            "colorscale": [
             [
              0,
              "#0d0887"
             ],
             [
              0.1111111111111111,
              "#46039f"
             ],
             [
              0.2222222222222222,
              "#7201a8"
             ],
             [
              0.3333333333333333,
              "#9c179e"
             ],
             [
              0.4444444444444444,
              "#bd3786"
             ],
             [
              0.5555555555555556,
              "#d8576b"
             ],
             [
              0.6666666666666666,
              "#ed7953"
             ],
             [
              0.7777777777777778,
              "#fb9f3a"
             ],
             [
              0.8888888888888888,
              "#fdca26"
             ],
             [
              1,
              "#f0f921"
             ]
            ],
            "type": "histogram2d"
           }
          ],
          "histogram2dcontour": [
           {
            "colorbar": {
             "outlinewidth": 0,
             "ticks": ""
            },
            "colorscale": [
             [
              0,
              "#0d0887"
             ],
             [
              0.1111111111111111,
              "#46039f"
             ],
             [
              0.2222222222222222,
              "#7201a8"
             ],
             [
              0.3333333333333333,
              "#9c179e"
             ],
             [
              0.4444444444444444,
              "#bd3786"
             ],
             [
              0.5555555555555556,
              "#d8576b"
             ],
             [
              0.6666666666666666,
              "#ed7953"
             ],
             [
              0.7777777777777778,
              "#fb9f3a"
             ],
             [
              0.8888888888888888,
              "#fdca26"
             ],
             [
              1,
              "#f0f921"
             ]
            ],
            "type": "histogram2dcontour"
           }
          ],
          "mesh3d": [
           {
            "colorbar": {
             "outlinewidth": 0,
             "ticks": ""
            },
            "type": "mesh3d"
           }
          ],
          "parcoords": [
           {
            "line": {
             "colorbar": {
              "outlinewidth": 0,
              "ticks": ""
             }
            },
            "type": "parcoords"
           }
          ],
          "pie": [
           {
            "automargin": true,
            "type": "pie"
           }
          ],
          "scatter": [
           {
            "marker": {
             "colorbar": {
              "outlinewidth": 0,
              "ticks": ""
             }
            },
            "type": "scatter"
           }
          ],
          "scatter3d": [
           {
            "line": {
             "colorbar": {
              "outlinewidth": 0,
              "ticks": ""
             }
            },
            "marker": {
             "colorbar": {
              "outlinewidth": 0,
              "ticks": ""
             }
            },
            "type": "scatter3d"
           }
          ],
          "scattercarpet": [
           {
            "marker": {
             "colorbar": {
              "outlinewidth": 0,
              "ticks": ""
             }
            },
            "type": "scattercarpet"
           }
          ],
          "scattergeo": [
           {
            "marker": {
             "colorbar": {
              "outlinewidth": 0,
              "ticks": ""
             }
            },
            "type": "scattergeo"
           }
          ],
          "scattergl": [
           {
            "marker": {
             "colorbar": {
              "outlinewidth": 0,
              "ticks": ""
             }
            },
            "type": "scattergl"
           }
          ],
          "scattermapbox": [
           {
            "marker": {
             "colorbar": {
              "outlinewidth": 0,
              "ticks": ""
             }
            },
            "type": "scattermapbox"
           }
          ],
          "scatterpolar": [
           {
            "marker": {
             "colorbar": {
              "outlinewidth": 0,
              "ticks": ""
             }
            },
            "type": "scatterpolar"
           }
          ],
          "scatterpolargl": [
           {
            "marker": {
             "colorbar": {
              "outlinewidth": 0,
              "ticks": ""
             }
            },
            "type": "scatterpolargl"
           }
          ],
          "scatterternary": [
           {
            "marker": {
             "colorbar": {
              "outlinewidth": 0,
              "ticks": ""
             }
            },
            "type": "scatterternary"
           }
          ],
          "surface": [
           {
            "colorbar": {
             "outlinewidth": 0,
             "ticks": ""
            },
            "colorscale": [
             [
              0,
              "#0d0887"
             ],
             [
              0.1111111111111111,
              "#46039f"
             ],
             [
              0.2222222222222222,
              "#7201a8"
             ],
             [
              0.3333333333333333,
              "#9c179e"
             ],
             [
              0.4444444444444444,
              "#bd3786"
             ],
             [
              0.5555555555555556,
              "#d8576b"
             ],
             [
              0.6666666666666666,
              "#ed7953"
             ],
             [
              0.7777777777777778,
              "#fb9f3a"
             ],
             [
              0.8888888888888888,
              "#fdca26"
             ],
             [
              1,
              "#f0f921"
             ]
            ],
            "type": "surface"
           }
          ],
          "table": [
           {
            "cells": {
             "fill": {
              "color": "#EBF0F8"
             },
             "line": {
              "color": "white"
             }
            },
            "header": {
             "fill": {
              "color": "#C8D4E3"
             },
             "line": {
              "color": "white"
             }
            },
            "type": "table"
           }
          ]
         },
         "layout": {
          "annotationdefaults": {
           "arrowcolor": "#2a3f5f",
           "arrowhead": 0,
           "arrowwidth": 1
          },
          "autotypenumbers": "strict",
          "coloraxis": {
           "colorbar": {
            "outlinewidth": 0,
            "ticks": ""
           }
          },
          "colorscale": {
           "diverging": [
            [
             0,
             "#8e0152"
            ],
            [
             0.1,
             "#c51b7d"
            ],
            [
             0.2,
             "#de77ae"
            ],
            [
             0.3,
             "#f1b6da"
            ],
            [
             0.4,
             "#fde0ef"
            ],
            [
             0.5,
             "#f7f7f7"
            ],
            [
             0.6,
             "#e6f5d0"
            ],
            [
             0.7,
             "#b8e186"
            ],
            [
             0.8,
             "#7fbc41"
            ],
            [
             0.9,
             "#4d9221"
            ],
            [
             1,
             "#276419"
            ]
           ],
           "sequential": [
            [
             0,
             "#0d0887"
            ],
            [
             0.1111111111111111,
             "#46039f"
            ],
            [
             0.2222222222222222,
             "#7201a8"
            ],
            [
             0.3333333333333333,
             "#9c179e"
            ],
            [
             0.4444444444444444,
             "#bd3786"
            ],
            [
             0.5555555555555556,
             "#d8576b"
            ],
            [
             0.6666666666666666,
             "#ed7953"
            ],
            [
             0.7777777777777778,
             "#fb9f3a"
            ],
            [
             0.8888888888888888,
             "#fdca26"
            ],
            [
             1,
             "#f0f921"
            ]
           ],
           "sequentialminus": [
            [
             0,
             "#0d0887"
            ],
            [
             0.1111111111111111,
             "#46039f"
            ],
            [
             0.2222222222222222,
             "#7201a8"
            ],
            [
             0.3333333333333333,
             "#9c179e"
            ],
            [
             0.4444444444444444,
             "#bd3786"
            ],
            [
             0.5555555555555556,
             "#d8576b"
            ],
            [
             0.6666666666666666,
             "#ed7953"
            ],
            [
             0.7777777777777778,
             "#fb9f3a"
            ],
            [
             0.8888888888888888,
             "#fdca26"
            ],
            [
             1,
             "#f0f921"
            ]
           ]
          },
          "colorway": [
           "#636efa",
           "#EF553B",
           "#00cc96",
           "#ab63fa",
           "#FFA15A",
           "#19d3f3",
           "#FF6692",
           "#B6E880",
           "#FF97FF",
           "#FECB52"
          ],
          "font": {
           "color": "#2a3f5f"
          },
          "geo": {
           "bgcolor": "white",
           "lakecolor": "white",
           "landcolor": "#E5ECF6",
           "showlakes": true,
           "showland": true,
           "subunitcolor": "white"
          },
          "hoverlabel": {
           "align": "left"
          },
          "hovermode": "closest",
          "mapbox": {
           "style": "light"
          },
          "paper_bgcolor": "white",
          "plot_bgcolor": "#E5ECF6",
          "polar": {
           "angularaxis": {
            "gridcolor": "white",
            "linecolor": "white",
            "ticks": ""
           },
           "bgcolor": "#E5ECF6",
           "radialaxis": {
            "gridcolor": "white",
            "linecolor": "white",
            "ticks": ""
           }
          },
          "scene": {
           "xaxis": {
            "backgroundcolor": "#E5ECF6",
            "gridcolor": "white",
            "gridwidth": 2,
            "linecolor": "white",
            "showbackground": true,
            "ticks": "",
            "zerolinecolor": "white"
           },
           "yaxis": {
            "backgroundcolor": "#E5ECF6",
            "gridcolor": "white",
            "gridwidth": 2,
            "linecolor": "white",
            "showbackground": true,
            "ticks": "",
            "zerolinecolor": "white"
           },
           "zaxis": {
            "backgroundcolor": "#E5ECF6",
            "gridcolor": "white",
            "gridwidth": 2,
            "linecolor": "white",
            "showbackground": true,
            "ticks": "",
            "zerolinecolor": "white"
           }
          },
          "shapedefaults": {
           "line": {
            "color": "#2a3f5f"
           }
          },
          "ternary": {
           "aaxis": {
            "gridcolor": "white",
            "linecolor": "white",
            "ticks": ""
           },
           "baxis": {
            "gridcolor": "white",
            "linecolor": "white",
            "ticks": ""
           },
           "bgcolor": "#E5ECF6",
           "caxis": {
            "gridcolor": "white",
            "linecolor": "white",
            "ticks": ""
           }
          },
          "title": {
           "x": 0.05
          },
          "xaxis": {
           "automargin": true,
           "gridcolor": "white",
           "linecolor": "white",
           "ticks": "",
           "title": {
            "standoff": 15
           },
           "zerolinecolor": "white",
           "zerolinewidth": 2
          },
          "yaxis": {
           "automargin": true,
           "gridcolor": "white",
           "linecolor": "white",
           "ticks": "",
           "title": {
            "standoff": 15
           },
           "zerolinecolor": "white",
           "zerolinewidth": 2
          }
         }
        },
        "xaxis": {
         "anchor": "y",
         "domain": [
          0,
          1
         ],
         "title": {
          "text": "Gender"
         }
        },
        "yaxis": {
         "anchor": "x",
         "domain": [
          0,
          1
         ],
         "title": {
          "text": "Qualification_completed"
         }
        }
       }
      },
      "text/html": [
       "<div>                            <div id=\"8eae139f-84a7-4b19-802e-21ad2da1c090\" class=\"plotly-graph-div\" style=\"height:525px; width:100%;\"></div>            <script type=\"text/javascript\">                require([\"plotly\"], function(Plotly) {                    window.PLOTLYENV=window.PLOTLYENV || {};                                    if (document.getElementById(\"8eae139f-84a7-4b19-802e-21ad2da1c090\")) {                    Plotly.newPlot(                        \"8eae139f-84a7-4b19-802e-21ad2da1c090\",                        [{\"alignmentgroup\":\"True\",\"hovertemplate\":\"Marital Status?=Yes<br>What are you?=Unemplyed<br>Gender=%{x}<br>Qualification_completed=%{y}<extra></extra>\",\"legendgroup\":\"Yes, Unemplyed\",\"marker\":{\"color\":\"#636efa\",\"pattern\":{\"shape\":\".\"}},\"name\":\"Yes, Unemplyed\",\"offsetgroup\":\"Yes, Unemplyed\",\"orientation\":\"v\",\"showlegend\":true,\"textposition\":\"auto\",\"x\":[\"Male\",\"Male\",\"Female\",\"Female\",\"Male\",\"Male\",\"Male\",\"Male\",\"Female\",\"Male\",\"Female\",\"Male\",\"Male\",\"Female\",\"Male\",\"Male\",\"Female\",\"Female\",\"Male\",\"Male\",\"Female\",\"Female\",\"Female\"],\"xaxis\":\"x\",\"y\":[\"Masters\",\"Masters\",\"Bachelors\",\"Bachelors\",\"PhD\",\"Pre-Bachelors\",\"Masters\",\"Bachelors\",\"Masters\",\"Masters\",\"Bachelors\",\"Masters\",\"Bachelors\",\"Masters\",\"PhD\",\"Masters\",\"Masters\",\"PhD\",\"Masters\",\"PhD\",\"Masters\",\"Bachelors\",\"Masters\"],\"yaxis\":\"y\",\"type\":\"bar\"},{\"alignmentgroup\":\"True\",\"hovertemplate\":\"Marital Status?=Yes<br>What are you?=Student<br>Gender=%{x}<br>Qualification_completed=%{y}<extra></extra>\",\"legendgroup\":\"Yes, Student\",\"marker\":{\"color\":\"#636efa\",\"pattern\":{\"shape\":\"x\"}},\"name\":\"Yes, Student\",\"offsetgroup\":\"Yes, Student\",\"orientation\":\"v\",\"showlegend\":true,\"textposition\":\"auto\",\"x\":[\"Male\",\"Male\",\"Male\",\"Female\",\"Male\",\"Male\",\"Male\",\"Male\",\"Male\",\"Male\",\"Male\",\"Male\",\"Male\",\"Male\",\"Male\",\"Male\",\"Male\",\"Female\",\"Male\",\"Male\",\"Male\",\"Male\",\"Male\",\"Female\",\"Male\",\"Male\",\"Male\",\"Male\"],\"xaxis\":\"x\",\"y\":[\"Bachelors\",\"PhD\",\"Pre-Bachelors\",\"Masters\",\"Masters\",\"PhD\",\"Masters\",\"Masters\",\"Bachelors\",\"PhD\",\"Masters\",\"Bachelors\",\"PhD\",\"Masters\",\"Masters\",\"Masters\",\"Masters\",\"Masters\",\"Masters\",\"Bachelors\",\"Masters\",\"Masters\",\"Masters\",\"Pre-Bachelors\",\"Masters\",\"Bachelors\",\"Masters\",\"Masters\"],\"yaxis\":\"y\",\"type\":\"bar\"},{\"alignmentgroup\":\"True\",\"hovertemplate\":\"Marital Status?=Yes<br>What are you?=Employed<br>Gender=%{x}<br>Qualification_completed=%{y}<extra></extra>\",\"legendgroup\":\"Yes, Employed\",\"marker\":{\"color\":\"#636efa\",\"pattern\":{\"shape\":\"+\"}},\"name\":\"Yes, Employed\",\"offsetgroup\":\"Yes, Employed\",\"orientation\":\"v\",\"showlegend\":true,\"textposition\":\"auto\",\"x\":[\"Male\",\"Female\",\"Male\",\"Male\",\"Male\",\"Male\",\"Male\",\"Male\",\"Male\",\"Male\",\"Male\",\"Male\",\"Male\",\"Male\",\"Male\",\"Male\",\"Male\",\"Female\",\"Male\",\"Male\",\"Male\",\"Male\",\"Male\",\"Male\",\"Male\",\"Male\",\"Male\",\"Female\",\"Male\",\"Male\",\"Male\",\"Male\",\"Male\",\"Male\",\"Male\",\"Male\",\"Male\",\"Male\",\"Male\",\"Male\",\"Male\",\"Male\",\"Male\",\"Male\",\"Male\",\"Male\",\"Male\",\"Female\",\"Male\",\"Male\",\"Male\",\"Female\",\"Male\",\"Male\",\"Male\",\"Male\",\"Male\",\"Male\",\"Male\",\"Male\",\"Male\",\"Male\",\"Male\",\"Male\",\"Male\",\"Male\",\"Male\",\"Male\",\"Male\",\"Male\"],\"xaxis\":\"x\",\"y\":[\"Masters\",\"Masters\",\"Masters\",\"Masters\",\"Masters\",\"PhD\",\"Bachelors\",\"Bachelors\",\"Masters\",\"Masters\",\"Masters\",\"Bachelors\",\"Masters\",\"Masters\",\"Masters\",\"PhD\",\"Bachelors\",\"PhD\",\"Masters\",\"Masters\",\"Masters\",\"Masters\",\"Bachelors\",\"Bachelors\",\"Masters\",\"Masters\",\"Masters\",\"Masters\",\"Masters\",\"Masters\",\"Masters\",\"Masters\",\"Masters\",\"PhD\",\"Masters\",\"Masters\",\"Masters\",\"Masters\",\"Bachelors\",\"PhD\",\"Masters\",\"Masters\",\"Masters\",\"Bachelors\",\"Masters\",\"Bachelors\",\"PhD\",\"Masters\",\"Masters\",\"Masters\",\"Masters\",\"Masters\",\"PhD\",\"Masters\",\"Masters\",\"Masters\",\"Masters\",\"Masters\",\"Masters\",\"Bachelors\",\"Masters\",\"PhD\",\"Masters\",\"Bachelors\",\"Masters\",\"Bachelors\",\"Masters\",\"Bachelors\",\"Masters\",\"Bachelors\"],\"yaxis\":\"y\",\"type\":\"bar\"},{\"alignmentgroup\":\"True\",\"hovertemplate\":\"Marital Status?=No<br>What are you?=Unemplyed<br>Gender=%{x}<br>Qualification_completed=%{y}<extra></extra>\",\"legendgroup\":\"No, Unemplyed\",\"marker\":{\"color\":\"#EF553B\",\"pattern\":{\"shape\":\".\"}},\"name\":\"No, Unemplyed\",\"offsetgroup\":\"No, Unemplyed\",\"orientation\":\"v\",\"showlegend\":true,\"textposition\":\"auto\",\"x\":[\"Male\",\"Male\",\"Male\",\"Male\",\"Male\",\"Female\",\"Male\",\"Female\",\"Female\",\"Male\",\"Male\",\"Male\",\"Female\",\"Female\",\"Male\",\"Male\",\"Male\",\"Male\",\"Male\",\"Female\",\"Female\",\"Male\",\"Female\",\"Male\",\"Male\",\"Female\",\"Male\",\"Male\",\"Female\",\"Male\",\"Male\",\"Male\",\"Male\",\"Female\",\"Male\",\"Male\",\"Female\",\"Female\",\"Female\",\"Female\",\"Female\",\"Female\",\"Female\",\"Male\",\"Male\",\"Female\",\"Male\",\"Male\",\"Male\",\"Female\",\"Male\"],\"xaxis\":\"x\",\"y\":[\"Bachelors\",\"Masters\",\"Bachelors\",\"Bachelors\",\"Bachelors\",\"Masters\",\"Bachelors\",\"Bachelors\",\"Bachelors\",\"Bachelors\",\"Bachelors\",\"Bachelors\",\"Masters\",\"Bachelors\",\"Bachelors\",\"PhD\",\"Masters\",\"Masters\",\"Masters\",\"PhD\",\"Bachelors\",\"Masters\",\"Bachelors\",\"Bachelors\",\"Masters\",\"Masters\",\"Bachelors\",\"Bachelors\",\"Masters\",\"Masters\",\"Masters\",\"Masters\",\"Masters\",\"Bachelors\",\"Bachelors\",\"Masters\",\"Bachelors\",\"Bachelors\",\"Bachelors\",\"Masters\",\"Bachelors\",\"Masters\",\"Bachelors\",\"Bachelors\",\"Bachelors\",\"Bachelors\",\"Bachelors\",\"Bachelors\",\"Bachelors\",\"Masters\",\"Bachelors\"],\"yaxis\":\"y\",\"type\":\"bar\"},{\"alignmentgroup\":\"True\",\"hovertemplate\":\"Marital Status?=No<br>What are you?=Student<br>Gender=%{x}<br>Qualification_completed=%{y}<extra></extra>\",\"legendgroup\":\"No, Student\",\"marker\":{\"color\":\"#EF553B\",\"pattern\":{\"shape\":\"x\"}},\"name\":\"No, Student\",\"offsetgroup\":\"No, Student\",\"orientation\":\"v\",\"showlegend\":true,\"textposition\":\"auto\",\"x\":[\"Male\",\"Female\",\"Male\",\"Male\",\"Male\",\"Female\",\"Male\",\"Male\",\"Male\",\"Female\",\"Male\",\"Male\",\"Male\",\"Female\",\"Male\",\"Male\",\"Male\",\"Male\",\"Male\",\"Male\",\"Male\",\"Male\",\"Male\",\"Female\",\"Male\",\"Male\",\"Male\",\"Male\",\"Male\",\"Male\",\"Female\",\"Male\",\"Male\",\"Male\",\"Male\",\"Male\",\"Male\",\"Female\",\"Male\",\"Male\",\"Male\",\"Female\",\"Male\",\"Male\",\"Male\",\"Male\",\"Female\",\"Female\",\"Female\",\"Male\",\"Male\",\"Female\",\"Male\",\"Female\",\"Male\",\"Male\",\"Male\",\"Male\",\"Male\",\"Male\",\"Male\",\"Male\",\"Female\",\"Male\",\"Male\",\"Male\",\"Male\",\"Male\",\"Male\",\"Male\",\"Male\",\"Female\",\"Male\",\"Male\",\"Male\",\"Female\",\"Male\",\"Male\",\"Male\",\"Female\",\"Male\",\"Male\",\"Male\",\"Male\",\"Male\",\"Male\",\"Male\",\"Male\",\"Male\",\"Male\",\"Male\",\"Male\",\"Female\",\"Male\",\"Male\",\"Male\",\"Male\",\"Male\",\"Male\",\"Male\",\"Female\",\"Female\",\"Male\",\"Male\",\"Female\",\"Male\",\"Female\",\"Male\",\"Female\",\"Male\",\"Male\",\"Male\",\"Male\",\"Female\",\"Female\",\"Female\",\"Female\",\"Female\",\"Male\",\"Male\",\"Female\",\"Male\",\"Male\",\"Male\",\"Male\",\"Male\",\"Male\",\"Male\",\"Male\",\"Male\",\"Male\",\"Female\",\"Male\",\"Male\",\"Male\",\"Male\",\"Male\",\"Male\",\"Male\",\"Male\"],\"xaxis\":\"x\",\"y\":[\"Bachelors\",\"Masters\",\"Masters\",\"Bachelors\",\"PhD\",\"Masters\",\"Pre-Bachelors\",\"Masters\",\"Pre-Bachelors\",\"Bachelors\",\"PhD\",\"Bachelors\",\"PhD\",\"Masters\",\"Bachelors\",\"Pre-Bachelors\",\"Masters\",\"Pre-Bachelors\",\"Masters\",\"Pre-Bachelors\",\"Pre-Bachelors\",\"Pre-Bachelors\",\"Masters\",\"Masters\",\"Pre-Bachelors\",\"Masters\",\"Pre-Bachelors\",\"Bachelors\",\"Pre-Bachelors\",\"Bachelors\",\"Bachelors\",\"Masters\",\"Masters\",\"Bachelors\",\"Masters\",\"Pre-Bachelors\",\"Bachelors\",\"Masters\",\"Bachelors\",\"Bachelors\",\"Masters\",\"Masters\",\"Bachelors\",\"Pre-Bachelors\",\"Masters\",\"Pre-Bachelors\",\"Masters\",\"Masters\",\"Masters\",\"Bachelors\",\"Bachelors\",\"Bachelors\",\"Masters\",\"Bachelors\",\"Pre-Bachelors\",\"Pre-Bachelors\",\"Bachelors\",\"Masters\",\"Masters\",\"Masters\",\"Bachelors\",\"Bachelors\",\"Masters\",\"Masters\",\"Bachelors\",\"Bachelors\",\"Masters\",\"Pre-Bachelors\",\"Bachelors\",\"Masters\",\"Bachelors\",\"Bachelors\",\"Bachelors\",\"Pre-Bachelors\",\"Pre-Bachelors\",\"Bachelors\",\"Bachelors\",\"Pre-Bachelors\",\"Bachelors\",\"Bachelors\",\"Bachelors\",\"Bachelors\",\"PhD\",\"Masters\",\"Bachelors\",\"Pre-Bachelors\",\"Pre-Bachelors\",\"Pre-Bachelors\",\"Pre-Bachelors\",\"Masters\",\"Bachelors\",\"Bachelors\",\"Bachelors\",\"Bachelors\",\"Masters\",\"Pre-Bachelors\",\"Pre-Bachelors\",\"Pre-Bachelors\",\"Masters\",\"Pre-Bachelors\",\"Pre-Bachelors\",\"Pre-Bachelors\",\"Bachelors\",\"Bachelors\",\"Pre-Bachelors\",\"Bachelors\",\"Pre-Bachelors\",\"Bachelors\",\"Pre-Bachelors\",\"Pre-Bachelors\",\"Pre-Bachelors\",\"Pre-Bachelors\",\"Bachelors\",\"Masters\",\"Masters\",\"Masters\",\"Masters\",\"Bachelors\",\"Masters\",\"PhD\",\"Masters\",\"Masters\",\"Masters\",\"Bachelors\",\"Bachelors\",\"Masters\",\"Bachelors\",\"Pre-Bachelors\",\"Bachelors\",\"Masters\",\"Pre-Bachelors\",\"Pre-Bachelors\",\"Masters\",\"Masters\",\"Pre-Bachelors\",\"Bachelors\",\"Bachelors\",\"Pre-Bachelors\",\"Masters\",\"Masters\"],\"yaxis\":\"y\",\"type\":\"bar\"},{\"alignmentgroup\":\"True\",\"hovertemplate\":\"Marital Status?=No<br>What are you?=Employed<br>Gender=%{x}<br>Qualification_completed=%{y}<extra></extra>\",\"legendgroup\":\"No, Employed\",\"marker\":{\"color\":\"#EF553B\",\"pattern\":{\"shape\":\"+\"}},\"name\":\"No, Employed\",\"offsetgroup\":\"No, Employed\",\"orientation\":\"v\",\"showlegend\":true,\"textposition\":\"auto\",\"x\":[\"Male\",\"Male\",\"Male\",\"Male\",\"Male\",\"Male\",\"Male\",\"Male\",\"Female\",\"Male\",\"Male\",\"Male\",\"Male\",\"Male\",\"Female\",\"Male\",\"Male\",\"Male\",\"Male\",\"Male\",\"Male\",\"Male\",\"Male\",\"Female\",\"Male\",\"Male\",\"Male\",\"Male\",\"Female\",\"Male\",\"Male\",\"Male\",\"Male\",\"Male\",\"Male\",\"Male\",\"Male\",\"Male\",\"Male\",\"Male\",\"Female\",\"Male\",\"Male\",\"Male\",\"Female\",\"Female\",\"Female\",\"Male\",\"Male\",\"Male\",\"Male\",\"Male\",\"Female\",\"Male\",\"Male\",\"Male\",\"Male\",\"Male\",\"Male\",\"Male\",\"Male\",\"Male\",\"Male\"],\"xaxis\":\"x\",\"y\":[\"Bachelors\",\"Bachelors\",\"PhD\",\"Bachelors\",\"PhD\",\"PhD\",\"Masters\",\"Masters\",\"Masters\",\"Masters\",\"Bachelors\",\"Masters\",\"Masters\",\"Masters\",\"Masters\",\"Bachelors\",\"Bachelors\",\"Masters\",\"Bachelors\",\"Masters\",\"Masters\",\"Pre-Bachelors\",\"Bachelors\",\"Bachelors\",\"Masters\",\"Bachelors\",\"Bachelors\",\"Bachelors\",\"Masters\",\"Masters\",\"Masters\",\"Bachelors\",\"Masters\",\"Masters\",\"Masters\",\"Pre-Bachelors\",\"Bachelors\",\"Bachelors\",\"Bachelors\",\"Bachelors\",\"Masters\",\"Bachelors\",\"Bachelors\",\"Masters\",\"Masters\",\"Masters\",\"PhD\",\"Bachelors\",\"Masters\",\"Bachelors\",\"Bachelors\",\"Masters\",\"Masters\",\"Masters\",\"Bachelors\",\"PhD\",\"Bachelors\",\"Bachelors\",\"Masters\",\"Bachelors\",\"Bachelors\",\"Bachelors\",\"Masters\"],\"yaxis\":\"y\",\"type\":\"bar\"}],                        {\"template\":{\"data\":{\"bar\":[{\"error_x\":{\"color\":\"#2a3f5f\"},\"error_y\":{\"color\":\"#2a3f5f\"},\"marker\":{\"line\":{\"color\":\"#E5ECF6\",\"width\":0.5},\"pattern\":{\"fillmode\":\"overlay\",\"size\":10,\"solidity\":0.2}},\"type\":\"bar\"}],\"barpolar\":[{\"marker\":{\"line\":{\"color\":\"#E5ECF6\",\"width\":0.5},\"pattern\":{\"fillmode\":\"overlay\",\"size\":10,\"solidity\":0.2}},\"type\":\"barpolar\"}],\"carpet\":[{\"aaxis\":{\"endlinecolor\":\"#2a3f5f\",\"gridcolor\":\"white\",\"linecolor\":\"white\",\"minorgridcolor\":\"white\",\"startlinecolor\":\"#2a3f5f\"},\"baxis\":{\"endlinecolor\":\"#2a3f5f\",\"gridcolor\":\"white\",\"linecolor\":\"white\",\"minorgridcolor\":\"white\",\"startlinecolor\":\"#2a3f5f\"},\"type\":\"carpet\"}],\"choropleth\":[{\"colorbar\":{\"outlinewidth\":0,\"ticks\":\"\"},\"type\":\"choropleth\"}],\"contour\":[{\"colorbar\":{\"outlinewidth\":0,\"ticks\":\"\"},\"colorscale\":[[0.0,\"#0d0887\"],[0.1111111111111111,\"#46039f\"],[0.2222222222222222,\"#7201a8\"],[0.3333333333333333,\"#9c179e\"],[0.4444444444444444,\"#bd3786\"],[0.5555555555555556,\"#d8576b\"],[0.6666666666666666,\"#ed7953\"],[0.7777777777777778,\"#fb9f3a\"],[0.8888888888888888,\"#fdca26\"],[1.0,\"#f0f921\"]],\"type\":\"contour\"}],\"contourcarpet\":[{\"colorbar\":{\"outlinewidth\":0,\"ticks\":\"\"},\"type\":\"contourcarpet\"}],\"heatmap\":[{\"colorbar\":{\"outlinewidth\":0,\"ticks\":\"\"},\"colorscale\":[[0.0,\"#0d0887\"],[0.1111111111111111,\"#46039f\"],[0.2222222222222222,\"#7201a8\"],[0.3333333333333333,\"#9c179e\"],[0.4444444444444444,\"#bd3786\"],[0.5555555555555556,\"#d8576b\"],[0.6666666666666666,\"#ed7953\"],[0.7777777777777778,\"#fb9f3a\"],[0.8888888888888888,\"#fdca26\"],[1.0,\"#f0f921\"]],\"type\":\"heatmap\"}],\"heatmapgl\":[{\"colorbar\":{\"outlinewidth\":0,\"ticks\":\"\"},\"colorscale\":[[0.0,\"#0d0887\"],[0.1111111111111111,\"#46039f\"],[0.2222222222222222,\"#7201a8\"],[0.3333333333333333,\"#9c179e\"],[0.4444444444444444,\"#bd3786\"],[0.5555555555555556,\"#d8576b\"],[0.6666666666666666,\"#ed7953\"],[0.7777777777777778,\"#fb9f3a\"],[0.8888888888888888,\"#fdca26\"],[1.0,\"#f0f921\"]],\"type\":\"heatmapgl\"}],\"histogram\":[{\"marker\":{\"pattern\":{\"fillmode\":\"overlay\",\"size\":10,\"solidity\":0.2}},\"type\":\"histogram\"}],\"histogram2d\":[{\"colorbar\":{\"outlinewidth\":0,\"ticks\":\"\"},\"colorscale\":[[0.0,\"#0d0887\"],[0.1111111111111111,\"#46039f\"],[0.2222222222222222,\"#7201a8\"],[0.3333333333333333,\"#9c179e\"],[0.4444444444444444,\"#bd3786\"],[0.5555555555555556,\"#d8576b\"],[0.6666666666666666,\"#ed7953\"],[0.7777777777777778,\"#fb9f3a\"],[0.8888888888888888,\"#fdca26\"],[1.0,\"#f0f921\"]],\"type\":\"histogram2d\"}],\"histogram2dcontour\":[{\"colorbar\":{\"outlinewidth\":0,\"ticks\":\"\"},\"colorscale\":[[0.0,\"#0d0887\"],[0.1111111111111111,\"#46039f\"],[0.2222222222222222,\"#7201a8\"],[0.3333333333333333,\"#9c179e\"],[0.4444444444444444,\"#bd3786\"],[0.5555555555555556,\"#d8576b\"],[0.6666666666666666,\"#ed7953\"],[0.7777777777777778,\"#fb9f3a\"],[0.8888888888888888,\"#fdca26\"],[1.0,\"#f0f921\"]],\"type\":\"histogram2dcontour\"}],\"mesh3d\":[{\"colorbar\":{\"outlinewidth\":0,\"ticks\":\"\"},\"type\":\"mesh3d\"}],\"parcoords\":[{\"line\":{\"colorbar\":{\"outlinewidth\":0,\"ticks\":\"\"}},\"type\":\"parcoords\"}],\"pie\":[{\"automargin\":true,\"type\":\"pie\"}],\"scatter\":[{\"marker\":{\"colorbar\":{\"outlinewidth\":0,\"ticks\":\"\"}},\"type\":\"scatter\"}],\"scatter3d\":[{\"line\":{\"colorbar\":{\"outlinewidth\":0,\"ticks\":\"\"}},\"marker\":{\"colorbar\":{\"outlinewidth\":0,\"ticks\":\"\"}},\"type\":\"scatter3d\"}],\"scattercarpet\":[{\"marker\":{\"colorbar\":{\"outlinewidth\":0,\"ticks\":\"\"}},\"type\":\"scattercarpet\"}],\"scattergeo\":[{\"marker\":{\"colorbar\":{\"outlinewidth\":0,\"ticks\":\"\"}},\"type\":\"scattergeo\"}],\"scattergl\":[{\"marker\":{\"colorbar\":{\"outlinewidth\":0,\"ticks\":\"\"}},\"type\":\"scattergl\"}],\"scattermapbox\":[{\"marker\":{\"colorbar\":{\"outlinewidth\":0,\"ticks\":\"\"}},\"type\":\"scattermapbox\"}],\"scatterpolar\":[{\"marker\":{\"colorbar\":{\"outlinewidth\":0,\"ticks\":\"\"}},\"type\":\"scatterpolar\"}],\"scatterpolargl\":[{\"marker\":{\"colorbar\":{\"outlinewidth\":0,\"ticks\":\"\"}},\"type\":\"scatterpolargl\"}],\"scatterternary\":[{\"marker\":{\"colorbar\":{\"outlinewidth\":0,\"ticks\":\"\"}},\"type\":\"scatterternary\"}],\"surface\":[{\"colorbar\":{\"outlinewidth\":0,\"ticks\":\"\"},\"colorscale\":[[0.0,\"#0d0887\"],[0.1111111111111111,\"#46039f\"],[0.2222222222222222,\"#7201a8\"],[0.3333333333333333,\"#9c179e\"],[0.4444444444444444,\"#bd3786\"],[0.5555555555555556,\"#d8576b\"],[0.6666666666666666,\"#ed7953\"],[0.7777777777777778,\"#fb9f3a\"],[0.8888888888888888,\"#fdca26\"],[1.0,\"#f0f921\"]],\"type\":\"surface\"}],\"table\":[{\"cells\":{\"fill\":{\"color\":\"#EBF0F8\"},\"line\":{\"color\":\"white\"}},\"header\":{\"fill\":{\"color\":\"#C8D4E3\"},\"line\":{\"color\":\"white\"}},\"type\":\"table\"}]},\"layout\":{\"annotationdefaults\":{\"arrowcolor\":\"#2a3f5f\",\"arrowhead\":0,\"arrowwidth\":1},\"autotypenumbers\":\"strict\",\"coloraxis\":{\"colorbar\":{\"outlinewidth\":0,\"ticks\":\"\"}},\"colorscale\":{\"diverging\":[[0,\"#8e0152\"],[0.1,\"#c51b7d\"],[0.2,\"#de77ae\"],[0.3,\"#f1b6da\"],[0.4,\"#fde0ef\"],[0.5,\"#f7f7f7\"],[0.6,\"#e6f5d0\"],[0.7,\"#b8e186\"],[0.8,\"#7fbc41\"],[0.9,\"#4d9221\"],[1,\"#276419\"]],\"sequential\":[[0.0,\"#0d0887\"],[0.1111111111111111,\"#46039f\"],[0.2222222222222222,\"#7201a8\"],[0.3333333333333333,\"#9c179e\"],[0.4444444444444444,\"#bd3786\"],[0.5555555555555556,\"#d8576b\"],[0.6666666666666666,\"#ed7953\"],[0.7777777777777778,\"#fb9f3a\"],[0.8888888888888888,\"#fdca26\"],[1.0,\"#f0f921\"]],\"sequentialminus\":[[0.0,\"#0d0887\"],[0.1111111111111111,\"#46039f\"],[0.2222222222222222,\"#7201a8\"],[0.3333333333333333,\"#9c179e\"],[0.4444444444444444,\"#bd3786\"],[0.5555555555555556,\"#d8576b\"],[0.6666666666666666,\"#ed7953\"],[0.7777777777777778,\"#fb9f3a\"],[0.8888888888888888,\"#fdca26\"],[1.0,\"#f0f921\"]]},\"colorway\":[\"#636efa\",\"#EF553B\",\"#00cc96\",\"#ab63fa\",\"#FFA15A\",\"#19d3f3\",\"#FF6692\",\"#B6E880\",\"#FF97FF\",\"#FECB52\"],\"font\":{\"color\":\"#2a3f5f\"},\"geo\":{\"bgcolor\":\"white\",\"lakecolor\":\"white\",\"landcolor\":\"#E5ECF6\",\"showlakes\":true,\"showland\":true,\"subunitcolor\":\"white\"},\"hoverlabel\":{\"align\":\"left\"},\"hovermode\":\"closest\",\"mapbox\":{\"style\":\"light\"},\"paper_bgcolor\":\"white\",\"plot_bgcolor\":\"#E5ECF6\",\"polar\":{\"angularaxis\":{\"gridcolor\":\"white\",\"linecolor\":\"white\",\"ticks\":\"\"},\"bgcolor\":\"#E5ECF6\",\"radialaxis\":{\"gridcolor\":\"white\",\"linecolor\":\"white\",\"ticks\":\"\"}},\"scene\":{\"xaxis\":{\"backgroundcolor\":\"#E5ECF6\",\"gridcolor\":\"white\",\"gridwidth\":2,\"linecolor\":\"white\",\"showbackground\":true,\"ticks\":\"\",\"zerolinecolor\":\"white\"},\"yaxis\":{\"backgroundcolor\":\"#E5ECF6\",\"gridcolor\":\"white\",\"gridwidth\":2,\"linecolor\":\"white\",\"showbackground\":true,\"ticks\":\"\",\"zerolinecolor\":\"white\"},\"zaxis\":{\"backgroundcolor\":\"#E5ECF6\",\"gridcolor\":\"white\",\"gridwidth\":2,\"linecolor\":\"white\",\"showbackground\":true,\"ticks\":\"\",\"zerolinecolor\":\"white\"}},\"shapedefaults\":{\"line\":{\"color\":\"#2a3f5f\"}},\"ternary\":{\"aaxis\":{\"gridcolor\":\"white\",\"linecolor\":\"white\",\"ticks\":\"\"},\"baxis\":{\"gridcolor\":\"white\",\"linecolor\":\"white\",\"ticks\":\"\"},\"bgcolor\":\"#E5ECF6\",\"caxis\":{\"gridcolor\":\"white\",\"linecolor\":\"white\",\"ticks\":\"\"}},\"title\":{\"x\":0.05},\"xaxis\":{\"automargin\":true,\"gridcolor\":\"white\",\"linecolor\":\"white\",\"ticks\":\"\",\"title\":{\"standoff\":15},\"zerolinecolor\":\"white\",\"zerolinewidth\":2},\"yaxis\":{\"automargin\":true,\"gridcolor\":\"white\",\"linecolor\":\"white\",\"ticks\":\"\",\"title\":{\"standoff\":15},\"zerolinecolor\":\"white\",\"zerolinewidth\":2}}},\"xaxis\":{\"anchor\":\"y\",\"domain\":[0.0,1.0],\"title\":{\"text\":\"Gender\"}},\"yaxis\":{\"anchor\":\"x\",\"domain\":[0.0,1.0],\"title\":{\"text\":\"Qualification_completed\"}},\"legend\":{\"title\":{\"text\":\"Marital Status?, What are you?\"},\"tracegroupgap\":0},\"margin\":{\"t\":60},\"barmode\":\"relative\"},                        {\"responsive\": true}                    ).then(function(){\n",
       "                            \n",
       "var gd = document.getElementById('8eae139f-84a7-4b19-802e-21ad2da1c090');\n",
       "var x = new MutationObserver(function (mutations, observer) {{\n",
       "        var display = window.getComputedStyle(gd).display;\n",
       "        if (!display || display === 'none') {{\n",
       "            console.log([gd, 'removed!']);\n",
       "            Plotly.purge(gd);\n",
       "            observer.disconnect();\n",
       "        }}\n",
       "}});\n",
       "\n",
       "// Listen for the removal of the full notebook cells\n",
       "var notebookContainer = gd.closest('#notebook-container');\n",
       "if (notebookContainer) {{\n",
       "    x.observe(notebookContainer, {childList: true});\n",
       "}}\n",
       "\n",
       "// Listen for the clearing of the current output cell\n",
       "var outputEl = gd.closest('.output');\n",
       "if (outputEl) {{\n",
       "    x.observe(outputEl, {childList: true});\n",
       "}}\n",
       "\n",
       "                        })                };                });            </script>        </div>"
      ]
     },
     "metadata": {},
     "output_type": "display_data"
    }
   ],
   "source": [
    "fig = px.bar(d, x=\"Gender\", y=\"Qualification_completed\", color=\"Marital Status?\",\n",
    "             pattern_shape=\"What are you?\", pattern_shape_sequence=[\".\", \"x\", \"+\"])\n",
    "fig.show()"
   ]
  },
  {
   "cell_type": "code",
   "execution_count": 23,
   "id": "80bd3bb1",
   "metadata": {},
   "outputs": [
    {
     "data": {
      "application/vnd.plotly.v1+json": {
       "config": {
        "plotlyServerURL": "https://plot.ly"
       },
       "data": [
        {
         "hovertemplate": "Do you wear glasses?=No<br>field_of_study=%{x}<br>Your favorite programming language?=%{y}<extra></extra>",
         "legendgroup": "No",
         "marker": {
          "color": "#636efa",
          "symbol": "circle"
         },
         "mode": "markers",
         "name": "No",
         "orientation": "v",
         "showlegend": true,
         "type": "scatter",
         "x": [
          "Natural Sciences",
          "CS/IT",
          "CS/IT",
          "CS/IT",
          "CS/IT",
          "Natural Sciences",
          "Natural Sciences",
          "CS/IT",
          "Others",
          "Enginnering",
          "CS/IT",
          "CS/IT",
          "Enginnering",
          "Enginnering",
          "Enginnering",
          "Enginnering",
          "Others",
          "Enginnering",
          "Biology",
          "Enginnering",
          "CS/IT",
          "Biology",
          "Enginnering",
          "Business/Economics",
          "Enginnering",
          "CS/IT",
          "Mathematics",
          "Enginnering",
          "Biology",
          "Software Eng.",
          "Enginnering",
          "CS/IT",
          "Enginnering",
          "CS/IT",
          "Mathematics",
          "Software Eng.",
          "Enginnering",
          "Software Eng.",
          "Enginnering",
          "CS/IT",
          "Software Eng.",
          "Enginnering",
          "Natural Sciences",
          "Business/Economics",
          "Natural Sciences",
          "CS/IT",
          "Enginnering",
          "CS/IT",
          "CS/IT",
          "Software Eng.",
          "CS/IT",
          "CS/IT",
          "Others",
          "Natural Sciences",
          "Enginnering",
          "Natural Sciences",
          "Enginnering",
          "Natural Sciences",
          "Natural Sciences",
          "Software Eng.",
          "CS/IT",
          "Enginnering",
          "CS/IT",
          "Enginnering",
          "Enginnering",
          "CS/IT",
          "Biology",
          "Natural Sciences",
          "Natural Sciences",
          "Natural Sciences",
          "CS/IT",
          "Enginnering",
          "CS/IT",
          "Enginnering",
          "Enginnering",
          "Enginnering",
          "Enginnering",
          "Natural Sciences",
          "Mathematics",
          "Enginnering",
          "Natural Sciences",
          "Others",
          "CS/IT",
          "Software Eng.",
          "Enginnering",
          "Enginnering",
          "Enginnering",
          "Natural Sciences",
          "CS/IT",
          "Mathematics",
          "CS/IT",
          "Mathematics",
          "Enginnering",
          "CS/IT",
          "Enginnering",
          "Enginnering",
          "Others",
          "CS/IT",
          "Business/Economics",
          "Others",
          "CS/IT",
          "Biology",
          "Natural Sciences",
          "Enginnering",
          "Software Eng.",
          "Enginnering",
          "Enginnering",
          "Natural Sciences",
          "CS/IT",
          "CS/IT",
          "Enginnering",
          "Biology",
          "Biology",
          "Software Eng.",
          "CS/IT",
          "Natural Sciences",
          "CS/IT",
          "Enginnering",
          "CS/IT",
          "Enginnering",
          "Natural Sciences",
          "Natural Sciences",
          "Enginnering",
          "CS/IT",
          "CS/IT",
          "Enginnering",
          "Business/Economics",
          "Enginnering",
          "Natural Sciences",
          "Others",
          "Enginnering",
          "CS/IT",
          "Enginnering",
          "Software Eng.",
          "CS/IT",
          "Natural Sciences",
          "Natural Sciences",
          "Mathematics",
          "Biology",
          "Enginnering",
          "Biology",
          "Enginnering",
          "Natural Sciences",
          "Software Eng.",
          "Biology",
          "Software Eng.",
          "Biology",
          "Biology",
          "Enginnering",
          "CS/IT",
          "CS/IT",
          "Business/Economics",
          "Enginnering",
          "Software Eng.",
          "CS/IT",
          "Natural Sciences",
          "CS/IT",
          "Business/Economics",
          "Enginnering",
          "CS/IT",
          "CS/IT",
          "Others",
          "CS/IT",
          "Others",
          "CS/IT",
          "Enginnering",
          "Biology",
          "CS/IT",
          "Natural Sciences",
          "CS/IT",
          "Natural Sciences",
          "Others",
          "CS/IT",
          "CS/IT",
          "Statistics",
          "Enginnering",
          "CS/IT",
          "Enginnering",
          "CS/IT",
          "Natural Sciences",
          "CS/IT",
          "Enginnering",
          "Others",
          "CS/IT",
          "CS/IT",
          "Enginnering",
          "Enginnering",
          "Natural Sciences",
          "Biology",
          "Mathematics",
          "Statistics",
          "Natural Sciences",
          "CS/IT",
          "Business/Economics",
          "Natural Sciences",
          "CS/IT",
          "CS/IT",
          "Biology",
          "Natural Sciences",
          "CS/IT",
          "Natural Sciences",
          "CS/IT",
          "Natural Sciences",
          "Enginnering",
          "CS/IT",
          "Natural Sciences",
          "Others",
          "Enginnering",
          "Natural Sciences",
          "Enginnering",
          "Natural Sciences",
          "CS/IT",
          "Enginnering",
          "Business/Economics",
          "CS/IT",
          "CS/IT",
          "Mathematics",
          "CS/IT",
          "Enginnering",
          "Business/Economics",
          "Biology",
          "Enginnering",
          "Enginnering",
          "CS/IT",
          "CS/IT",
          "Natural Sciences",
          "Enginnering",
          "Enginnering",
          "CS/IT",
          "CS/IT",
          "Natural Sciences",
          "CS/IT",
          "Natural Sciences",
          "Business/Economics",
          "CS/IT",
          "CS/IT",
          "Enginnering",
          "Others",
          "Mathematics",
          "CS/IT",
          "CS/IT",
          "Enginnering"
         ],
         "xaxis": "x",
         "y": [
          "Python",
          "Python",
          "Python",
          "Python",
          "Python",
          "Python",
          "Python",
          "Python",
          "Python",
          "Python",
          "Python",
          "Python",
          "Python",
          "Python",
          "Python",
          "Python",
          "Python",
          "Python",
          "Python",
          "Python",
          "Python",
          "Python",
          "Python",
          "Python",
          "Python",
          "Python",
          "C++",
          "Python",
          "R",
          "Python",
          "Python",
          "Python",
          "Python",
          "Python",
          "Python",
          "Others",
          "Python",
          "Others",
          "C++",
          "C++",
          "Python",
          "Others",
          "Python",
          "Python",
          "SQL",
          "Python",
          "Python",
          "Python",
          "Python",
          "Python",
          "Python",
          "Python",
          "Python",
          "Python",
          "Python",
          "Python",
          "Python",
          "Python",
          "Python",
          "Python",
          "Python",
          "Python",
          "Python",
          "Python",
          "Python",
          "Python",
          "Python",
          "Python",
          "Python",
          "Python",
          "Python",
          "Python",
          "Python",
          "Python",
          "Python",
          "Python",
          "Python",
          "Others",
          "Python",
          "Python",
          "Python",
          "Python",
          "Python",
          "Python",
          "C++",
          "Python",
          "Python",
          "Python",
          "Python",
          "Python",
          "Python",
          "Python",
          "Python",
          "Python",
          "Python",
          "Python",
          "Python",
          "Python",
          "Python",
          "Others",
          "Python",
          "Python",
          "Python",
          "Python",
          "Python",
          "Python",
          "Python",
          "Julia",
          "Python",
          "Python",
          "Python",
          "Python",
          "Python",
          "Python",
          "Python",
          "Python",
          "Others",
          "Python",
          "Python",
          "Python",
          "C++",
          "Python",
          "Python",
          "Python",
          "Python",
          "Python",
          "Python",
          "Python",
          "Python",
          "C#",
          "Python",
          "SQL",
          "Python",
          "Others",
          "Python",
          "Python",
          "Python",
          "Python",
          "Python",
          "Python",
          "Python",
          "Python",
          "Python",
          "Python",
          "Python",
          "Python",
          "Python",
          "Python",
          "Python",
          "C#",
          "Python",
          "Python",
          "Python",
          "Python",
          "Python",
          "Python",
          "Python",
          "Python",
          "Others",
          "Python",
          "Python",
          "Python",
          "Python",
          "Python",
          "Python",
          "Python",
          "Python",
          "Python",
          "Python",
          "Python",
          "Python",
          "Python",
          "Python",
          "Python",
          "Python",
          "Python",
          "Python",
          "Javascript",
          "Others",
          "Python",
          "Python",
          "Python",
          "Python",
          "Python",
          "Python",
          "Python",
          "Python",
          "Python",
          "Python",
          "Python",
          "Python",
          "Python",
          "Python",
          "Python",
          "Python",
          "Python",
          "Python",
          "Python",
          "Python",
          "Others",
          "Python",
          "Python",
          "Python",
          "Python",
          "Python",
          "Python",
          "Python",
          "C++",
          "Python",
          "Python",
          "Python",
          "Python",
          "Python",
          "Python",
          "Python",
          "Python",
          "Python",
          "Python",
          "C#",
          "Python",
          "Python",
          "Python",
          "Python",
          "Python",
          "C#",
          "Python",
          "Python",
          "Python",
          "SQL",
          "C++",
          "Python",
          "Python",
          "Python",
          "Python",
          "Python",
          "Javascript",
          "Python",
          "Python",
          "Python",
          "Python",
          "Python",
          "Python"
         ],
         "yaxis": "y"
        },
        {
         "hovertemplate": "Do you wear glasses?=Yes<br>field_of_study=%{x}<br>Your favorite programming language?=%{y}<extra></extra>",
         "legendgroup": "Yes",
         "marker": {
          "color": "#EF553B",
          "symbol": "circle"
         },
         "mode": "markers",
         "name": "Yes",
         "orientation": "v",
         "showlegend": true,
         "type": "scatter",
         "x": [
          "Enginnering",
          "Enginnering",
          "Others",
          "Enginnering",
          "Biology",
          "Enginnering",
          "Enginnering",
          "Biology",
          "Natural Sciences",
          "Enginnering",
          "Enginnering",
          "Others",
          "Enginnering",
          "Enginnering",
          "Enginnering",
          "Enginnering",
          "Enginnering",
          "Enginnering",
          "CS/IT",
          "Biology",
          "Enginnering",
          "Software Eng.",
          "CS/IT",
          "Biology",
          "Others",
          "CS/IT",
          "Natural Sciences",
          "Enginnering",
          "CS/IT",
          "Enginnering",
          "Natural Sciences",
          "Enginnering",
          "Software Eng.",
          "Enginnering",
          "Biology",
          "Enginnering",
          "Enginnering",
          "Business/Economics",
          "Enginnering",
          "Biology",
          "Enginnering",
          "Enginnering",
          "Others",
          "CS/IT",
          "CS/IT",
          "Enginnering",
          "CS/IT",
          "Business/Economics",
          "Biology",
          "Mathematics",
          "Biology",
          "Enginnering",
          "Enginnering",
          "Enginnering",
          "Enginnering",
          "Biology",
          "Software Eng.",
          "CS/IT",
          "Natural Sciences",
          "Natural Sciences",
          "Enginnering",
          "Natural Sciences",
          "CS/IT",
          "Enginnering",
          "Software Eng.",
          "Enginnering",
          "CS/IT",
          "Natural Sciences",
          "CS/IT",
          "Enginnering",
          "CS/IT",
          "Natural Sciences",
          "CS/IT",
          "CS/IT",
          "Enginnering",
          "Biology",
          "CS/IT",
          "Software Eng.",
          "Business/Economics",
          "Others",
          "CS/IT",
          "Natural Sciences",
          "Enginnering",
          "Enginnering",
          "Natural Sciences",
          "CS/IT",
          "CS/IT",
          "Natural Sciences",
          "Enginnering",
          "Enginnering",
          "Natural Sciences",
          "Business/Economics",
          "Biology",
          "Software Eng.",
          "CS/IT",
          "CS/IT",
          "Others",
          "Enginnering",
          "Others",
          "Biology",
          "CS/IT",
          "Enginnering",
          "Enginnering",
          "Business/Economics",
          "CS/IT",
          "Biology",
          "CS/IT",
          "CS/IT",
          "Others",
          "Business/Economics",
          "Natural Sciences",
          "CS/IT",
          "CS/IT",
          "Natural Sciences",
          "Business/Economics",
          "Biology",
          "CS/IT",
          "Software Eng.",
          "Natural Sciences",
          "Business/Economics",
          "Enginnering",
          "Enginnering",
          "CS/IT",
          "Biology",
          "Business/Economics",
          "CS/IT",
          "Business/Economics",
          "Enginnering",
          "Software Eng.",
          "Enginnering",
          "Enginnering",
          "Enginnering",
          "Mathematics"
         ],
         "xaxis": "x",
         "y": [
          "Python",
          "Javascript",
          "Javascript",
          "Python",
          "Python",
          "C++",
          "Python",
          "Python",
          "Python",
          "Python",
          "Python",
          "Python",
          "Python",
          "Python",
          "Python",
          "Python",
          "Python",
          "Python",
          "Python",
          "Python",
          "C++",
          "Javascript",
          "Python",
          "Python",
          "Python",
          "Python",
          "Python",
          "C++",
          "Python",
          "Python",
          "Others",
          "C++",
          "Javascript",
          "Python",
          "Python",
          "C++",
          "Python",
          "Python",
          "Javascript",
          "Python",
          "Python",
          "Python",
          "Python",
          "Others",
          "Python",
          "Python",
          "Python",
          "Python",
          "Python",
          "Python",
          "Python",
          "Python",
          "Python",
          "R",
          "Python",
          "Python",
          "Python",
          "Python",
          "Python",
          "Python",
          "R",
          "Python",
          "Python",
          "Python",
          "Python",
          "Python",
          "Python",
          "Python",
          "Python",
          "Python",
          "Python",
          "Python",
          "C++",
          "Python",
          "Python",
          "Python",
          "Python",
          "Python",
          "Python",
          "Python",
          "Python",
          "Python",
          "Python",
          "Python",
          "Python",
          "Python",
          "Python",
          "Python",
          "Python",
          "Python",
          "Python",
          "Python",
          "R",
          "Python",
          "Python",
          "Python",
          "Python",
          "Python",
          "Python",
          "Python",
          "Python",
          "Others",
          "Others",
          "Others",
          "Python",
          "Python",
          "Javascript",
          "Python",
          "Python",
          "Python",
          "Python",
          "Python",
          "Python",
          "Python",
          "Python",
          "Python",
          "Python",
          "C#",
          "Python",
          "Python",
          "Python",
          "Python",
          "C#",
          "Python",
          "Python",
          "Python",
          "Python",
          "Python",
          "Javascript",
          "Python",
          "R",
          "Python",
          "Python"
         ],
         "yaxis": "y"
        }
       ],
       "layout": {
        "legend": {
         "title": {
          "text": "Do you wear glasses?"
         },
         "tracegroupgap": 0
        },
        "margin": {
         "t": 60
        },
        "template": {
         "data": {
          "bar": [
           {
            "error_x": {
             "color": "#2a3f5f"
            },
            "error_y": {
             "color": "#2a3f5f"
            },
            "marker": {
             "line": {
              "color": "#E5ECF6",
              "width": 0.5
             },
             "pattern": {
              "fillmode": "overlay",
              "size": 10,
              "solidity": 0.2
             }
            },
            "type": "bar"
           }
          ],
          "barpolar": [
           {
            "marker": {
             "line": {
              "color": "#E5ECF6",
              "width": 0.5
             },
             "pattern": {
              "fillmode": "overlay",
              "size": 10,
              "solidity": 0.2
             }
            },
            "type": "barpolar"
           }
          ],
          "carpet": [
           {
            "aaxis": {
             "endlinecolor": "#2a3f5f",
             "gridcolor": "white",
             "linecolor": "white",
             "minorgridcolor": "white",
             "startlinecolor": "#2a3f5f"
            },
            "baxis": {
             "endlinecolor": "#2a3f5f",
             "gridcolor": "white",
             "linecolor": "white",
             "minorgridcolor": "white",
             "startlinecolor": "#2a3f5f"
            },
            "type": "carpet"
           }
          ],
          "choropleth": [
           {
            "colorbar": {
             "outlinewidth": 0,
             "ticks": ""
            },
            "type": "choropleth"
           }
          ],
          "contour": [
           {
            "colorbar": {
             "outlinewidth": 0,
             "ticks": ""
            },
            "colorscale": [
             [
              0,
              "#0d0887"
             ],
             [
              0.1111111111111111,
              "#46039f"
             ],
             [
              0.2222222222222222,
              "#7201a8"
             ],
             [
              0.3333333333333333,
              "#9c179e"
             ],
             [
              0.4444444444444444,
              "#bd3786"
             ],
             [
              0.5555555555555556,
              "#d8576b"
             ],
             [
              0.6666666666666666,
              "#ed7953"
             ],
             [
              0.7777777777777778,
              "#fb9f3a"
             ],
             [
              0.8888888888888888,
              "#fdca26"
             ],
             [
              1,
              "#f0f921"
             ]
            ],
            "type": "contour"
           }
          ],
          "contourcarpet": [
           {
            "colorbar": {
             "outlinewidth": 0,
             "ticks": ""
            },
            "type": "contourcarpet"
           }
          ],
          "heatmap": [
           {
            "colorbar": {
             "outlinewidth": 0,
             "ticks": ""
            },
            "colorscale": [
             [
              0,
              "#0d0887"
             ],
             [
              0.1111111111111111,
              "#46039f"
             ],
             [
              0.2222222222222222,
              "#7201a8"
             ],
             [
              0.3333333333333333,
              "#9c179e"
             ],
             [
              0.4444444444444444,
              "#bd3786"
             ],
             [
              0.5555555555555556,
              "#d8576b"
             ],
             [
              0.6666666666666666,
              "#ed7953"
             ],
             [
              0.7777777777777778,
              "#fb9f3a"
             ],
             [
              0.8888888888888888,
              "#fdca26"
             ],
             [
              1,
              "#f0f921"
             ]
            ],
            "type": "heatmap"
           }
          ],
          "heatmapgl": [
           {
            "colorbar": {
             "outlinewidth": 0,
             "ticks": ""
            },
            "colorscale": [
             [
              0,
              "#0d0887"
             ],
             [
              0.1111111111111111,
              "#46039f"
             ],
             [
              0.2222222222222222,
              "#7201a8"
             ],
             [
              0.3333333333333333,
              "#9c179e"
             ],
             [
              0.4444444444444444,
              "#bd3786"
             ],
             [
              0.5555555555555556,
              "#d8576b"
             ],
             [
              0.6666666666666666,
              "#ed7953"
             ],
             [
              0.7777777777777778,
              "#fb9f3a"
             ],
             [
              0.8888888888888888,
              "#fdca26"
             ],
             [
              1,
              "#f0f921"
             ]
            ],
            "type": "heatmapgl"
           }
          ],
          "histogram": [
           {
            "marker": {
             "pattern": {
              "fillmode": "overlay",
              "size": 10,
              "solidity": 0.2
             }
            },
            "type": "histogram"
           }
          ],
          "histogram2d": [
           {
            "colorbar": {
             "outlinewidth": 0,
             "ticks": ""
            },
            "colorscale": [
             [
              0,
              "#0d0887"
             ],
             [
              0.1111111111111111,
              "#46039f"
             ],
             [
              0.2222222222222222,
              "#7201a8"
             ],
             [
              0.3333333333333333,
              "#9c179e"
             ],
             [
              0.4444444444444444,
              "#bd3786"
             ],
             [
              0.5555555555555556,
              "#d8576b"
             ],
             [
              0.6666666666666666,
              "#ed7953"
             ],
             [
              0.7777777777777778,
              "#fb9f3a"
             ],
             [
              0.8888888888888888,
              "#fdca26"
             ],
             [
              1,
              "#f0f921"
             ]
            ],
            "type": "histogram2d"
           }
          ],
          "histogram2dcontour": [
           {
            "colorbar": {
             "outlinewidth": 0,
             "ticks": ""
            },
            "colorscale": [
             [
              0,
              "#0d0887"
             ],
             [
              0.1111111111111111,
              "#46039f"
             ],
             [
              0.2222222222222222,
              "#7201a8"
             ],
             [
              0.3333333333333333,
              "#9c179e"
             ],
             [
              0.4444444444444444,
              "#bd3786"
             ],
             [
              0.5555555555555556,
              "#d8576b"
             ],
             [
              0.6666666666666666,
              "#ed7953"
             ],
             [
              0.7777777777777778,
              "#fb9f3a"
             ],
             [
              0.8888888888888888,
              "#fdca26"
             ],
             [
              1,
              "#f0f921"
             ]
            ],
            "type": "histogram2dcontour"
           }
          ],
          "mesh3d": [
           {
            "colorbar": {
             "outlinewidth": 0,
             "ticks": ""
            },
            "type": "mesh3d"
           }
          ],
          "parcoords": [
           {
            "line": {
             "colorbar": {
              "outlinewidth": 0,
              "ticks": ""
             }
            },
            "type": "parcoords"
           }
          ],
          "pie": [
           {
            "automargin": true,
            "type": "pie"
           }
          ],
          "scatter": [
           {
            "marker": {
             "colorbar": {
              "outlinewidth": 0,
              "ticks": ""
             }
            },
            "type": "scatter"
           }
          ],
          "scatter3d": [
           {
            "line": {
             "colorbar": {
              "outlinewidth": 0,
              "ticks": ""
             }
            },
            "marker": {
             "colorbar": {
              "outlinewidth": 0,
              "ticks": ""
             }
            },
            "type": "scatter3d"
           }
          ],
          "scattercarpet": [
           {
            "marker": {
             "colorbar": {
              "outlinewidth": 0,
              "ticks": ""
             }
            },
            "type": "scattercarpet"
           }
          ],
          "scattergeo": [
           {
            "marker": {
             "colorbar": {
              "outlinewidth": 0,
              "ticks": ""
             }
            },
            "type": "scattergeo"
           }
          ],
          "scattergl": [
           {
            "marker": {
             "colorbar": {
              "outlinewidth": 0,
              "ticks": ""
             }
            },
            "type": "scattergl"
           }
          ],
          "scattermapbox": [
           {
            "marker": {
             "colorbar": {
              "outlinewidth": 0,
              "ticks": ""
             }
            },
            "type": "scattermapbox"
           }
          ],
          "scatterpolar": [
           {
            "marker": {
             "colorbar": {
              "outlinewidth": 0,
              "ticks": ""
             }
            },
            "type": "scatterpolar"
           }
          ],
          "scatterpolargl": [
           {
            "marker": {
             "colorbar": {
              "outlinewidth": 0,
              "ticks": ""
             }
            },
            "type": "scatterpolargl"
           }
          ],
          "scatterternary": [
           {
            "marker": {
             "colorbar": {
              "outlinewidth": 0,
              "ticks": ""
             }
            },
            "type": "scatterternary"
           }
          ],
          "surface": [
           {
            "colorbar": {
             "outlinewidth": 0,
             "ticks": ""
            },
            "colorscale": [
             [
              0,
              "#0d0887"
             ],
             [
              0.1111111111111111,
              "#46039f"
             ],
             [
              0.2222222222222222,
              "#7201a8"
             ],
             [
              0.3333333333333333,
              "#9c179e"
             ],
             [
              0.4444444444444444,
              "#bd3786"
             ],
             [
              0.5555555555555556,
              "#d8576b"
             ],
             [
              0.6666666666666666,
              "#ed7953"
             ],
             [
              0.7777777777777778,
              "#fb9f3a"
             ],
             [
              0.8888888888888888,
              "#fdca26"
             ],
             [
              1,
              "#f0f921"
             ]
            ],
            "type": "surface"
           }
          ],
          "table": [
           {
            "cells": {
             "fill": {
              "color": "#EBF0F8"
             },
             "line": {
              "color": "white"
             }
            },
            "header": {
             "fill": {
              "color": "#C8D4E3"
             },
             "line": {
              "color": "white"
             }
            },
            "type": "table"
           }
          ]
         },
         "layout": {
          "annotationdefaults": {
           "arrowcolor": "#2a3f5f",
           "arrowhead": 0,
           "arrowwidth": 1
          },
          "autotypenumbers": "strict",
          "coloraxis": {
           "colorbar": {
            "outlinewidth": 0,
            "ticks": ""
           }
          },
          "colorscale": {
           "diverging": [
            [
             0,
             "#8e0152"
            ],
            [
             0.1,
             "#c51b7d"
            ],
            [
             0.2,
             "#de77ae"
            ],
            [
             0.3,
             "#f1b6da"
            ],
            [
             0.4,
             "#fde0ef"
            ],
            [
             0.5,
             "#f7f7f7"
            ],
            [
             0.6,
             "#e6f5d0"
            ],
            [
             0.7,
             "#b8e186"
            ],
            [
             0.8,
             "#7fbc41"
            ],
            [
             0.9,
             "#4d9221"
            ],
            [
             1,
             "#276419"
            ]
           ],
           "sequential": [
            [
             0,
             "#0d0887"
            ],
            [
             0.1111111111111111,
             "#46039f"
            ],
            [
             0.2222222222222222,
             "#7201a8"
            ],
            [
             0.3333333333333333,
             "#9c179e"
            ],
            [
             0.4444444444444444,
             "#bd3786"
            ],
            [
             0.5555555555555556,
             "#d8576b"
            ],
            [
             0.6666666666666666,
             "#ed7953"
            ],
            [
             0.7777777777777778,
             "#fb9f3a"
            ],
            [
             0.8888888888888888,
             "#fdca26"
            ],
            [
             1,
             "#f0f921"
            ]
           ],
           "sequentialminus": [
            [
             0,
             "#0d0887"
            ],
            [
             0.1111111111111111,
             "#46039f"
            ],
            [
             0.2222222222222222,
             "#7201a8"
            ],
            [
             0.3333333333333333,
             "#9c179e"
            ],
            [
             0.4444444444444444,
             "#bd3786"
            ],
            [
             0.5555555555555556,
             "#d8576b"
            ],
            [
             0.6666666666666666,
             "#ed7953"
            ],
            [
             0.7777777777777778,
             "#fb9f3a"
            ],
            [
             0.8888888888888888,
             "#fdca26"
            ],
            [
             1,
             "#f0f921"
            ]
           ]
          },
          "colorway": [
           "#636efa",
           "#EF553B",
           "#00cc96",
           "#ab63fa",
           "#FFA15A",
           "#19d3f3",
           "#FF6692",
           "#B6E880",
           "#FF97FF",
           "#FECB52"
          ],
          "font": {
           "color": "#2a3f5f"
          },
          "geo": {
           "bgcolor": "white",
           "lakecolor": "white",
           "landcolor": "#E5ECF6",
           "showlakes": true,
           "showland": true,
           "subunitcolor": "white"
          },
          "hoverlabel": {
           "align": "left"
          },
          "hovermode": "closest",
          "mapbox": {
           "style": "light"
          },
          "paper_bgcolor": "white",
          "plot_bgcolor": "#E5ECF6",
          "polar": {
           "angularaxis": {
            "gridcolor": "white",
            "linecolor": "white",
            "ticks": ""
           },
           "bgcolor": "#E5ECF6",
           "radialaxis": {
            "gridcolor": "white",
            "linecolor": "white",
            "ticks": ""
           }
          },
          "scene": {
           "xaxis": {
            "backgroundcolor": "#E5ECF6",
            "gridcolor": "white",
            "gridwidth": 2,
            "linecolor": "white",
            "showbackground": true,
            "ticks": "",
            "zerolinecolor": "white"
           },
           "yaxis": {
            "backgroundcolor": "#E5ECF6",
            "gridcolor": "white",
            "gridwidth": 2,
            "linecolor": "white",
            "showbackground": true,
            "ticks": "",
            "zerolinecolor": "white"
           },
           "zaxis": {
            "backgroundcolor": "#E5ECF6",
            "gridcolor": "white",
            "gridwidth": 2,
            "linecolor": "white",
            "showbackground": true,
            "ticks": "",
            "zerolinecolor": "white"
           }
          },
          "shapedefaults": {
           "line": {
            "color": "#2a3f5f"
           }
          },
          "ternary": {
           "aaxis": {
            "gridcolor": "white",
            "linecolor": "white",
            "ticks": ""
           },
           "baxis": {
            "gridcolor": "white",
            "linecolor": "white",
            "ticks": ""
           },
           "bgcolor": "#E5ECF6",
           "caxis": {
            "gridcolor": "white",
            "linecolor": "white",
            "ticks": ""
           }
          },
          "title": {
           "x": 0.05
          },
          "xaxis": {
           "automargin": true,
           "gridcolor": "white",
           "linecolor": "white",
           "ticks": "",
           "title": {
            "standoff": 15
           },
           "zerolinecolor": "white",
           "zerolinewidth": 2
          },
          "yaxis": {
           "automargin": true,
           "gridcolor": "white",
           "linecolor": "white",
           "ticks": "",
           "title": {
            "standoff": 15
           },
           "zerolinecolor": "white",
           "zerolinewidth": 2
          }
         }
        },
        "xaxis": {
         "anchor": "y",
         "domain": [
          0,
          1
         ],
         "title": {
          "text": "field_of_study"
         }
        },
        "yaxis": {
         "anchor": "x",
         "domain": [
          0,
          1
         ],
         "title": {
          "text": "Your favorite programming language?"
         }
        }
       }
      },
      "text/html": [
       "<div>                            <div id=\"46733f70-36a3-4b02-898a-66e253f08093\" class=\"plotly-graph-div\" style=\"height:525px; width:100%;\"></div>            <script type=\"text/javascript\">                require([\"plotly\"], function(Plotly) {                    window.PLOTLYENV=window.PLOTLYENV || {};                                    if (document.getElementById(\"46733f70-36a3-4b02-898a-66e253f08093\")) {                    Plotly.newPlot(                        \"46733f70-36a3-4b02-898a-66e253f08093\",                        [{\"hovertemplate\":\"Do you wear glasses?=No<br>field_of_study=%{x}<br>Your favorite programming language?=%{y}<extra></extra>\",\"legendgroup\":\"No\",\"marker\":{\"color\":\"#636efa\",\"symbol\":\"circle\"},\"mode\":\"markers\",\"name\":\"No\",\"orientation\":\"v\",\"showlegend\":true,\"x\":[\"Natural Sciences\",\"CS/IT\",\"CS/IT\",\"CS/IT\",\"CS/IT\",\"Natural Sciences\",\"Natural Sciences\",\"CS/IT\",\"Others\",\"Enginnering\",\"CS/IT\",\"CS/IT\",\"Enginnering\",\"Enginnering\",\"Enginnering\",\"Enginnering\",\"Others\",\"Enginnering\",\"Biology\",\"Enginnering\",\"CS/IT\",\"Biology\",\"Enginnering\",\"Business/Economics\",\"Enginnering\",\"CS/IT\",\"Mathematics\",\"Enginnering\",\"Biology\",\"Software Eng.\",\"Enginnering\",\"CS/IT\",\"Enginnering\",\"CS/IT\",\"Mathematics\",\"Software Eng.\",\"Enginnering\",\"Software Eng.\",\"Enginnering\",\"CS/IT\",\"Software Eng.\",\"Enginnering\",\"Natural Sciences\",\"Business/Economics\",\"Natural Sciences\",\"CS/IT\",\"Enginnering\",\"CS/IT\",\"CS/IT\",\"Software Eng.\",\"CS/IT\",\"CS/IT\",\"Others\",\"Natural Sciences\",\"Enginnering\",\"Natural Sciences\",\"Enginnering\",\"Natural Sciences\",\"Natural Sciences\",\"Software Eng.\",\"CS/IT\",\"Enginnering\",\"CS/IT\",\"Enginnering\",\"Enginnering\",\"CS/IT\",\"Biology\",\"Natural Sciences\",\"Natural Sciences\",\"Natural Sciences\",\"CS/IT\",\"Enginnering\",\"CS/IT\",\"Enginnering\",\"Enginnering\",\"Enginnering\",\"Enginnering\",\"Natural Sciences\",\"Mathematics\",\"Enginnering\",\"Natural Sciences\",\"Others\",\"CS/IT\",\"Software Eng.\",\"Enginnering\",\"Enginnering\",\"Enginnering\",\"Natural Sciences\",\"CS/IT\",\"Mathematics\",\"CS/IT\",\"Mathematics\",\"Enginnering\",\"CS/IT\",\"Enginnering\",\"Enginnering\",\"Others\",\"CS/IT\",\"Business/Economics\",\"Others\",\"CS/IT\",\"Biology\",\"Natural Sciences\",\"Enginnering\",\"Software Eng.\",\"Enginnering\",\"Enginnering\",\"Natural Sciences\",\"CS/IT\",\"CS/IT\",\"Enginnering\",\"Biology\",\"Biology\",\"Software Eng.\",\"CS/IT\",\"Natural Sciences\",\"CS/IT\",\"Enginnering\",\"CS/IT\",\"Enginnering\",\"Natural Sciences\",\"Natural Sciences\",\"Enginnering\",\"CS/IT\",\"CS/IT\",\"Enginnering\",\"Business/Economics\",\"Enginnering\",\"Natural Sciences\",\"Others\",\"Enginnering\",\"CS/IT\",\"Enginnering\",\"Software Eng.\",\"CS/IT\",\"Natural Sciences\",\"Natural Sciences\",\"Mathematics\",\"Biology\",\"Enginnering\",\"Biology\",\"Enginnering\",\"Natural Sciences\",\"Software Eng.\",\"Biology\",\"Software Eng.\",\"Biology\",\"Biology\",\"Enginnering\",\"CS/IT\",\"CS/IT\",\"Business/Economics\",\"Enginnering\",\"Software Eng.\",\"CS/IT\",\"Natural Sciences\",\"CS/IT\",\"Business/Economics\",\"Enginnering\",\"CS/IT\",\"CS/IT\",\"Others\",\"CS/IT\",\"Others\",\"CS/IT\",\"Enginnering\",\"Biology\",\"CS/IT\",\"Natural Sciences\",\"CS/IT\",\"Natural Sciences\",\"Others\",\"CS/IT\",\"CS/IT\",\"Statistics\",\"Enginnering\",\"CS/IT\",\"Enginnering\",\"CS/IT\",\"Natural Sciences\",\"CS/IT\",\"Enginnering\",\"Others\",\"CS/IT\",\"CS/IT\",\"Enginnering\",\"Enginnering\",\"Natural Sciences\",\"Biology\",\"Mathematics\",\"Statistics\",\"Natural Sciences\",\"CS/IT\",\"Business/Economics\",\"Natural Sciences\",\"CS/IT\",\"CS/IT\",\"Biology\",\"Natural Sciences\",\"CS/IT\",\"Natural Sciences\",\"CS/IT\",\"Natural Sciences\",\"Enginnering\",\"CS/IT\",\"Natural Sciences\",\"Others\",\"Enginnering\",\"Natural Sciences\",\"Enginnering\",\"Natural Sciences\",\"CS/IT\",\"Enginnering\",\"Business/Economics\",\"CS/IT\",\"CS/IT\",\"Mathematics\",\"CS/IT\",\"Enginnering\",\"Business/Economics\",\"Biology\",\"Enginnering\",\"Enginnering\",\"CS/IT\",\"CS/IT\",\"Natural Sciences\",\"Enginnering\",\"Enginnering\",\"CS/IT\",\"CS/IT\",\"Natural Sciences\",\"CS/IT\",\"Natural Sciences\",\"Business/Economics\",\"CS/IT\",\"CS/IT\",\"Enginnering\",\"Others\",\"Mathematics\",\"CS/IT\",\"CS/IT\",\"Enginnering\"],\"xaxis\":\"x\",\"y\":[\"Python\",\"Python\",\"Python\",\"Python\",\"Python\",\"Python\",\"Python\",\"Python\",\"Python\",\"Python\",\"Python\",\"Python\",\"Python\",\"Python\",\"Python\",\"Python\",\"Python\",\"Python\",\"Python\",\"Python\",\"Python\",\"Python\",\"Python\",\"Python\",\"Python\",\"Python\",\"C++\",\"Python\",\"R\",\"Python\",\"Python\",\"Python\",\"Python\",\"Python\",\"Python\",\"Others\",\"Python\",\"Others\",\"C++\",\"C++\",\"Python\",\"Others\",\"Python\",\"Python\",\"SQL\",\"Python\",\"Python\",\"Python\",\"Python\",\"Python\",\"Python\",\"Python\",\"Python\",\"Python\",\"Python\",\"Python\",\"Python\",\"Python\",\"Python\",\"Python\",\"Python\",\"Python\",\"Python\",\"Python\",\"Python\",\"Python\",\"Python\",\"Python\",\"Python\",\"Python\",\"Python\",\"Python\",\"Python\",\"Python\",\"Python\",\"Python\",\"Python\",\"Others\",\"Python\",\"Python\",\"Python\",\"Python\",\"Python\",\"Python\",\"C++\",\"Python\",\"Python\",\"Python\",\"Python\",\"Python\",\"Python\",\"Python\",\"Python\",\"Python\",\"Python\",\"Python\",\"Python\",\"Python\",\"Python\",\"Others\",\"Python\",\"Python\",\"Python\",\"Python\",\"Python\",\"Python\",\"Python\",\"Julia\",\"Python\",\"Python\",\"Python\",\"Python\",\"Python\",\"Python\",\"Python\",\"Python\",\"Others\",\"Python\",\"Python\",\"Python\",\"C++\",\"Python\",\"Python\",\"Python\",\"Python\",\"Python\",\"Python\",\"Python\",\"Python\",\"C#\",\"Python\",\"SQL\",\"Python\",\"Others\",\"Python\",\"Python\",\"Python\",\"Python\",\"Python\",\"Python\",\"Python\",\"Python\",\"Python\",\"Python\",\"Python\",\"Python\",\"Python\",\"Python\",\"Python\",\"C#\",\"Python\",\"Python\",\"Python\",\"Python\",\"Python\",\"Python\",\"Python\",\"Python\",\"Others\",\"Python\",\"Python\",\"Python\",\"Python\",\"Python\",\"Python\",\"Python\",\"Python\",\"Python\",\"Python\",\"Python\",\"Python\",\"Python\",\"Python\",\"Python\",\"Python\",\"Python\",\"Python\",\"Javascript\",\"Others\",\"Python\",\"Python\",\"Python\",\"Python\",\"Python\",\"Python\",\"Python\",\"Python\",\"Python\",\"Python\",\"Python\",\"Python\",\"Python\",\"Python\",\"Python\",\"Python\",\"Python\",\"Python\",\"Python\",\"Python\",\"Others\",\"Python\",\"Python\",\"Python\",\"Python\",\"Python\",\"Python\",\"Python\",\"C++\",\"Python\",\"Python\",\"Python\",\"Python\",\"Python\",\"Python\",\"Python\",\"Python\",\"Python\",\"Python\",\"C#\",\"Python\",\"Python\",\"Python\",\"Python\",\"Python\",\"C#\",\"Python\",\"Python\",\"Python\",\"SQL\",\"C++\",\"Python\",\"Python\",\"Python\",\"Python\",\"Python\",\"Javascript\",\"Python\",\"Python\",\"Python\",\"Python\",\"Python\",\"Python\"],\"yaxis\":\"y\",\"type\":\"scatter\"},{\"hovertemplate\":\"Do you wear glasses?=Yes<br>field_of_study=%{x}<br>Your favorite programming language?=%{y}<extra></extra>\",\"legendgroup\":\"Yes\",\"marker\":{\"color\":\"#EF553B\",\"symbol\":\"circle\"},\"mode\":\"markers\",\"name\":\"Yes\",\"orientation\":\"v\",\"showlegend\":true,\"x\":[\"Enginnering\",\"Enginnering\",\"Others\",\"Enginnering\",\"Biology\",\"Enginnering\",\"Enginnering\",\"Biology\",\"Natural Sciences\",\"Enginnering\",\"Enginnering\",\"Others\",\"Enginnering\",\"Enginnering\",\"Enginnering\",\"Enginnering\",\"Enginnering\",\"Enginnering\",\"CS/IT\",\"Biology\",\"Enginnering\",\"Software Eng.\",\"CS/IT\",\"Biology\",\"Others\",\"CS/IT\",\"Natural Sciences\",\"Enginnering\",\"CS/IT\",\"Enginnering\",\"Natural Sciences\",\"Enginnering\",\"Software Eng.\",\"Enginnering\",\"Biology\",\"Enginnering\",\"Enginnering\",\"Business/Economics\",\"Enginnering\",\"Biology\",\"Enginnering\",\"Enginnering\",\"Others\",\"CS/IT\",\"CS/IT\",\"Enginnering\",\"CS/IT\",\"Business/Economics\",\"Biology\",\"Mathematics\",\"Biology\",\"Enginnering\",\"Enginnering\",\"Enginnering\",\"Enginnering\",\"Biology\",\"Software Eng.\",\"CS/IT\",\"Natural Sciences\",\"Natural Sciences\",\"Enginnering\",\"Natural Sciences\",\"CS/IT\",\"Enginnering\",\"Software Eng.\",\"Enginnering\",\"CS/IT\",\"Natural Sciences\",\"CS/IT\",\"Enginnering\",\"CS/IT\",\"Natural Sciences\",\"CS/IT\",\"CS/IT\",\"Enginnering\",\"Biology\",\"CS/IT\",\"Software Eng.\",\"Business/Economics\",\"Others\",\"CS/IT\",\"Natural Sciences\",\"Enginnering\",\"Enginnering\",\"Natural Sciences\",\"CS/IT\",\"CS/IT\",\"Natural Sciences\",\"Enginnering\",\"Enginnering\",\"Natural Sciences\",\"Business/Economics\",\"Biology\",\"Software Eng.\",\"CS/IT\",\"CS/IT\",\"Others\",\"Enginnering\",\"Others\",\"Biology\",\"CS/IT\",\"Enginnering\",\"Enginnering\",\"Business/Economics\",\"CS/IT\",\"Biology\",\"CS/IT\",\"CS/IT\",\"Others\",\"Business/Economics\",\"Natural Sciences\",\"CS/IT\",\"CS/IT\",\"Natural Sciences\",\"Business/Economics\",\"Biology\",\"CS/IT\",\"Software Eng.\",\"Natural Sciences\",\"Business/Economics\",\"Enginnering\",\"Enginnering\",\"CS/IT\",\"Biology\",\"Business/Economics\",\"CS/IT\",\"Business/Economics\",\"Enginnering\",\"Software Eng.\",\"Enginnering\",\"Enginnering\",\"Enginnering\",\"Mathematics\"],\"xaxis\":\"x\",\"y\":[\"Python\",\"Javascript\",\"Javascript\",\"Python\",\"Python\",\"C++\",\"Python\",\"Python\",\"Python\",\"Python\",\"Python\",\"Python\",\"Python\",\"Python\",\"Python\",\"Python\",\"Python\",\"Python\",\"Python\",\"Python\",\"C++\",\"Javascript\",\"Python\",\"Python\",\"Python\",\"Python\",\"Python\",\"C++\",\"Python\",\"Python\",\"Others\",\"C++\",\"Javascript\",\"Python\",\"Python\",\"C++\",\"Python\",\"Python\",\"Javascript\",\"Python\",\"Python\",\"Python\",\"Python\",\"Others\",\"Python\",\"Python\",\"Python\",\"Python\",\"Python\",\"Python\",\"Python\",\"Python\",\"Python\",\"R\",\"Python\",\"Python\",\"Python\",\"Python\",\"Python\",\"Python\",\"R\",\"Python\",\"Python\",\"Python\",\"Python\",\"Python\",\"Python\",\"Python\",\"Python\",\"Python\",\"Python\",\"Python\",\"C++\",\"Python\",\"Python\",\"Python\",\"Python\",\"Python\",\"Python\",\"Python\",\"Python\",\"Python\",\"Python\",\"Python\",\"Python\",\"Python\",\"Python\",\"Python\",\"Python\",\"Python\",\"Python\",\"Python\",\"R\",\"Python\",\"Python\",\"Python\",\"Python\",\"Python\",\"Python\",\"Python\",\"Python\",\"Others\",\"Others\",\"Others\",\"Python\",\"Python\",\"Javascript\",\"Python\",\"Python\",\"Python\",\"Python\",\"Python\",\"Python\",\"Python\",\"Python\",\"Python\",\"Python\",\"C#\",\"Python\",\"Python\",\"Python\",\"Python\",\"C#\",\"Python\",\"Python\",\"Python\",\"Python\",\"Python\",\"Javascript\",\"Python\",\"R\",\"Python\",\"Python\"],\"yaxis\":\"y\",\"type\":\"scatter\"}],                        {\"template\":{\"data\":{\"bar\":[{\"error_x\":{\"color\":\"#2a3f5f\"},\"error_y\":{\"color\":\"#2a3f5f\"},\"marker\":{\"line\":{\"color\":\"#E5ECF6\",\"width\":0.5},\"pattern\":{\"fillmode\":\"overlay\",\"size\":10,\"solidity\":0.2}},\"type\":\"bar\"}],\"barpolar\":[{\"marker\":{\"line\":{\"color\":\"#E5ECF6\",\"width\":0.5},\"pattern\":{\"fillmode\":\"overlay\",\"size\":10,\"solidity\":0.2}},\"type\":\"barpolar\"}],\"carpet\":[{\"aaxis\":{\"endlinecolor\":\"#2a3f5f\",\"gridcolor\":\"white\",\"linecolor\":\"white\",\"minorgridcolor\":\"white\",\"startlinecolor\":\"#2a3f5f\"},\"baxis\":{\"endlinecolor\":\"#2a3f5f\",\"gridcolor\":\"white\",\"linecolor\":\"white\",\"minorgridcolor\":\"white\",\"startlinecolor\":\"#2a3f5f\"},\"type\":\"carpet\"}],\"choropleth\":[{\"colorbar\":{\"outlinewidth\":0,\"ticks\":\"\"},\"type\":\"choropleth\"}],\"contour\":[{\"colorbar\":{\"outlinewidth\":0,\"ticks\":\"\"},\"colorscale\":[[0.0,\"#0d0887\"],[0.1111111111111111,\"#46039f\"],[0.2222222222222222,\"#7201a8\"],[0.3333333333333333,\"#9c179e\"],[0.4444444444444444,\"#bd3786\"],[0.5555555555555556,\"#d8576b\"],[0.6666666666666666,\"#ed7953\"],[0.7777777777777778,\"#fb9f3a\"],[0.8888888888888888,\"#fdca26\"],[1.0,\"#f0f921\"]],\"type\":\"contour\"}],\"contourcarpet\":[{\"colorbar\":{\"outlinewidth\":0,\"ticks\":\"\"},\"type\":\"contourcarpet\"}],\"heatmap\":[{\"colorbar\":{\"outlinewidth\":0,\"ticks\":\"\"},\"colorscale\":[[0.0,\"#0d0887\"],[0.1111111111111111,\"#46039f\"],[0.2222222222222222,\"#7201a8\"],[0.3333333333333333,\"#9c179e\"],[0.4444444444444444,\"#bd3786\"],[0.5555555555555556,\"#d8576b\"],[0.6666666666666666,\"#ed7953\"],[0.7777777777777778,\"#fb9f3a\"],[0.8888888888888888,\"#fdca26\"],[1.0,\"#f0f921\"]],\"type\":\"heatmap\"}],\"heatmapgl\":[{\"colorbar\":{\"outlinewidth\":0,\"ticks\":\"\"},\"colorscale\":[[0.0,\"#0d0887\"],[0.1111111111111111,\"#46039f\"],[0.2222222222222222,\"#7201a8\"],[0.3333333333333333,\"#9c179e\"],[0.4444444444444444,\"#bd3786\"],[0.5555555555555556,\"#d8576b\"],[0.6666666666666666,\"#ed7953\"],[0.7777777777777778,\"#fb9f3a\"],[0.8888888888888888,\"#fdca26\"],[1.0,\"#f0f921\"]],\"type\":\"heatmapgl\"}],\"histogram\":[{\"marker\":{\"pattern\":{\"fillmode\":\"overlay\",\"size\":10,\"solidity\":0.2}},\"type\":\"histogram\"}],\"histogram2d\":[{\"colorbar\":{\"outlinewidth\":0,\"ticks\":\"\"},\"colorscale\":[[0.0,\"#0d0887\"],[0.1111111111111111,\"#46039f\"],[0.2222222222222222,\"#7201a8\"],[0.3333333333333333,\"#9c179e\"],[0.4444444444444444,\"#bd3786\"],[0.5555555555555556,\"#d8576b\"],[0.6666666666666666,\"#ed7953\"],[0.7777777777777778,\"#fb9f3a\"],[0.8888888888888888,\"#fdca26\"],[1.0,\"#f0f921\"]],\"type\":\"histogram2d\"}],\"histogram2dcontour\":[{\"colorbar\":{\"outlinewidth\":0,\"ticks\":\"\"},\"colorscale\":[[0.0,\"#0d0887\"],[0.1111111111111111,\"#46039f\"],[0.2222222222222222,\"#7201a8\"],[0.3333333333333333,\"#9c179e\"],[0.4444444444444444,\"#bd3786\"],[0.5555555555555556,\"#d8576b\"],[0.6666666666666666,\"#ed7953\"],[0.7777777777777778,\"#fb9f3a\"],[0.8888888888888888,\"#fdca26\"],[1.0,\"#f0f921\"]],\"type\":\"histogram2dcontour\"}],\"mesh3d\":[{\"colorbar\":{\"outlinewidth\":0,\"ticks\":\"\"},\"type\":\"mesh3d\"}],\"parcoords\":[{\"line\":{\"colorbar\":{\"outlinewidth\":0,\"ticks\":\"\"}},\"type\":\"parcoords\"}],\"pie\":[{\"automargin\":true,\"type\":\"pie\"}],\"scatter\":[{\"marker\":{\"colorbar\":{\"outlinewidth\":0,\"ticks\":\"\"}},\"type\":\"scatter\"}],\"scatter3d\":[{\"line\":{\"colorbar\":{\"outlinewidth\":0,\"ticks\":\"\"}},\"marker\":{\"colorbar\":{\"outlinewidth\":0,\"ticks\":\"\"}},\"type\":\"scatter3d\"}],\"scattercarpet\":[{\"marker\":{\"colorbar\":{\"outlinewidth\":0,\"ticks\":\"\"}},\"type\":\"scattercarpet\"}],\"scattergeo\":[{\"marker\":{\"colorbar\":{\"outlinewidth\":0,\"ticks\":\"\"}},\"type\":\"scattergeo\"}],\"scattergl\":[{\"marker\":{\"colorbar\":{\"outlinewidth\":0,\"ticks\":\"\"}},\"type\":\"scattergl\"}],\"scattermapbox\":[{\"marker\":{\"colorbar\":{\"outlinewidth\":0,\"ticks\":\"\"}},\"type\":\"scattermapbox\"}],\"scatterpolar\":[{\"marker\":{\"colorbar\":{\"outlinewidth\":0,\"ticks\":\"\"}},\"type\":\"scatterpolar\"}],\"scatterpolargl\":[{\"marker\":{\"colorbar\":{\"outlinewidth\":0,\"ticks\":\"\"}},\"type\":\"scatterpolargl\"}],\"scatterternary\":[{\"marker\":{\"colorbar\":{\"outlinewidth\":0,\"ticks\":\"\"}},\"type\":\"scatterternary\"}],\"surface\":[{\"colorbar\":{\"outlinewidth\":0,\"ticks\":\"\"},\"colorscale\":[[0.0,\"#0d0887\"],[0.1111111111111111,\"#46039f\"],[0.2222222222222222,\"#7201a8\"],[0.3333333333333333,\"#9c179e\"],[0.4444444444444444,\"#bd3786\"],[0.5555555555555556,\"#d8576b\"],[0.6666666666666666,\"#ed7953\"],[0.7777777777777778,\"#fb9f3a\"],[0.8888888888888888,\"#fdca26\"],[1.0,\"#f0f921\"]],\"type\":\"surface\"}],\"table\":[{\"cells\":{\"fill\":{\"color\":\"#EBF0F8\"},\"line\":{\"color\":\"white\"}},\"header\":{\"fill\":{\"color\":\"#C8D4E3\"},\"line\":{\"color\":\"white\"}},\"type\":\"table\"}]},\"layout\":{\"annotationdefaults\":{\"arrowcolor\":\"#2a3f5f\",\"arrowhead\":0,\"arrowwidth\":1},\"autotypenumbers\":\"strict\",\"coloraxis\":{\"colorbar\":{\"outlinewidth\":0,\"ticks\":\"\"}},\"colorscale\":{\"diverging\":[[0,\"#8e0152\"],[0.1,\"#c51b7d\"],[0.2,\"#de77ae\"],[0.3,\"#f1b6da\"],[0.4,\"#fde0ef\"],[0.5,\"#f7f7f7\"],[0.6,\"#e6f5d0\"],[0.7,\"#b8e186\"],[0.8,\"#7fbc41\"],[0.9,\"#4d9221\"],[1,\"#276419\"]],\"sequential\":[[0.0,\"#0d0887\"],[0.1111111111111111,\"#46039f\"],[0.2222222222222222,\"#7201a8\"],[0.3333333333333333,\"#9c179e\"],[0.4444444444444444,\"#bd3786\"],[0.5555555555555556,\"#d8576b\"],[0.6666666666666666,\"#ed7953\"],[0.7777777777777778,\"#fb9f3a\"],[0.8888888888888888,\"#fdca26\"],[1.0,\"#f0f921\"]],\"sequentialminus\":[[0.0,\"#0d0887\"],[0.1111111111111111,\"#46039f\"],[0.2222222222222222,\"#7201a8\"],[0.3333333333333333,\"#9c179e\"],[0.4444444444444444,\"#bd3786\"],[0.5555555555555556,\"#d8576b\"],[0.6666666666666666,\"#ed7953\"],[0.7777777777777778,\"#fb9f3a\"],[0.8888888888888888,\"#fdca26\"],[1.0,\"#f0f921\"]]},\"colorway\":[\"#636efa\",\"#EF553B\",\"#00cc96\",\"#ab63fa\",\"#FFA15A\",\"#19d3f3\",\"#FF6692\",\"#B6E880\",\"#FF97FF\",\"#FECB52\"],\"font\":{\"color\":\"#2a3f5f\"},\"geo\":{\"bgcolor\":\"white\",\"lakecolor\":\"white\",\"landcolor\":\"#E5ECF6\",\"showlakes\":true,\"showland\":true,\"subunitcolor\":\"white\"},\"hoverlabel\":{\"align\":\"left\"},\"hovermode\":\"closest\",\"mapbox\":{\"style\":\"light\"},\"paper_bgcolor\":\"white\",\"plot_bgcolor\":\"#E5ECF6\",\"polar\":{\"angularaxis\":{\"gridcolor\":\"white\",\"linecolor\":\"white\",\"ticks\":\"\"},\"bgcolor\":\"#E5ECF6\",\"radialaxis\":{\"gridcolor\":\"white\",\"linecolor\":\"white\",\"ticks\":\"\"}},\"scene\":{\"xaxis\":{\"backgroundcolor\":\"#E5ECF6\",\"gridcolor\":\"white\",\"gridwidth\":2,\"linecolor\":\"white\",\"showbackground\":true,\"ticks\":\"\",\"zerolinecolor\":\"white\"},\"yaxis\":{\"backgroundcolor\":\"#E5ECF6\",\"gridcolor\":\"white\",\"gridwidth\":2,\"linecolor\":\"white\",\"showbackground\":true,\"ticks\":\"\",\"zerolinecolor\":\"white\"},\"zaxis\":{\"backgroundcolor\":\"#E5ECF6\",\"gridcolor\":\"white\",\"gridwidth\":2,\"linecolor\":\"white\",\"showbackground\":true,\"ticks\":\"\",\"zerolinecolor\":\"white\"}},\"shapedefaults\":{\"line\":{\"color\":\"#2a3f5f\"}},\"ternary\":{\"aaxis\":{\"gridcolor\":\"white\",\"linecolor\":\"white\",\"ticks\":\"\"},\"baxis\":{\"gridcolor\":\"white\",\"linecolor\":\"white\",\"ticks\":\"\"},\"bgcolor\":\"#E5ECF6\",\"caxis\":{\"gridcolor\":\"white\",\"linecolor\":\"white\",\"ticks\":\"\"}},\"title\":{\"x\":0.05},\"xaxis\":{\"automargin\":true,\"gridcolor\":\"white\",\"linecolor\":\"white\",\"ticks\":\"\",\"title\":{\"standoff\":15},\"zerolinecolor\":\"white\",\"zerolinewidth\":2},\"yaxis\":{\"automargin\":true,\"gridcolor\":\"white\",\"linecolor\":\"white\",\"ticks\":\"\",\"title\":{\"standoff\":15},\"zerolinecolor\":\"white\",\"zerolinewidth\":2}}},\"xaxis\":{\"anchor\":\"y\",\"domain\":[0.0,1.0],\"title\":{\"text\":\"field_of_study\"}},\"yaxis\":{\"anchor\":\"x\",\"domain\":[0.0,1.0],\"title\":{\"text\":\"Your favorite programming language?\"}},\"legend\":{\"title\":{\"text\":\"Do you wear glasses?\"},\"tracegroupgap\":0},\"margin\":{\"t\":60}},                        {\"responsive\": true}                    ).then(function(){\n",
       "                            \n",
       "var gd = document.getElementById('46733f70-36a3-4b02-898a-66e253f08093');\n",
       "var x = new MutationObserver(function (mutations, observer) {{\n",
       "        var display = window.getComputedStyle(gd).display;\n",
       "        if (!display || display === 'none') {{\n",
       "            console.log([gd, 'removed!']);\n",
       "            Plotly.purge(gd);\n",
       "            observer.disconnect();\n",
       "        }}\n",
       "}});\n",
       "\n",
       "// Listen for the removal of the full notebook cells\n",
       "var notebookContainer = gd.closest('#notebook-container');\n",
       "if (notebookContainer) {{\n",
       "    x.observe(notebookContainer, {childList: true});\n",
       "}}\n",
       "\n",
       "// Listen for the clearing of the current output cell\n",
       "var outputEl = gd.closest('.output');\n",
       "if (outputEl) {{\n",
       "    x.observe(outputEl, {childList: true});\n",
       "}}\n",
       "\n",
       "                        })                };                });            </script>        </div>"
      ]
     },
     "metadata": {},
     "output_type": "display_data"
    }
   ],
   "source": [
    "df = px.data.gapminder()\n",
    "fig = px.scatter(d, x=\"field_of_study\", y=\"Your favorite programming language?\", color=\"Do you wear glasses?\"\n",
    "          )\n",
    "fig.show()"
   ]
  },
  {
   "cell_type": "code",
   "execution_count": null,
   "id": "553de01d",
   "metadata": {},
   "outputs": [],
   "source": []
  }
 ],
 "metadata": {
  "kernelspec": {
   "display_name": "Python 3 (ipykernel)",
   "language": "python",
   "name": "python3"
  },
  "language_info": {
   "codemirror_mode": {
    "name": "ipython",
    "version": 3
   },
   "file_extension": ".py",
   "mimetype": "text/x-python",
   "name": "python",
   "nbconvert_exporter": "python",
   "pygments_lexer": "ipython3",
   "version": "3.9.12"
  }
 },
 "nbformat": 4,
 "nbformat_minor": 5
}
