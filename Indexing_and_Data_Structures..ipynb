{
 "cells": [
  {
   "cell_type": "markdown",
   "id": "57249f28",
   "metadata": {},
   "source": [
    "# Indexing :-"
   ]
  },
  {
   "cell_type": "markdown",
   "id": "38d9df00",
   "metadata": {},
   "source": [
    "### Making strings:-"
   ]
  },
  {
   "cell_type": "code",
   "execution_count": 1,
   "id": "2fa1eac1",
   "metadata": {},
   "outputs": [
    {
     "data": {
      "text/plain": [
       "'when the sky turn to grey'"
      ]
     },
     "execution_count": 1,
     "metadata": {},
     "output_type": "execute_result"
    }
   ],
   "source": [
    "a = \"when the sky turn to grey\"\n",
    "a"
   ]
  },
  {
   "cell_type": "markdown",
   "id": "95ca787f",
   "metadata": {},
   "source": [
    "**- lenght of string:-**"
   ]
  },
  {
   "cell_type": "code",
   "execution_count": 2,
   "id": "b5cc6e68",
   "metadata": {
    "scrolled": true
   },
   "outputs": [
    {
     "data": {
      "text/plain": [
       "25"
      ]
     },
     "execution_count": 2,
     "metadata": {},
     "output_type": "execute_result"
    }
   ],
   "source": [
    "len(a)"
   ]
  },
  {
   "cell_type": "code",
   "execution_count": 3,
   "id": "a17d1f18",
   "metadata": {},
   "outputs": [
    {
     "data": {
      "text/plain": [
       "'e'"
      ]
     },
     "execution_count": 3,
     "metadata": {},
     "output_type": "execute_result"
    }
   ],
   "source": [
    "a[2]"
   ]
  },
  {
   "cell_type": "code",
   "execution_count": 4,
   "id": "3112cac4",
   "metadata": {
    "scrolled": true
   },
   "outputs": [
    {
     "data": {
      "text/plain": [
       "'the sky turn to'"
      ]
     },
     "execution_count": 4,
     "metadata": {},
     "output_type": "execute_result"
    }
   ],
   "source": [
    "a[5:20]"
   ]
  },
  {
   "cell_type": "markdown",
   "id": "08fed23b",
   "metadata": {},
   "source": [
    "**Last index is exclusive one:**\n",
    "- if we write a[25]  it will give an error although total index is 25 but index will start from 0 to 24 (total 25)"
   ]
  },
  {
   "cell_type": "code",
   "execution_count": 5,
   "id": "a62d8b9a",
   "metadata": {},
   "outputs": [
    {
     "data": {
      "text/plain": [
       "'r'"
      ]
     },
     "execution_count": 5,
     "metadata": {},
     "output_type": "execute_result"
    }
   ],
   "source": [
    "a[-3]"
   ]
  },
  {
   "cell_type": "code",
   "execution_count": 6,
   "id": "fdf12e54",
   "metadata": {},
   "outputs": [
    {
     "data": {
      "text/plain": [
       "'when the sky turn to grey'"
      ]
     },
     "execution_count": 6,
     "metadata": {},
     "output_type": "execute_result"
    }
   ],
   "source": [
    "a"
   ]
  },
  {
   "cell_type": "code",
   "execution_count": 7,
   "id": "51de8650",
   "metadata": {},
   "outputs": [
    {
     "data": {
      "text/plain": [
       "'hen the sky turn to grey'"
      ]
     },
     "execution_count": 7,
     "metadata": {},
     "output_type": "execute_result"
    }
   ],
   "source": [
    "a[-24:25]"
   ]
  },
  {
   "cell_type": "code",
   "execution_count": 8,
   "id": "9a9fc9f9",
   "metadata": {},
   "outputs": [
    {
     "data": {
      "text/plain": [
       "' to'"
      ]
     },
     "execution_count": 8,
     "metadata": {},
     "output_type": "execute_result"
    }
   ],
   "source": [
    "a[-8:20]"
   ]
  },
  {
   "cell_type": "markdown",
   "id": "baedf260",
   "metadata": {},
   "source": [
    "## String Methods :-"
   ]
  },
  {
   "cell_type": "code",
   "execution_count": 9,
   "id": "80c16121",
   "metadata": {},
   "outputs": [
    {
     "data": {
      "text/plain": [
       "'At the end of the day I choose you.'"
      ]
     },
     "execution_count": 9,
     "metadata": {},
     "output_type": "execute_result"
    }
   ],
   "source": [
    "song = \"At the end of the day I choose you.\"\n",
    "song"
   ]
  },
  {
   "cell_type": "code",
   "execution_count": 10,
   "id": "a67cd919",
   "metadata": {},
   "outputs": [
    {
     "data": {
      "text/plain": [
       "35"
      ]
     },
     "execution_count": 10,
     "metadata": {},
     "output_type": "execute_result"
    }
   ],
   "source": [
    "len(song)"
   ]
  },
  {
   "cell_type": "code",
   "execution_count": 11,
   "id": "36be1141",
   "metadata": {},
   "outputs": [
    {
     "data": {
      "text/plain": [
       "'AT THE END OF THE DAY I CHOOSE YOU.'"
      ]
     },
     "execution_count": 11,
     "metadata": {},
     "output_type": "execute_result"
    }
   ],
   "source": [
    "# uppercase letters:\n",
    "song.upper()"
   ]
  },
  {
   "cell_type": "code",
   "execution_count": 12,
   "id": "53157743",
   "metadata": {},
   "outputs": [
    {
     "data": {
      "text/plain": [
       "'at the end of the day i choose you.'"
      ]
     },
     "execution_count": 12,
     "metadata": {},
     "output_type": "execute_result"
    }
   ],
   "source": [
    "#lowercase letters:\n",
    "song.lower()"
   ]
  },
  {
   "cell_type": "code",
   "execution_count": 13,
   "id": "76a26c48",
   "metadata": {},
   "outputs": [
    {
     "data": {
      "text/plain": [
       "'in the end of the day I choose you.'"
      ]
     },
     "execution_count": 13,
     "metadata": {},
     "output_type": "execute_result"
    }
   ],
   "source": [
    "# replace:\n",
    "song.replace(\"At\",\"in\")"
   ]
  },
  {
   "cell_type": "code",
   "execution_count": 14,
   "id": "eb98cb84",
   "metadata": {},
   "outputs": [
    {
     "data": {
      "text/plain": [
       "4"
      ]
     },
     "execution_count": 14,
     "metadata": {},
     "output_type": "execute_result"
    }
   ],
   "source": [
    "#counting a specific alphabet in stroing:\n",
    "song.count(\"e\")"
   ]
  },
  {
   "cell_type": "code",
   "execution_count": 15,
   "id": "f4ee4da6",
   "metadata": {},
   "outputs": [
    {
     "data": {
      "text/plain": [
       "4"
      ]
     },
     "execution_count": 15,
     "metadata": {},
     "output_type": "execute_result"
    }
   ],
   "source": [
    "song.count(\"o\")"
   ]
  },
  {
   "cell_type": "code",
   "execution_count": 16,
   "id": "c7de2faf",
   "metadata": {},
   "outputs": [
    {
     "data": {
      "text/plain": [
       "1"
      ]
     },
     "execution_count": 16,
     "metadata": {},
     "output_type": "execute_result"
    }
   ],
   "source": [
    "song.count(\"a\")"
   ]
  },
  {
   "cell_type": "code",
   "execution_count": 17,
   "id": "47f1acef",
   "metadata": {},
   "outputs": [
    {
     "data": {
      "text/plain": [
       "3"
      ]
     },
     "execution_count": 17,
     "metadata": {},
     "output_type": "execute_result"
    }
   ],
   "source": [
    "song.count(\"t\")"
   ]
  },
  {
   "cell_type": "markdown",
   "id": "7aa7920b",
   "metadata": {},
   "source": [
    "## Finding an index number in string:-"
   ]
  },
  {
   "cell_type": "code",
   "execution_count": 18,
   "id": "e8681978",
   "metadata": {},
   "outputs": [
    {
     "data": {
      "text/plain": [
       "'if i told you it will only gonna hurt.'"
      ]
     },
     "execution_count": 18,
     "metadata": {},
     "output_type": "execute_result"
    }
   ],
   "source": [
    "b = \"if i told you it will only gonna hurt.\"\n",
    "b"
   ]
  },
  {
   "cell_type": "code",
   "execution_count": 19,
   "id": "42299859",
   "metadata": {},
   "outputs": [
    {
     "data": {
      "text/plain": [
       "38"
      ]
     },
     "execution_count": 19,
     "metadata": {},
     "output_type": "execute_result"
    }
   ],
   "source": [
    "\n",
    "len(b)"
   ]
  },
  {
   "cell_type": "code",
   "execution_count": 20,
   "id": "d963c557",
   "metadata": {},
   "outputs": [
    {
     "data": {
      "text/plain": [
       "35"
      ]
     },
     "execution_count": 20,
     "metadata": {},
     "output_type": "execute_result"
    }
   ],
   "source": [
    "b.find(\"r\")"
   ]
  },
  {
   "cell_type": "code",
   "execution_count": 21,
   "id": "5aef91d6",
   "metadata": {},
   "outputs": [
    {
     "data": {
      "text/plain": [
       "37"
      ]
     },
     "execution_count": 21,
     "metadata": {},
     "output_type": "execute_result"
    }
   ],
   "source": [
    "b.find(\".\")"
   ]
  },
  {
   "cell_type": "code",
   "execution_count": 22,
   "id": "a30519de",
   "metadata": {},
   "outputs": [
    {
     "data": {
      "text/plain": [
       "1"
      ]
     },
     "execution_count": 22,
     "metadata": {},
     "output_type": "execute_result"
    }
   ],
   "source": [
    "b.find(\"f\")"
   ]
  },
  {
   "cell_type": "markdown",
   "id": "7067ec36",
   "metadata": {},
   "source": [
    "### How to split a string:-"
   ]
  },
  {
   "cell_type": "code",
   "execution_count": 23,
   "id": "15eb6cdb",
   "metadata": {},
   "outputs": [
    {
     "data": {
      "text/plain": [
       "'farwa,kalid,zarnab,sohaib,zakira,abdullah'"
      ]
     },
     "execution_count": 23,
     "metadata": {},
     "output_type": "execute_result"
    }
   ],
   "source": [
    "name = \"farwa,kalid,zarnab,sohaib,zakira,abdullah\"\n",
    "name"
   ]
  },
  {
   "cell_type": "code",
   "execution_count": 24,
   "id": "3a4ce4a3",
   "metadata": {},
   "outputs": [
    {
     "data": {
      "text/plain": [
       "['farwa', 'kalid', 'zarnab', 'sohaib', 'zakira', 'abdullah']"
      ]
     },
     "execution_count": 24,
     "metadata": {},
     "output_type": "execute_result"
    }
   ],
   "source": [
    "name.split(\",\")"
   ]
  },
  {
   "cell_type": "markdown",
   "id": "e333b043",
   "metadata": {},
   "source": [
    "# Basic data structure in python :- \n",
    "\n",
    "**1: Tuple**\n",
    "\n",
    "**2: List**\n",
    "\n",
    "**3: Dictionaries**\n",
    "\n",
    "**4: sets**"
   ]
  },
  {
   "cell_type": "markdown",
   "id": "83529fbf",
   "metadata": {},
   "source": [
    "## 1- Tuple:-\n",
    "- Order collection of elements.\n",
    "- Inclose in the  () round braces\n",
    "- Different type of elements can be stored.\n",
    "- Once an elemnets are stored can't be changed."
   ]
  },
  {
   "cell_type": "code",
   "execution_count": 25,
   "id": "3c005da5",
   "metadata": {},
   "outputs": [],
   "source": [
    "tup1 = (\"python\",8,0,\"jupyter\")"
   ]
  },
  {
   "cell_type": "code",
   "execution_count": 26,
   "id": "3e47ac29",
   "metadata": {},
   "outputs": [
    {
     "data": {
      "text/plain": [
       "('python', 8, 0, 'jupyter')"
      ]
     },
     "execution_count": 26,
     "metadata": {},
     "output_type": "execute_result"
    }
   ],
   "source": [
    "tup1"
   ]
  },
  {
   "cell_type": "markdown",
   "id": "a80bcbf6",
   "metadata": {},
   "source": [
    "**- Checking type of tuple:**"
   ]
  },
  {
   "cell_type": "code",
   "execution_count": 27,
   "id": "a74dd81c",
   "metadata": {},
   "outputs": [
    {
     "data": {
      "text/plain": [
       "tuple"
      ]
     },
     "execution_count": 27,
     "metadata": {},
     "output_type": "execute_result"
    }
   ],
   "source": [
    "type(tup1)"
   ]
  },
  {
   "cell_type": "markdown",
   "id": "646b2c3e",
   "metadata": {},
   "source": [
    "### - Indexing in tuple :"
   ]
  },
  {
   "cell_type": "code",
   "execution_count": 28,
   "id": "f66200a7",
   "metadata": {},
   "outputs": [
    {
     "data": {
      "text/plain": [
       "4"
      ]
     },
     "execution_count": 28,
     "metadata": {},
     "output_type": "execute_result"
    }
   ],
   "source": [
    "#count elements of tuple.\n",
    "len(tup1)"
   ]
  },
  {
   "cell_type": "code",
   "execution_count": 29,
   "id": "51f3ceb1",
   "metadata": {},
   "outputs": [
    {
     "data": {
      "text/plain": [
       "'python'"
      ]
     },
     "execution_count": 29,
     "metadata": {},
     "output_type": "execute_result"
    }
   ],
   "source": [
    "tup1[0]"
   ]
  },
  {
   "cell_type": "code",
   "execution_count": 30,
   "id": "bde3729c",
   "metadata": {},
   "outputs": [
    {
     "data": {
      "text/plain": [
       "(0, 'jupyter')"
      ]
     },
     "execution_count": 30,
     "metadata": {},
     "output_type": "execute_result"
    }
   ],
   "source": [
    "#last elements is exclusive tup1[4] will not run\n",
    "tup1[2:4]"
   ]
  },
  {
   "cell_type": "code",
   "execution_count": 31,
   "id": "4064e9b0",
   "metadata": {},
   "outputs": [
    {
     "data": {
      "text/plain": [
       "'jupyter'"
      ]
     },
     "execution_count": 31,
     "metadata": {},
     "output_type": "execute_result"
    }
   ],
   "source": [
    "tup1[3]"
   ]
  },
  {
   "cell_type": "code",
   "execution_count": 32,
   "id": "1200ae2d",
   "metadata": {},
   "outputs": [
    {
     "data": {
      "text/plain": [
       "('okay', 9, 78, 'kgf')"
      ]
     },
     "execution_count": 32,
     "metadata": {},
     "output_type": "execute_result"
    }
   ],
   "source": [
    "tup2 = (\"okay\",9,78,\"kgf\")\n",
    "tup2"
   ]
  },
  {
   "cell_type": "markdown",
   "id": "e1535fa2",
   "metadata": {},
   "source": [
    "**- Concatination of tuples:**"
   ]
  },
  {
   "cell_type": "code",
   "execution_count": 33,
   "id": "0c37a970",
   "metadata": {},
   "outputs": [
    {
     "data": {
      "text/plain": [
       "('python', 8, 0, 'jupyter', 'okay', 9, 78, 'kgf')"
      ]
     },
     "execution_count": 33,
     "metadata": {},
     "output_type": "execute_result"
    }
   ],
   "source": [
    "tup1 +tup2"
   ]
  },
  {
   "cell_type": "code",
   "execution_count": 34,
   "id": "6d5e340e",
   "metadata": {},
   "outputs": [
    {
     "data": {
      "text/plain": [
       "('okay', 9, 78, 'kgf', 'python', 8, 0, 'jupyter')"
      ]
     },
     "execution_count": 34,
     "metadata": {},
     "output_type": "execute_result"
    }
   ],
   "source": [
    "tup2 + tup1"
   ]
  },
  {
   "cell_type": "markdown",
   "id": "454b656b",
   "metadata": {},
   "source": [
    "**- Multiplication in tuple:**"
   ]
  },
  {
   "cell_type": "code",
   "execution_count": 35,
   "id": "2b70ded1",
   "metadata": {},
   "outputs": [
    {
     "data": {
      "text/plain": [
       "('python', 8, 0, 'jupyter', 'python', 8, 0, 'jupyter', 'okay', 9, 78, 'kgf')"
      ]
     },
     "execution_count": 35,
     "metadata": {},
     "output_type": "execute_result"
    }
   ],
   "source": [
    "tup1*2 + tup2"
   ]
  },
  {
   "cell_type": "markdown",
   "id": "94c17db2",
   "metadata": {},
   "source": [
    "**- Finding minimum and maximum value in tuple:**"
   ]
  },
  {
   "cell_type": "code",
   "execution_count": 36,
   "id": "e41f5269",
   "metadata": {},
   "outputs": [
    {
     "data": {
      "text/plain": [
       "(33, 89, 67, 45, 66, 43)"
      ]
     },
     "execution_count": 36,
     "metadata": {},
     "output_type": "execute_result"
    }
   ],
   "source": [
    "tup3 = (33,89,67,45,66,43)\n",
    "tup3"
   ]
  },
  {
   "cell_type": "code",
   "execution_count": 37,
   "id": "12ee4082",
   "metadata": {},
   "outputs": [
    {
     "data": {
      "text/plain": [
       "33"
      ]
     },
     "execution_count": 37,
     "metadata": {},
     "output_type": "execute_result"
    }
   ],
   "source": [
    "# minimum :\n",
    "min(tup3)"
   ]
  },
  {
   "cell_type": "code",
   "execution_count": 38,
   "id": "fb2d8125",
   "metadata": {},
   "outputs": [
    {
     "data": {
      "text/plain": [
       "89"
      ]
     },
     "execution_count": 38,
     "metadata": {},
     "output_type": "execute_result"
    }
   ],
   "source": [
    "# maximum:\n",
    "max(tup3)"
   ]
  },
  {
   "cell_type": "code",
   "execution_count": 39,
   "id": "b39488a9",
   "metadata": {},
   "outputs": [
    {
     "data": {
      "text/plain": [
       "(33, 89, 67, 45, 66, 43, 33, 89, 67, 45, 66, 43, 33, 89, 67, 45, 66, 43)"
      ]
     },
     "execution_count": 39,
     "metadata": {},
     "output_type": "execute_result"
    }
   ],
   "source": [
    "#Mulptiying:\n",
    "tup3*3"
   ]
  },
  {
   "cell_type": "code",
   "execution_count": 40,
   "id": "d4fc8f8d",
   "metadata": {},
   "outputs": [
    {
     "data": {
      "text/plain": [
       "(33, 89, 67, 45, 66, 43)"
      ]
     },
     "execution_count": 40,
     "metadata": {},
     "output_type": "execute_result"
    }
   ],
   "source": [
    "tup3"
   ]
  },
  {
   "cell_type": "markdown",
   "id": "4d2297e2",
   "metadata": {},
   "source": [
    "## 2- List:-\n",
    "- Ordered collection of elements.\n",
    "- Enclosed in [ ] square brackets/braces.\n",
    "- Mutateable (You can change the values)."
   ]
  },
  {
   "cell_type": "code",
   "execution_count": 41,
   "id": "69d5c9e8",
   "metadata": {},
   "outputs": [
    {
     "data": {
      "text/plain": [
       "['people', 34.98, 76, 'people']"
      ]
     },
     "execution_count": 41,
     "metadata": {},
     "output_type": "execute_result"
    }
   ],
   "source": [
    "lis1= [\"people\",34.98,76,\"people\"]\n",
    "lis1"
   ]
  },
  {
   "cell_type": "code",
   "execution_count": 42,
   "id": "8679e77e",
   "metadata": {},
   "outputs": [
    {
     "data": {
      "text/plain": [
       "4"
      ]
     },
     "execution_count": 42,
     "metadata": {},
     "output_type": "execute_result"
    }
   ],
   "source": [
    "# Length of list:\\\n",
    "len(lis1)"
   ]
  },
  {
   "cell_type": "code",
   "execution_count": 43,
   "id": "6e737d26",
   "metadata": {},
   "outputs": [
    {
     "data": {
      "text/plain": [
       "list"
      ]
     },
     "execution_count": 43,
     "metadata": {},
     "output_type": "execute_result"
    }
   ],
   "source": [
    "# type :\n",
    "type(lis1)"
   ]
  },
  {
   "cell_type": "markdown",
   "id": "b844b97f",
   "metadata": {},
   "source": [
    "**- Functions related to list:**"
   ]
  },
  {
   "cell_type": "markdown",
   "id": "f30467c4",
   "metadata": {},
   "source": [
    "**- 1 append():**"
   ]
  },
  {
   "cell_type": "code",
   "execution_count": 44,
   "id": "15ebc530",
   "metadata": {},
   "outputs": [
    {
     "data": {
      "text/plain": [
       "['people', 34.98, 76, 'people', 'outside']"
      ]
     },
     "execution_count": 44,
     "metadata": {},
     "output_type": "execute_result"
    }
   ],
   "source": [
    "lis1.append(\"outside\")\n",
    "lis1"
   ]
  },
  {
   "cell_type": "code",
   "execution_count": 45,
   "id": "1d633eb4",
   "metadata": {},
   "outputs": [
    {
     "data": {
      "text/plain": [
       "['people', 34.98, 76, 'people', 'outside']"
      ]
     },
     "execution_count": 45,
     "metadata": {},
     "output_type": "execute_result"
    }
   ],
   "source": [
    "lis1\n"
   ]
  },
  {
   "cell_type": "markdown",
   "id": "9580c3b8",
   "metadata": {},
   "source": [
    "**- 2 copy():**"
   ]
  },
  {
   "cell_type": "code",
   "execution_count": 46,
   "id": "848bb171",
   "metadata": {},
   "outputs": [
    {
     "data": {
      "text/plain": [
       "['people', 34.98, 76, 'people', 'outside']"
      ]
     },
     "execution_count": 46,
     "metadata": {},
     "output_type": "execute_result"
    }
   ],
   "source": [
    "lis1.copy()"
   ]
  },
  {
   "cell_type": "markdown",
   "id": "38217d28",
   "metadata": {},
   "source": [
    "**- 3 count():**"
   ]
  },
  {
   "cell_type": "code",
   "execution_count": 47,
   "id": "8b8ac930",
   "metadata": {},
   "outputs": [
    {
     "data": {
      "text/plain": [
       "1"
      ]
     },
     "execution_count": 47,
     "metadata": {},
     "output_type": "execute_result"
    }
   ],
   "source": [
    "c = lis1.count(\"outside\")\n",
    "c"
   ]
  },
  {
   "cell_type": "markdown",
   "id": "19761757",
   "metadata": {},
   "source": [
    "**- 4 extend():**"
   ]
  },
  {
   "cell_type": "code",
   "execution_count": 48,
   "id": "f0abb85c",
   "metadata": {},
   "outputs": [
    {
     "data": {
      "text/plain": [
       "['people', 34.98, 76, 'people', 'outside', 'p', 'e', 'o', 'p', 'l', 'e']"
      ]
     },
     "execution_count": 48,
     "metadata": {},
     "output_type": "execute_result"
    }
   ],
   "source": [
    "lis1.extend(\"people\")\n",
    "lis1"
   ]
  },
  {
   "cell_type": "markdown",
   "id": "69226ad1",
   "metadata": {},
   "source": [
    "**- 5 index():**"
   ]
  },
  {
   "cell_type": "code",
   "execution_count": 49,
   "id": "8306b306",
   "metadata": {},
   "outputs": [
    {
     "data": {
      "text/plain": [
       "1"
      ]
     },
     "execution_count": 49,
     "metadata": {},
     "output_type": "execute_result"
    }
   ],
   "source": [
    "lis1.index(34.98)\n"
   ]
  },
  {
   "cell_type": "markdown",
   "id": "f1fe9e11",
   "metadata": {},
   "source": [
    "**- 6 insert():**"
   ]
  },
  {
   "cell_type": "code",
   "execution_count": 50,
   "id": "c9b1d329",
   "metadata": {
    "scrolled": true
   },
   "outputs": [
    {
     "data": {
      "text/plain": [
       "['people', 8, 34.98, 76, 'people', 'outside', 'p', 'e', 'o', 'p', 'l', 'e']"
      ]
     },
     "execution_count": 50,
     "metadata": {},
     "output_type": "execute_result"
    }
   ],
   "source": [
    "lis1.insert(1,8)\n",
    "lis1"
   ]
  },
  {
   "cell_type": "markdown",
   "id": "38fe6263",
   "metadata": {},
   "source": [
    "**- 7 pop():**\n"
   ]
  },
  {
   "cell_type": "code",
   "execution_count": 51,
   "id": "a2fd8211",
   "metadata": {},
   "outputs": [
    {
     "data": {
      "text/plain": [
       "['people', 8, 34.98, 76, 'outside', 'p', 'e', 'o', 'p', 'l', 'e']"
      ]
     },
     "execution_count": 51,
     "metadata": {},
     "output_type": "execute_result"
    }
   ],
   "source": [
    "lis1.pop(4)\n",
    "lis1"
   ]
  },
  {
   "cell_type": "markdown",
   "id": "737842e0",
   "metadata": {},
   "source": [
    "**- 8 remove():**"
   ]
  },
  {
   "cell_type": "code",
   "execution_count": 52,
   "id": "9b4a6ca7",
   "metadata": {},
   "outputs": [
    {
     "data": {
      "text/plain": [
       "[8, 34.98, 76, 'outside', 'p', 'e', 'o', 'p', 'l', 'e']"
      ]
     },
     "execution_count": 52,
     "metadata": {},
     "output_type": "execute_result"
    }
   ],
   "source": [
    "lis1.remove(\"people\")\n",
    "lis1"
   ]
  },
  {
   "cell_type": "markdown",
   "id": "52db65d1",
   "metadata": {},
   "source": [
    "**- 9 reverse():**"
   ]
  },
  {
   "cell_type": "code",
   "execution_count": 53,
   "id": "14391b30",
   "metadata": {},
   "outputs": [
    {
     "data": {
      "text/plain": [
       "['e', 'l', 'p', 'o', 'e', 'p', 'outside', 76, 34.98, 8]"
      ]
     },
     "execution_count": 53,
     "metadata": {},
     "output_type": "execute_result"
    }
   ],
   "source": [
    "lis1.reverse()\n",
    "lis1"
   ]
  },
  {
   "cell_type": "markdown",
   "id": "9c86d2b5",
   "metadata": {},
   "source": [
    "**- 10 sort():**"
   ]
  },
  {
   "cell_type": "code",
   "execution_count": 54,
   "id": "e4bc8cdd",
   "metadata": {},
   "outputs": [
    {
     "data": {
      "text/plain": [
       "[990, 77, 888, 45, 754, 654]"
      ]
     },
     "execution_count": 54,
     "metadata": {},
     "output_type": "execute_result"
    }
   ],
   "source": [
    "lis2 = [990,77,888,45,754,654]\n",
    "lis2"
   ]
  },
  {
   "cell_type": "code",
   "execution_count": 55,
   "id": "98f2f900",
   "metadata": {},
   "outputs": [
    {
     "data": {
      "text/plain": [
       "[45, 77, 654, 754, 888, 990]"
      ]
     },
     "execution_count": 55,
     "metadata": {},
     "output_type": "execute_result"
    }
   ],
   "source": [
    "lis2.sort()\n",
    "lis2"
   ]
  },
  {
   "cell_type": "markdown",
   "id": "ae4aa8e9",
   "metadata": {},
   "source": [
    "**- Concatination of lists:**"
   ]
  },
  {
   "cell_type": "code",
   "execution_count": 56,
   "id": "aa7078c7",
   "metadata": {},
   "outputs": [
    {
     "data": {
      "text/plain": [
       "['e',\n",
       " 'l',\n",
       " 'p',\n",
       " 'o',\n",
       " 'e',\n",
       " 'p',\n",
       " 'outside',\n",
       " 76,\n",
       " 34.98,\n",
       " 8,\n",
       " 45,\n",
       " 77,\n",
       " 654,\n",
       " 754,\n",
       " 888,\n",
       " 990]"
      ]
     },
     "execution_count": 56,
     "metadata": {},
     "output_type": "execute_result"
    }
   ],
   "source": [
    "lis1 + lis2"
   ]
  },
  {
   "cell_type": "code",
   "execution_count": 57,
   "id": "77dedf73",
   "metadata": {},
   "outputs": [
    {
     "data": {
      "text/plain": [
       "[45, 77, 654, 754, 888, 990, 45, 77, 654, 754, 888, 990]"
      ]
     },
     "execution_count": 57,
     "metadata": {},
     "output_type": "execute_result"
    }
   ],
   "source": [
    "lis2*2"
   ]
  },
  {
   "cell_type": "markdown",
   "id": "9bf48a1a",
   "metadata": {},
   "source": [
    "##  3- Dictionaries :-\n",
    "- An unordered collection of elements.\n",
    "- Key and Values.\n",
    "- Curly braces or brackets {}.\n",
    "- Mutateable (User can change the values in it)"
   ]
  },
  {
   "cell_type": "code",
   "execution_count": 58,
   "id": "83676d53",
   "metadata": {},
   "outputs": [
    {
     "data": {
      "text/plain": [
       "{'name': 'Farwa', 'Class': 12, 'Roll no': 29711}"
      ]
     },
     "execution_count": 58,
     "metadata": {},
     "output_type": "execute_result"
    }
   ],
   "source": [
    "d1 = {\"name\":\"Farwa\",\"Class\":12,\"Roll no\":29711}\n",
    "d1"
   ]
  },
  {
   "cell_type": "markdown",
   "id": "093d6ac9",
   "metadata": {},
   "source": [
    "**- 1 keys():**"
   ]
  },
  {
   "cell_type": "code",
   "execution_count": 59,
   "id": "dd803a33",
   "metadata": {},
   "outputs": [
    {
     "data": {
      "text/plain": [
       "dict_keys(['name', 'Class', 'Roll no'])"
      ]
     },
     "execution_count": 59,
     "metadata": {},
     "output_type": "execute_result"
    }
   ],
   "source": [
    "d1.keys()"
   ]
  },
  {
   "cell_type": "markdown",
   "id": "fcae42d7",
   "metadata": {},
   "source": [
    "**- 2 values:**"
   ]
  },
  {
   "cell_type": "code",
   "execution_count": 60,
   "id": "edb94c7c",
   "metadata": {},
   "outputs": [
    {
     "data": {
      "text/plain": [
       "dict_values(['Farwa', 12, 29711])"
      ]
     },
     "execution_count": 60,
     "metadata": {},
     "output_type": "execute_result"
    }
   ],
   "source": [
    "d1.values()"
   ]
  },
  {
   "cell_type": "markdown",
   "id": "0700a88f",
   "metadata": {},
   "source": [
    "*Adding more values:*"
   ]
  },
  {
   "cell_type": "code",
   "execution_count": 61,
   "id": "3aaef5fb",
   "metadata": {},
   "outputs": [],
   "source": [
    "d1[\"hobby\"] = \"sleeping\""
   ]
  },
  {
   "cell_type": "code",
   "execution_count": 62,
   "id": "3c54d5d4",
   "metadata": {},
   "outputs": [
    {
     "data": {
      "text/plain": [
       "{'name': 'Farwa', 'Class': 12, 'Roll no': 29711, 'hobby': 'sleeping'}"
      ]
     },
     "execution_count": 62,
     "metadata": {},
     "output_type": "execute_result"
    }
   ],
   "source": [
    "d1"
   ]
  },
  {
   "cell_type": "markdown",
   "id": "ad03e288",
   "metadata": {},
   "source": [
    "**- 3 Updating the values:**"
   ]
  },
  {
   "cell_type": "code",
   "execution_count": 63,
   "id": "d6717694",
   "metadata": {},
   "outputs": [
    {
     "data": {
      "text/plain": [
       "{'name': 'Farwa', 'Class': 12, 'Roll no': 29711, 'hobby': 'eating'}"
      ]
     },
     "execution_count": 63,
     "metadata": {},
     "output_type": "execute_result"
    }
   ],
   "source": [
    "d1[\"hobby\"] = \"eating\"\n",
    "d1"
   ]
  },
  {
   "cell_type": "code",
   "execution_count": 64,
   "id": "95dc2bc5",
   "metadata": {},
   "outputs": [
    {
     "data": {
      "text/plain": [
       "{'Name ': 'sdf', 'Class ': 'low', 'roll no': 8761}"
      ]
     },
     "execution_count": 64,
     "metadata": {},
     "output_type": "execute_result"
    }
   ],
   "source": [
    "d2 = {\"Name \":\"sdf\",\"Class \":\"low\",\"roll no\":8761}\n",
    "d2"
   ]
  },
  {
   "cell_type": "code",
   "execution_count": 65,
   "id": "d277271b",
   "metadata": {},
   "outputs": [
    {
     "data": {
      "text/plain": [
       "{'name': 'Farwa',\n",
       " 'Class': 12,\n",
       " 'Roll no': 29711,\n",
       " 'hobby': 'eating',\n",
       " 'Name ': 'sdf',\n",
       " 'Class ': 'low',\n",
       " 'roll no': 8761}"
      ]
     },
     "execution_count": 65,
     "metadata": {},
     "output_type": "execute_result"
    }
   ],
   "source": [
    "d1.update(d2)\n",
    "d1"
   ]
  },
  {
   "cell_type": "markdown",
   "id": "a554b53d",
   "metadata": {},
   "source": [
    "**- 4 fromkeys():**"
   ]
  },
  {
   "cell_type": "code",
   "execution_count": 66,
   "id": "2ef76e5c",
   "metadata": {},
   "outputs": [
    {
     "data": {
      "text/plain": [
       "{'Name ': 'sdf', 'Class ': 'low', 'roll no': 8761}"
      ]
     },
     "execution_count": 66,
     "metadata": {},
     "output_type": "execute_result"
    }
   ],
   "source": [
    "d2"
   ]
  },
  {
   "cell_type": "code",
   "execution_count": 67,
   "id": "9b2e0cd6",
   "metadata": {},
   "outputs": [
    {
     "data": {
      "text/plain": [
       "2"
      ]
     },
     "execution_count": 67,
     "metadata": {},
     "output_type": "execute_result"
    }
   ],
   "source": [
    "n = 2\n",
    "n"
   ]
  },
  {
   "cell_type": "code",
   "execution_count": 68,
   "id": "727f96e4",
   "metadata": {},
   "outputs": [
    {
     "data": {
      "text/plain": [
       "{'Name ': 2, 'Class ': 2, 'roll no': 2}"
      ]
     },
     "execution_count": 68,
     "metadata": {},
     "output_type": "execute_result"
    }
   ],
   "source": [
    "dict.fromkeys(d2,n)"
   ]
  },
  {
   "cell_type": "markdown",
   "id": "a7cb278c",
   "metadata": {},
   "source": [
    "**- 5 items():**"
   ]
  },
  {
   "cell_type": "code",
   "execution_count": 69,
   "id": "d946a4f3",
   "metadata": {},
   "outputs": [
    {
     "data": {
      "text/plain": [
       "dict_items([('name', 'Farwa'), ('Class', 12), ('Roll no', 29711), ('hobby', 'eating'), ('Name ', 'sdf'), ('Class ', 'low'), ('roll no', 8761)])"
      ]
     },
     "execution_count": 69,
     "metadata": {},
     "output_type": "execute_result"
    }
   ],
   "source": [
    "d1.items()"
   ]
  },
  {
   "cell_type": "markdown",
   "id": "d7123dac",
   "metadata": {},
   "source": [
    "**- 6 get():**"
   ]
  },
  {
   "cell_type": "code",
   "execution_count": 70,
   "id": "d6fb8c87",
   "metadata": {
    "scrolled": true
   },
   "outputs": [
    {
     "data": {
      "text/plain": [
       "'Farwa'"
      ]
     },
     "execution_count": 70,
     "metadata": {},
     "output_type": "execute_result"
    }
   ],
   "source": [
    "d1.get(\"name\")"
   ]
  },
  {
   "cell_type": "markdown",
   "id": "68fe7d84",
   "metadata": {},
   "source": [
    "**- 7 pop():**"
   ]
  },
  {
   "cell_type": "code",
   "execution_count": 71,
   "id": "5333b8a8",
   "metadata": {},
   "outputs": [
    {
     "data": {
      "text/plain": [
       "12"
      ]
     },
     "execution_count": 71,
     "metadata": {},
     "output_type": "execute_result"
    }
   ],
   "source": [
    "d1.pop(\"Class\")"
   ]
  },
  {
   "cell_type": "markdown",
   "id": "27b44c52",
   "metadata": {},
   "source": [
    "**- 8 popitem():**"
   ]
  },
  {
   "cell_type": "code",
   "execution_count": 72,
   "id": "cc3d1692",
   "metadata": {
    "scrolled": true
   },
   "outputs": [
    {
     "data": {
      "text/plain": [
       "('roll no', 8761)"
      ]
     },
     "execution_count": 72,
     "metadata": {},
     "output_type": "execute_result"
    }
   ],
   "source": [
    "d1.popitem()"
   ]
  },
  {
   "cell_type": "markdown",
   "id": "d53ad3cd",
   "metadata": {},
   "source": [
    "**- 9 setdefault():**"
   ]
  },
  {
   "cell_type": "code",
   "execution_count": 73,
   "id": "7247a684",
   "metadata": {
    "scrolled": true
   },
   "outputs": [
    {
     "data": {
      "text/plain": [
       "'Farwa'"
      ]
     },
     "execution_count": 73,
     "metadata": {},
     "output_type": "execute_result"
    }
   ],
   "source": [
    "d1.setdefault(\"name\")"
   ]
  },
  {
   "cell_type": "code",
   "execution_count": 74,
   "id": "2e5533f2",
   "metadata": {},
   "outputs": [
    {
     "data": {
      "text/plain": [
       "{'Name ': 'sdf', 'Class ': 'low', 'roll no': 8761}"
      ]
     },
     "execution_count": 74,
     "metadata": {},
     "output_type": "execute_result"
    }
   ],
   "source": [
    "d2 = {\"Name \":\"sdf\",\"Class \":\"low\",\"roll no\":8761}\n",
    "d2"
   ]
  },
  {
   "cell_type": "markdown",
   "id": "538778d6",
   "metadata": {},
   "source": [
    "**- 10 values():**"
   ]
  },
  {
   "cell_type": "code",
   "execution_count": 75,
   "id": "49e22f9a",
   "metadata": {},
   "outputs": [
    {
     "data": {
      "text/plain": [
       "dict_values(['Farwa', 29711, 'eating', 'sdf', 'low'])"
      ]
     },
     "execution_count": 75,
     "metadata": {},
     "output_type": "execute_result"
    }
   ],
   "source": [
    "d1.values()"
   ]
  },
  {
   "cell_type": "code",
   "execution_count": 76,
   "id": "16e1ed43",
   "metadata": {},
   "outputs": [
    {
     "data": {
      "text/plain": [
       "{'name': 'Farwa',\n",
       " 'Roll no': 29711,\n",
       " 'hobby': 'eating',\n",
       " 'Name ': 'sdf',\n",
       " 'Class ': 'low'}"
      ]
     },
     "execution_count": 76,
     "metadata": {},
     "output_type": "execute_result"
    }
   ],
   "source": [
    "d1"
   ]
  },
  {
   "cell_type": "markdown",
   "id": "a40dab3c",
   "metadata": {},
   "source": [
    "**- 11 clear():**"
   ]
  },
  {
   "cell_type": "code",
   "execution_count": 77,
   "id": "4170ab18",
   "metadata": {},
   "outputs": [],
   "source": [
    "d1.clear()"
   ]
  },
  {
   "cell_type": "code",
   "execution_count": 78,
   "id": "df351b89",
   "metadata": {},
   "outputs": [
    {
     "data": {
      "text/plain": [
       "{}"
      ]
     },
     "execution_count": 78,
     "metadata": {},
     "output_type": "execute_result"
    }
   ],
   "source": [
    "d1\n"
   ]
  },
  {
   "cell_type": "markdown",
   "id": "c5bbf326",
   "metadata": {},
   "source": [
    "## 4- Set:-\n",
    "\n",
    "- Unordered and unindexed.\n",
    "- Curly braces are used { }.\n",
    "- No duplication allowed."
   ]
  },
  {
   "cell_type": "code",
   "execution_count": 79,
   "id": "3e581620",
   "metadata": {},
   "outputs": [
    {
     "data": {
      "text/plain": [
       "{1, 2, 3, 4, 5, 6, 7, 78, 98, 'Farwa', 'theek ha'}"
      ]
     },
     "execution_count": 79,
     "metadata": {},
     "output_type": "execute_result"
    }
   ],
   "source": [
    "s1 = {98,78,1,2,\"Farwa\",2,\"theek ha\",3,4,5,6,6,7,7,1}\n",
    "s1"
   ]
  },
  {
   "cell_type": "code",
   "execution_count": 80,
   "id": "bdd6ee06",
   "metadata": {},
   "outputs": [
    {
     "data": {
      "text/plain": [
       "{1, 2, 3, 4, 5, 6, 7, 78, 890, 98, 'Farwa', 'theek ha'}"
      ]
     },
     "execution_count": 80,
     "metadata": {},
     "output_type": "execute_result"
    }
   ],
   "source": [
    "# adding new values:\n",
    "s1.add(890)\n",
    "s1"
   ]
  },
  {
   "cell_type": "code",
   "execution_count": 81,
   "id": "b8f41b4f",
   "metadata": {},
   "outputs": [
    {
     "data": {
      "text/plain": [
       "{1, 2, 3, 44, 5, 6, 7, 77, 88, 'Farwa'}"
      ]
     },
     "execution_count": 81,
     "metadata": {},
     "output_type": "execute_result"
    }
   ],
   "source": [
    "s2 = {44,77,88,1,3,2,5,6,7,\"Farwa\"}\n",
    "s2"
   ]
  },
  {
   "cell_type": "markdown",
   "id": "63457279",
   "metadata": {},
   "source": [
    "**- 1 difference():**"
   ]
  },
  {
   "cell_type": "code",
   "execution_count": 82,
   "id": "ed16616d",
   "metadata": {},
   "outputs": [
    {
     "data": {
      "text/plain": [
       "{4, 78, 890, 98, 'theek ha'}"
      ]
     },
     "execution_count": 82,
     "metadata": {},
     "output_type": "execute_result"
    }
   ],
   "source": [
    "s1.difference(s2)  "
   ]
  },
  {
   "cell_type": "code",
   "execution_count": 83,
   "id": "ad62f6b2",
   "metadata": {},
   "outputs": [
    {
     "data": {
      "text/plain": [
       "{44, 77, 88}"
      ]
     },
     "execution_count": 83,
     "metadata": {},
     "output_type": "execute_result"
    }
   ],
   "source": [
    "s2.difference(s1)"
   ]
  },
  {
   "cell_type": "code",
   "execution_count": 84,
   "id": "a71f0130",
   "metadata": {},
   "outputs": [
    {
     "data": {
      "text/plain": [
       "{1, 2, 3, 4, 5, 6, 7}"
      ]
     },
     "execution_count": 84,
     "metadata": {},
     "output_type": "execute_result"
    }
   ],
   "source": [
    "s3 = {1,2,3,4,5,6,7}\n",
    "s3"
   ]
  },
  {
   "cell_type": "code",
   "execution_count": 85,
   "id": "ce4d1917",
   "metadata": {},
   "outputs": [
    {
     "data": {
      "text/plain": [
       "{1, 2, 6, 7}"
      ]
     },
     "execution_count": 85,
     "metadata": {},
     "output_type": "execute_result"
    }
   ],
   "source": [
    "s4 = {1,2,7,6}\n",
    "s4"
   ]
  },
  {
   "cell_type": "markdown",
   "id": "4e1e4df6",
   "metadata": {},
   "source": [
    "**- 2 difference_update():**"
   ]
  },
  {
   "cell_type": "code",
   "execution_count": 86,
   "id": "af888c98",
   "metadata": {},
   "outputs": [
    {
     "name": "stdout",
     "output_type": "stream",
     "text": [
      "{1, 2, 3, 4, 5, 6, 7}\n"
     ]
    }
   ],
   "source": [
    "print(s3)\n",
    "x = s3.difference_update(s4)\n",
    "x"
   ]
  },
  {
   "cell_type": "code",
   "execution_count": 87,
   "id": "81aefc65",
   "metadata": {},
   "outputs": [
    {
     "data": {
      "text/plain": [
       "{3, 4, 5}"
      ]
     },
     "execution_count": 87,
     "metadata": {},
     "output_type": "execute_result"
    }
   ],
   "source": [
    "s3.difference(s4)"
   ]
  },
  {
   "cell_type": "markdown",
   "id": "3dd74852",
   "metadata": {},
   "source": [
    "**- 3 intersection():**"
   ]
  },
  {
   "cell_type": "code",
   "execution_count": 88,
   "id": "0d714bde",
   "metadata": {},
   "outputs": [
    {
     "data": {
      "text/plain": [
       "{1, 2, 3, 5, 6, 7, 'Farwa'}"
      ]
     },
     "execution_count": 88,
     "metadata": {},
     "output_type": "execute_result"
    }
   ],
   "source": [
    "s1.intersection(s2)"
   ]
  },
  {
   "cell_type": "code",
   "execution_count": 89,
   "id": "d8e8de83",
   "metadata": {},
   "outputs": [
    {
     "name": "stdout",
     "output_type": "stream",
     "text": [
      "{1, 2, 98, 3, 'Farwa', 4, 5, 6, 7, 78, 'theek ha', 890}\n"
     ]
    }
   ],
   "source": [
    "print(s1)\n",
    "d = s1.intersection_update(s3)\n",
    "d"
   ]
  },
  {
   "cell_type": "markdown",
   "id": "6c784d48",
   "metadata": {},
   "source": [
    "**- 4 isdisjoint():**"
   ]
  },
  {
   "cell_type": "code",
   "execution_count": 90,
   "id": "193b37c7",
   "metadata": {},
   "outputs": [
    {
     "data": {
      "text/plain": [
       "False"
      ]
     },
     "execution_count": 90,
     "metadata": {},
     "output_type": "execute_result"
    }
   ],
   "source": [
    "s1.isdisjoint(s2)"
   ]
  },
  {
   "cell_type": "markdown",
   "id": "ca94927e",
   "metadata": {},
   "source": [
    "**- 5 issubset():**"
   ]
  },
  {
   "cell_type": "code",
   "execution_count": 91,
   "id": "735088e2",
   "metadata": {},
   "outputs": [
    {
     "data": {
      "text/plain": [
       "{1, 2, 3, 4, 7, 8, 9}"
      ]
     },
     "execution_count": 91,
     "metadata": {},
     "output_type": "execute_result"
    }
   ],
   "source": [
    "s5 = {1,2,3,4,7,8,9}\n",
    "s5"
   ]
  },
  {
   "cell_type": "code",
   "execution_count": 92,
   "id": "28499644",
   "metadata": {},
   "outputs": [
    {
     "data": {
      "text/plain": [
       "{1, 2, 3}"
      ]
     },
     "execution_count": 92,
     "metadata": {},
     "output_type": "execute_result"
    }
   ],
   "source": [
    "s6 = {1,2,3}\n",
    "s6"
   ]
  },
  {
   "cell_type": "code",
   "execution_count": 93,
   "id": "cb6ffee6",
   "metadata": {},
   "outputs": [
    {
     "data": {
      "text/plain": [
       "True"
      ]
     },
     "execution_count": 93,
     "metadata": {},
     "output_type": "execute_result"
    }
   ],
   "source": [
    "s6.issubset(s5)"
   ]
  },
  {
   "cell_type": "markdown",
   "id": "be421c91",
   "metadata": {},
   "source": [
    "**- 6 pop():**"
   ]
  },
  {
   "cell_type": "code",
   "execution_count": 94,
   "id": "dab4caf9",
   "metadata": {},
   "outputs": [
    {
     "data": {
      "text/plain": [
       "{3, 4, 5}"
      ]
     },
     "execution_count": 94,
     "metadata": {},
     "output_type": "execute_result"
    }
   ],
   "source": [
    "s3"
   ]
  },
  {
   "cell_type": "code",
   "execution_count": 95,
   "id": "3bf1cac1",
   "metadata": {},
   "outputs": [
    {
     "data": {
      "text/plain": [
       "3"
      ]
     },
     "execution_count": 95,
     "metadata": {},
     "output_type": "execute_result"
    }
   ],
   "source": [
    "s3.pop()"
   ]
  },
  {
   "cell_type": "code",
   "execution_count": 96,
   "id": "7901d33d",
   "metadata": {},
   "outputs": [
    {
     "data": {
      "text/plain": [
       "{1, 6, 7, 8, 9}"
      ]
     },
     "execution_count": 96,
     "metadata": {},
     "output_type": "execute_result"
    }
   ],
   "source": [
    "s7 = {1,6,7,8,9}\n",
    "s7"
   ]
  },
  {
   "cell_type": "markdown",
   "id": "54f7eb39",
   "metadata": {},
   "source": [
    "**- 7 Union():**"
   ]
  },
  {
   "cell_type": "code",
   "execution_count": 97,
   "id": "aa9642c8",
   "metadata": {
    "scrolled": true
   },
   "outputs": [
    {
     "data": {
      "text/plain": [
       "{1, 2, 3, 4, 6, 7, 8, 9}"
      ]
     },
     "execution_count": 97,
     "metadata": {},
     "output_type": "execute_result"
    }
   ],
   "source": [
    "s7.union(s5)"
   ]
  },
  {
   "cell_type": "code",
   "execution_count": 98,
   "id": "d96fda1b",
   "metadata": {},
   "outputs": [
    {
     "data": {
      "text/plain": [
       "{1, 6, 7, 8, 9}"
      ]
     },
     "execution_count": 98,
     "metadata": {},
     "output_type": "execute_result"
    }
   ],
   "source": [
    "s7"
   ]
  },
  {
   "cell_type": "code",
   "execution_count": 99,
   "id": "1b9eb0a1",
   "metadata": {},
   "outputs": [
    {
     "data": {
      "text/plain": [
       "{1, 2, 3, 4, 5, 8, 9}"
      ]
     },
     "execution_count": 99,
     "metadata": {},
     "output_type": "execute_result"
    }
   ],
   "source": [
    "s8 = {4,9,8,1,2,3,4,5}\n",
    "s8"
   ]
  },
  {
   "cell_type": "markdown",
   "id": "09216573",
   "metadata": {},
   "source": [
    "**- 8 Remove():**"
   ]
  },
  {
   "cell_type": "code",
   "execution_count": 100,
   "id": "6fea2982",
   "metadata": {},
   "outputs": [],
   "source": [
    "s8.remove(4)"
   ]
  },
  {
   "cell_type": "code",
   "execution_count": 101,
   "id": "b60b45df",
   "metadata": {},
   "outputs": [
    {
     "data": {
      "text/plain": [
       "{1, 2, 3, 5, 8, 9}"
      ]
     },
     "execution_count": 101,
     "metadata": {},
     "output_type": "execute_result"
    }
   ],
   "source": [
    "s8"
   ]
  },
  {
   "cell_type": "code",
   "execution_count": 102,
   "id": "4a3d7d91",
   "metadata": {},
   "outputs": [
    {
     "data": {
      "text/plain": [
       "{1, 2, 3, 5, 8, 9}"
      ]
     },
     "execution_count": 102,
     "metadata": {},
     "output_type": "execute_result"
    }
   ],
   "source": [
    "s8"
   ]
  },
  {
   "cell_type": "markdown",
   "id": "1dc40948",
   "metadata": {},
   "source": [
    "**- 9 symmetric_difference():**"
   ]
  },
  {
   "cell_type": "code",
   "execution_count": 103,
   "id": "d8833f15",
   "metadata": {},
   "outputs": [
    {
     "data": {
      "text/plain": [
       "{2, 3, 5, 6, 7}"
      ]
     },
     "execution_count": 103,
     "metadata": {},
     "output_type": "execute_result"
    }
   ],
   "source": [
    "s8.symmetric_difference(s7)"
   ]
  },
  {
   "cell_type": "code",
   "execution_count": 104,
   "id": "f7bfaed9",
   "metadata": {},
   "outputs": [
    {
     "data": {
      "text/plain": [
       "{1, 2, 3, 4, 6, 7, 12, 13, 14, 21}"
      ]
     },
     "execution_count": 104,
     "metadata": {},
     "output_type": "execute_result"
    }
   ],
   "source": [
    "s9 ={12,13,14,21,6,7,1,2,3,4}\n",
    "s9"
   ]
  },
  {
   "cell_type": "code",
   "execution_count": 105,
   "id": "0641850e",
   "metadata": {},
   "outputs": [
    {
     "data": {
      "text/plain": [
       "{1, 2, 3, 4, 9, 11, 21}"
      ]
     },
     "execution_count": 105,
     "metadata": {},
     "output_type": "execute_result"
    }
   ],
   "source": [
    "s8 = {1,2,3,4,9,11,21}\n",
    "s8"
   ]
  },
  {
   "cell_type": "markdown",
   "id": "a59165f4",
   "metadata": {},
   "source": [
    "**- 10 symmetric_difference_update():**"
   ]
  },
  {
   "cell_type": "code",
   "execution_count": 106,
   "id": "02aee044",
   "metadata": {},
   "outputs": [
    {
     "data": {
      "text/plain": [
       "{6, 7, 9, 11, 12, 13, 14}"
      ]
     },
     "execution_count": 106,
     "metadata": {},
     "output_type": "execute_result"
    }
   ],
   "source": [
    "s9.symmetric_difference_update(s8)\n",
    "s9"
   ]
  },
  {
   "cell_type": "code",
   "execution_count": 107,
   "id": "8fce1998",
   "metadata": {},
   "outputs": [
    {
     "data": {
      "text/plain": [
       "{1, 2, 6, 7}"
      ]
     },
     "execution_count": 107,
     "metadata": {},
     "output_type": "execute_result"
    }
   ],
   "source": [
    "s4"
   ]
  },
  {
   "cell_type": "markdown",
   "id": "f2414b98",
   "metadata": {},
   "source": [
    "**- 11 update():**"
   ]
  },
  {
   "cell_type": "code",
   "execution_count": 108,
   "id": "639eabb9",
   "metadata": {},
   "outputs": [
    {
     "data": {
      "text/plain": [
       "{1, 2, 3, 4, 6, 7, 9, 11, 21}"
      ]
     },
     "execution_count": 108,
     "metadata": {},
     "output_type": "execute_result"
    }
   ],
   "source": [
    "s4.update(s8)\n",
    "s4"
   ]
  },
  {
   "cell_type": "markdown",
   "id": "728b5add",
   "metadata": {},
   "source": [
    "*I have completed Indexing and Data Structure tutorial in jupyter and saved the file as HTML.*"
   ]
  }
 ],
 "metadata": {
  "kernelspec": {
   "display_name": "Python 3 (ipykernel)",
   "language": "python",
   "name": "python3"
  },
  "language_info": {
   "codemirror_mode": {
    "name": "ipython",
    "version": 3
   },
   "file_extension": ".py",
   "mimetype": "text/x-python",
   "name": "python",
   "nbconvert_exporter": "python",
   "pygments_lexer": "ipython3",
   "version": "3.9.12"
  }
 },
 "nbformat": 4,
 "nbformat_minor": 5
}
