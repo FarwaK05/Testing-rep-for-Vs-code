{
 "cells": [
  {
   "cell_type": "markdown",
   "id": "8277fc97",
   "metadata": {},
   "source": [
    "# Python ka chiila:\n",
    "\n",
    "## Using jupyter notebooks:\n",
    "\n",
    "## Basics of python:-\n",
    "### **1: My first program:-**\n",
    "       "
   ]
  },
  {
   "cell_type": "code",
   "execution_count": 1,
   "id": "a28eedf0",
   "metadata": {},
   "outputs": [
    {
     "name": "stdout",
     "output_type": "stream",
     "text": [
      "11\n",
      "This is python program.\n"
     ]
    }
   ],
   "source": [
    "print(2+9)\n",
    "print(\"This is python program.\")"
   ]
  },
  {
   "cell_type": "markdown",
   "id": "0b095149",
   "metadata": {},
   "source": [
    "### **2: Strings:-**"
   ]
  },
  {
   "cell_type": "code",
   "execution_count": 2,
   "id": "1fdc808b",
   "metadata": {
    "scrolled": true
   },
   "outputs": [
    {
     "name": "stdout",
     "output_type": "stream",
     "text": [
      "hello my name isa farwa\n",
      "testing all quotes\n",
      "okay this is triple quotes\n",
      "Farwa Khalid.\n"
     ]
    }
   ],
   "source": [
    "print('hello my name isa farwa')\n",
    "print(\"testing all quotes\")\n",
    "print('''okay this is triple quotes''') \n",
    "print(\"Farwa Khalid.\")"
   ]
  },
  {
   "cell_type": "markdown",
   "id": "7bb7a96b",
   "metadata": {},
   "source": [
    "### **3: Comments:-**"
   ]
  },
  {
   "cell_type": "markdown",
   "id": "17cb588e",
   "metadata": {},
   "source": [
    "*for comment we use \"#\" or crtl with forward slash (crtl + /)*"
   ]
  },
  {
   "cell_type": "code",
   "execution_count": 3,
   "id": "b7a81354",
   "metadata": {},
   "outputs": [],
   "source": [
    "# This is comment.\n",
    "# You can learn anything you want to."
   ]
  },
  {
   "cell_type": "markdown",
   "id": "2f093e54",
   "metadata": {},
   "source": [
    "### **4: Variables:-**"
   ]
  },
  {
   "cell_type": "markdown",
   "id": "4176ff5f",
   "metadata": {},
   "source": [
    "*A Python variable is a symbolic name that is a reference to an object.*\n",
    "\n",
    "  *(a and people are vaiables in this program.)*"
   ]
  },
  {
   "cell_type": "code",
   "execution_count": 4,
   "id": "9c474714",
   "metadata": {},
   "outputs": [
    {
     "name": "stdout",
     "output_type": "stream",
     "text": [
      "<class 'int'>\n",
      "<class 'str'>\n",
      "90 % people are always rude.\n"
     ]
    }
   ],
   "source": [
    " a =90 \n",
    "print(type(a))\n",
    "people = \"% people are always rude.\"\n",
    "#del = a \n",
    "print(type(people))\n",
    "print(a,people)"
   ]
  },
  {
   "cell_type": "markdown",
   "id": "db023aa7",
   "metadata": {},
   "source": [
    "### **5: Operators:-**\n",
    "\n",
    "*“PEMDAS” (parenthesis, exponents, multiplication, division, addition, subtraction)*"
   ]
  },
  {
   "cell_type": "code",
   "execution_count": 5,
   "id": "ff6b6206",
   "metadata": {
    "scrolled": true
   },
   "outputs": [
    {
     "name": "stdout",
     "output_type": "stream",
     "text": [
      "8.55\n",
      "11\n",
      "96\n",
      "3.0\n",
      "3\n",
      "64\n",
      "-2.3636363636363633\n"
     ]
    }
   ],
   "source": [
    "print(5+3.55)\n",
    "print(66-55)\n",
    "print(12*8)\n",
    "print(9/3)\n",
    "print(9//3)\n",
    "print(8**2)\n",
    "print((5**2)/55*8-11+5)"
   ]
  },
  {
   "cell_type": "markdown",
   "id": "a485a3a7",
   "metadata": {},
   "source": [
    "### **6: First input :-**"
   ]
  },
  {
   "cell_type": "code",
   "execution_count": 6,
   "id": "86344755",
   "metadata": {
    "scrolled": true
   },
   "outputs": [
    {
     "name": "stdout",
     "output_type": "stream",
     "text": [
      " Please wnter your good name: Farwa\n",
      " please enter your age : 17\n",
      "hello ! Farwa your age is  17\n"
     ]
    }
   ],
   "source": [
    "a = input(\" Please wnter your good name: \")\n",
    "b = input(\" please enter your age : \")\n",
    "print(\"hello !\" , a , \"your age is \" ,b)"
   ]
  },
  {
   "cell_type": "markdown",
   "id": "a079082f",
   "metadata": {},
   "source": [
    "### **7: Logical operators:-**\n",
    "\n",
    "*Python has three logical operators: and , or , and not.They evaluate expressions down to Boolean values, returning either True or False.*"
   ]
  },
  {
   "cell_type": "code",
   "execution_count": 7,
   "id": "943db166",
   "metadata": {},
   "outputs": [
    {
     "name": "stdout",
     "output_type": "stream",
     "text": [
      "False\n",
      "True\n"
     ]
    }
   ],
   "source": [
    "a = 5\n",
    "age = 11\n",
    "print(a>=age)\n",
    "b = 9\n",
    "print(a!=b)"
   ]
  },
  {
   "cell_type": "markdown",
   "id": "f543bfc0",
   "metadata": {},
   "source": [
    "### **8: Type converstion:-**"
   ]
  },
  {
   "cell_type": "markdown",
   "id": "fcf94ac8",
   "metadata": {},
   "source": [
    "**Implicit conversion:**"
   ]
  },
  {
   "cell_type": "code",
   "execution_count": 8,
   "id": "aeca1003",
   "metadata": {},
   "outputs": [
    {
     "name": "stdout",
     "output_type": "stream",
     "text": [
      "<class 'float'> 14.99\n",
      "<class 'int'> 14\n"
     ]
    }
   ],
   "source": [
    "a = 14.99\n",
    "print(type(a),a)\n",
    "a = int(a)\n",
    "print(type(a),a)"
   ]
  },
  {
   "cell_type": "markdown",
   "id": "d82ac6c3",
   "metadata": {},
   "source": [
    "**Explicit conversion:**"
   ]
  },
  {
   "cell_type": "code",
   "execution_count": 9,
   "id": "8ce458b4",
   "metadata": {},
   "outputs": [
    {
     "name": "stdout",
     "output_type": "stream",
     "text": [
      "Enter the number:45\n",
      "45 <class 'int'>\n"
     ]
    }
   ],
   "source": [
    "age = int(input(\"Enter the number:\"))\n",
    "print(age,type(age))"
   ]
  },
  {
   "cell_type": "markdown",
   "id": "94e764a9",
   "metadata": {},
   "source": [
    "### **9: Conditional statements:-**"
   ]
  },
  {
   "cell_type": "markdown",
   "id": "658fd2a9",
   "metadata": {},
   "source": [
    "*if, if-else, elif, nested if, and nested if-else statements are conditional statements which control the execution\n",
    "of our program.*"
   ]
  },
  {
   "cell_type": "code",
   "execution_count": 10,
   "id": "faa14b45",
   "metadata": {},
   "outputs": [
    {
     "name": "stdout",
     "output_type": "stream",
     "text": [
      "Your age is less than 9\n"
     ]
    }
   ],
   "source": [
    "a =8 \n",
    "if a == 9:\n",
    "    print(\"You are nine years old\")\n",
    "elif a<9:\n",
    "    print(\"Your age is less than 9\")\n",
    "else:\n",
    "    print(\"Your age ius more than nine.\")"
   ]
  },
  {
   "cell_type": "markdown",
   "id": "e64e1fe6",
   "metadata": {},
   "source": [
    "### **10: Loops in python:-**\n",
    "\n",
    "**Types of Loop in python:**\n",
    "\n",
    "*while loop.*\n",
    "\n",
    "*for loop.*\n",
    "\n",
    "*nested loops.*"
   ]
  },
  {
   "cell_type": "code",
   "execution_count": 11,
   "id": "465d0aec",
   "metadata": {},
   "outputs": [
    {
     "name": "stdout",
     "output_type": "stream",
     "text": [
      "0\n",
      "1\n",
      "2\n",
      "3\n",
      "4\n",
      "5\n",
      "mon\n",
      "tues\n",
      "wens\n",
      "thus\n",
      "satur\n",
      "sun\n"
     ]
    }
   ],
   "source": [
    "i = 0\n",
    "while (i<=5):\n",
    " print(i)\n",
    " i = i +1\n",
    "day = [\"mon\",\"tues\",\"wens\",\"thus\",\"fri\",\"satur\",\"sun\"]\n",
    "for d in  day:\n",
    "    if(d == \"fri\"):\n",
    "        continue\n",
    "       #break\n",
    "    print(d)"
   ]
  },
  {
   "cell_type": "markdown",
   "id": "1b7579d3",
   "metadata": {},
   "source": [
    "### **11:Functions:-**\n",
    "\n",
    "**METHOD:1:-**"
   ]
  },
  {
   "cell_type": "code",
   "execution_count": 12,
   "id": "674f81ef",
   "metadata": {},
   "outputs": [
    {
     "name": "stdout",
     "output_type": "stream",
     "text": [
      "hello! how are you?\n",
      "hello! how are you?\n",
      "hello! how are you?\n"
     ]
    }
   ],
   "source": [
    "def fun_1():\n",
    " print(\"hello! how are you?\")\n",
    " print(\"hello! how are you?\")\n",
    " print(\"hello! how are you?\")\n",
    "fun_1()"
   ]
  },
  {
   "cell_type": "markdown",
   "id": "8d752a33",
   "metadata": {},
   "source": [
    "**METHOD 2:-**"
   ]
  },
  {
   "cell_type": "code",
   "execution_count": 13,
   "id": "9b4443b8",
   "metadata": {},
   "outputs": [
    {
     "name": "stdout",
     "output_type": "stream",
     "text": [
      "Okay I will slove this equation.\n",
      "Okay I will slove this equation.\n",
      "Okay I will slove this equation.\n",
      "Okay I will slove this equation.\n"
     ]
    }
   ],
   "source": [
    "def fun_2(text):\n",
    "     print(text)\n",
    "     print(text)\n",
    "     print(text)\n",
    "     print(text)\n",
    "fun_2(\"Okay I will slove this equation.\") "
   ]
  },
  {
   "cell_type": "markdown",
   "id": "51577cb8",
   "metadata": {},
   "source": [
    "**METHOD 3:-**"
   ]
  },
  {
   "cell_type": "code",
   "execution_count": 14,
   "id": "f996d8ba",
   "metadata": {},
   "outputs": [
    {
     "name": "stdout",
     "output_type": "stream",
     "text": [
      "No one will stay forever.\n",
      "No one will stay forever.\n",
      "No one will stay forever.\n"
     ]
    }
   ],
   "source": [
    "def fun_3():\n",
    "    text = \"No one will stay forever.\"\n",
    "    print(text)\n",
    "    print(text)\n",
    "    print(text)\n",
    "fun_3()"
   ]
  },
  {
   "cell_type": "markdown",
   "id": "44a6b733",
   "metadata": {},
   "source": [
    "**METHOD 4:-**\n",
    "         *Defining function by using if, else, elif statements:*"
   ]
  },
  {
   "cell_type": "code",
   "execution_count": 15,
   "id": "80b3e530",
   "metadata": {},
   "outputs": [
    {
     "name": "stdout",
     "output_type": "stream",
     "text": [
      "please ennter your age: 12\n",
      "you are still young person.\n"
     ]
    }
   ],
   "source": [
    "a = int(input(\"please ennter your age: \")) \n",
    "def fun_4(age):\n",
    "    if age>=18:\n",
    "        print(\"you are an adult person..\")\n",
    "    else:\n",
    "        print(\"you are still young person.\")\n",
    "fun_4(age=a)"
   ]
  },
  {
   "cell_type": "markdown",
   "id": "0378e064",
   "metadata": {},
   "source": [
    "**METHOD 5:-**\n",
    "        *Defining a function for future:*"
   ]
  },
  {
   "cell_type": "code",
   "execution_count": 16,
   "id": "f51876a0",
   "metadata": {},
   "outputs": [
    {
     "name": "stdout",
     "output_type": "stream",
     "text": [
      "please enter your age: 43\n",
      "Your age after 20 years will be : 63\n"
     ]
    }
   ],
   "source": [
    "a = int(input(\"please enter your age: \")) \n",
    "def fun_5(age):\n",
    "    age = age +20\n",
    "    print(\"Your age after 20 years will be :\",age) \n",
    "fun_5(age = a)"
   ]
  },
  {
   "cell_type": "markdown",
   "id": "b3543ac2",
   "metadata": {},
   "source": [
    "### **12: Import libraries:-**"
   ]
  },
  {
   "cell_type": "code",
   "execution_count": 17,
   "id": "cca51517",
   "metadata": {},
   "outputs": [
    {
     "name": "stdout",
     "output_type": "stream",
     "text": [
      "0.5253219888177297\n",
      "50.88991104279499\n"
     ]
    }
   ],
   "source": [
    "import math\n",
    "import statistics\n",
    "\n",
    "a = int(45)\n",
    "print(math.cos(a))\n",
    "\n",
    "b= [55,99,88,66,77,33,11]\n",
    "print(statistics.geometric_mean(b))"
   ]
  },
  {
   "cell_type": "markdown",
   "id": "c3d89754",
   "metadata": {},
   "source": [
    "### **13: Trouble shoot :-**\n",
    "\n",
    "**Troubleshooting is defined as the process that allows programmers to identify issues occurring within a given system.** "
   ]
  },
  {
   "cell_type": "markdown",
   "id": "fe62a94b",
   "metadata": {},
   "source": [
    "*There are three typese of trouble shoot errors:*\n",
    "\n",
    "*1: Syntax error.*\n",
    "\n",
    "*2: Runtime error.*\n",
    "\n",
    "*3: Symantic error.*"
   ]
  },
  {
   "cell_type": "markdown",
   "id": "4974ad3e",
   "metadata": {},
   "source": [
    "**I have completed this jupyter notebook tutorial saved as HTML.**"
   ]
  }
 ],
 "metadata": {
  "kernelspec": {
   "display_name": "Python 3 (ipykernel)",
   "language": "python",
   "name": "python3"
  },
  "language_info": {
   "codemirror_mode": {
    "name": "ipython",
    "version": 3
   },
   "file_extension": ".py",
   "mimetype": "text/x-python",
   "name": "python",
   "nbconvert_exporter": "python",
   "pygments_lexer": "ipython3",
   "version": "3.9.12"
  }
 },
 "nbformat": 4,
 "nbformat_minor": 5
}
